{
 "cells": [
  {
   "cell_type": "code",
   "execution_count": 2,
   "metadata": {},
   "outputs": [],
   "source": [
    "import pandas as pd\n",
    "import numpy as np\n",
    "import datetime as dt\n",
    "from datetime import datetime\n",
    "from datetime import datetime\n",
    "import matplotlib.pyplot as plt\n",
    "%matplotlib inline\n",
    "%config InlineBackend.figure_format = 'retina'\n",
    "\n",
    "pd.set_option('display.max_columns', None)\n",
    "pd.set_option('display.max_rows', None)"
   ]
  },
  {
   "cell_type": "markdown",
   "metadata": {},
   "source": [
    "<h4>Load data</h4>"
   ]
  },
  {
   "cell_type": "code",
   "execution_count": 3,
   "metadata": {},
   "outputs": [],
   "source": [
    "# load improvements data (has year built)\n",
    "improvements_df = pd.read_csv('data/improvements.csv')\n",
    "\n",
    "# load electricity consumption data\n",
    "kwh_address_df = pd.read_csv('data/GRU_Customer_Electric_Consumption.csv')\n",
    "\n",
    "# load permit data\n",
    "permit_df = pd.read_csv('data/Building_Permits.csv')"
   ]
  },
  {
   "cell_type": "markdown",
   "metadata": {},
   "source": [
    "<h4>Drop duplicate Parcel rows with no year built value"
   ]
  },
  {
   "cell_type": "code",
   "execution_count": 4,
   "metadata": {},
   "outputs": [],
   "source": [
    "# remove duplicate rows with the same Parcel\n",
    "improvements_df = improvements_df.drop_duplicates(subset=['Parcel'], keep='first')"
   ]
  },
  {
   "cell_type": "code",
   "execution_count": 5,
   "metadata": {},
   "outputs": [
    {
     "data": {
      "text/plain": [
       "Index(['Parcel', 'prop_id', 'TaxYear', 'Imprv_ID', 'Imprv_Type', 'Imprv_Desc',\n",
       "       'Effective_YrBlt', 'Actual_YrBlt', 'Bldg_Num', 'Heated_SquareFeet',\n",
       "       'Stories'],\n",
       "      dtype='object')"
      ]
     },
     "execution_count": 5,
     "metadata": {},
     "output_type": "execute_result"
    }
   ],
   "source": [
    "improvements_df.columns"
   ]
  },
  {
   "cell_type": "code",
   "execution_count": 6,
   "metadata": {},
   "outputs": [
    {
     "data": {
      "text/plain": [
       "Index(['Permit', 'Classification', 'Parcel Number', 'Contractor Last Name',\n",
       "       'Contractor First Name', 'Business', 'Primary Party', 'Submit', 'Issue',\n",
       "       'Address', 'Longitude', 'Latitude', 'Location', 'Location (city)',\n",
       "       'Location (state)'],\n",
       "      dtype='object')"
      ]
     },
     "execution_count": 6,
     "metadata": {},
     "output_type": "execute_result"
    }
   ],
   "source": [
    "permit_df.columns"
   ]
  },
  {
   "cell_type": "markdown",
   "metadata": {},
   "source": [
    "<h4>Groupby address in kwh consumption df and aggregate by mean kwh consumption</h4>"
   ]
  },
  {
   "cell_type": "code",
   "execution_count": 7,
   "metadata": {},
   "outputs": [],
   "source": [
    "# select numerical features \n",
    "df_address_kwh = kwh_address_df[['Service Address', 'KWH Consumption', 'Date', 'Latitude', 'Longitude']]"
   ]
  },
  {
   "cell_type": "code",
   "execution_count": 8,
   "metadata": {},
   "outputs": [],
   "source": [
    "df_address_kwh_index = df_address_kwh.set_index('Service Address')"
   ]
  },
  {
   "cell_type": "code",
   "execution_count": 11,
   "metadata": {},
   "outputs": [],
   "source": [
    "# groupby address and aggregate by mean kwh consumption of each address\n",
    "grouped_address = df_address_kwh[['Service Address', 'KWH Consumption']].groupby('Service Address')['KWH Consumption'].agg('mean')"
   ]
  },
  {
   "cell_type": "code",
   "execution_count": 12,
   "metadata": {},
   "outputs": [],
   "source": [
    "# convert grouped_address to a df\n",
    "grouped_address = grouped_address.to_frame()"
   ]
  },
  {
   "cell_type": "markdown",
   "metadata": {},
   "source": [
    "#### Rejoin to include lat and long"
   ]
  },
  {
   "cell_type": "code",
   "execution_count": 57,
   "metadata": {},
   "outputs": [],
   "source": [
    "# join consumption df with original df to include lat and long\n",
    "grouped_address_ll = grouped_address.join(df_address_kwh_index, how='left', lsuffix='Service Address', rsuffix='Service Address')"
   ]
  },
  {
   "cell_type": "code",
   "execution_count": 58,
   "metadata": {},
   "outputs": [],
   "source": [
    "# remove address as index\n",
    "grouped_address_ll = grouped_address_ll.reset_index()"
   ]
  },
  {
   "cell_type": "code",
   "execution_count": 59,
   "metadata": {},
   "outputs": [],
   "source": [
    "# remove duplicate observations for the same address\n",
    "grouped_address_ll = grouped_address_ll.drop_duplicates(subset=['Service Address'], keep='first')"
   ]
  },
  {
   "cell_type": "markdown",
   "metadata": {},
   "source": [
    "<h4>Merge improvements and permit dataframes on parcel number</h4>"
   ]
  },
  {
   "cell_type": "code",
   "execution_count": 61,
   "metadata": {},
   "outputs": [],
   "source": [
    "\n",
    "# merge improvements and parcel dataframes on parcel id\n",
    "df_prop_id = pd.merge(permit_df, improvements_df, how='inner', left_on='Parcel Number', right_on='Parcel')\n"
   ]
  },
  {
   "cell_type": "code",
   "execution_count": 226,
   "metadata": {},
   "outputs": [],
   "source": [
    "# 86,235 improvements_df\n",
    "# 12,366 permit_df\n",
    "# 12,203 df_prop_id\n",
    "# 100,313 grouped_address_11"
   ]
  },
  {
   "cell_type": "markdown",
   "metadata": {},
   "source": [
    "<h4>Merge improvements / permits df with electricity consumption df</h4>"
   ]
  },
  {
   "cell_type": "code",
   "execution_count": 62,
   "metadata": {},
   "outputs": [],
   "source": [
    "df_prop_id = df_prop_id.set_index('Address')"
   ]
  },
  {
   "cell_type": "code",
   "execution_count": 63,
   "metadata": {},
   "outputs": [
    {
     "name": "stdout",
     "output_type": "stream",
     "text": [
      "<class 'pandas.core.frame.DataFrame'>\n",
      "Int64Index: 100313 entries, 0 to 9291096\n",
      "Data columns (total 6 columns):\n",
      " #   Column                          Non-Null Count   Dtype  \n",
      "---  ------                          --------------   -----  \n",
      " 0   Service Address                 100313 non-null  object \n",
      " 1   KWH ConsumptionService Address  100313 non-null  float64\n",
      " 2   KWH ConsumptionService Address  100306 non-null  float64\n",
      " 3   Date                            100313 non-null  object \n",
      " 4   Latitude                        100313 non-null  float64\n",
      " 5   Longitude                       100313 non-null  float64\n",
      "dtypes: float64(4), object(2)\n",
      "memory usage: 5.4+ MB\n"
     ]
    }
   ],
   "source": [
    "grouped_address_ll.info()"
   ]
  },
  {
   "cell_type": "code",
   "execution_count": 64,
   "metadata": {},
   "outputs": [],
   "source": [
    "# merge permits/imrpovements dataframe with electricity consumption df on lat and long\n",
    "df_kwh_prop_id = pd.merge(df_prop_id, grouped_address_ll, how='inner', left_on=['Address'], right_on=['Service Address'])"
   ]
  },
  {
   "cell_type": "code",
   "execution_count": 65,
   "metadata": {},
   "outputs": [],
   "source": [
    "# select numerical features \n",
    "df_kwh_prop_num = df_kwh_prop_id[['Service Address', 'KWH ConsumptionService Address', 'KWH ConsumptionService Address', 'Latitude_x', 'Longitude_x', 'Parcel Number', 'prop_id', 'Effective_YrBlt', 'Heated_SquareFeet', 'Stories']]\n"
   ]
  },
  {
   "cell_type": "code",
   "execution_count": 45,
   "metadata": {},
   "outputs": [],
   "source": [
    "# make address index\n",
    "# df_kwh_prop_num = df_kwh_prop_num.set_index('Service Address')\n",
    "# df_kwh_prop_num.head()"
   ]
  },
  {
   "cell_type": "code",
   "execution_count": 71,
   "metadata": {},
   "outputs": [],
   "source": [
    "# # convert date column to datetime\n",
    "# df_kwh_prop_num['Date'] = pd.to_datetime(df_kwh_prop_num['Date'])"
   ]
  },
  {
   "cell_type": "code",
   "execution_count": 66,
   "metadata": {},
   "outputs": [],
   "source": [
    "# drop repeated columns\n",
    "df_kwh_prop_num = df_kwh_prop_num.loc[:, ~df_kwh_prop_num.columns.duplicated()]"
   ]
  },
  {
   "cell_type": "code",
   "execution_count": 67,
   "metadata": {},
   "outputs": [
    {
     "name": "stdout",
     "output_type": "stream",
     "text": [
      "<class 'pandas.core.frame.DataFrame'>\n",
      "Int64Index: 10838 entries, 0 to 10837\n",
      "Data columns (total 9 columns):\n",
      " #   Column                          Non-Null Count  Dtype  \n",
      "---  ------                          --------------  -----  \n",
      " 0   Service Address                 10838 non-null  object \n",
      " 1   KWH ConsumptionService Address  10838 non-null  float64\n",
      " 2   Latitude_x                      10838 non-null  float64\n",
      " 3   Longitude_x                     10838 non-null  float64\n",
      " 4   Parcel Number                   10838 non-null  object \n",
      " 5   prop_id                         10838 non-null  int64  \n",
      " 6   Effective_YrBlt                 10795 non-null  float64\n",
      " 7   Heated_SquareFeet               10795 non-null  float64\n",
      " 8   Stories                         10795 non-null  float64\n",
      "dtypes: float64(6), int64(1), object(2)\n",
      "memory usage: 846.7+ KB\n"
     ]
    }
   ],
   "source": [
    "df_kwh_prop_num.info()"
   ]
  },
  {
   "cell_type": "code",
   "execution_count": 471,
   "metadata": {},
   "outputs": [],
   "source": [
    "# df_kwh_prop_num = df_kwh_prop_num.drop(columns=['LATITUDE', 'LONGITUDE'])"
   ]
  },
  {
   "cell_type": "code",
   "execution_count": 49,
   "metadata": {},
   "outputs": [],
   "source": [
    "# #reset index to address\n",
    "# df_kwh_prop_num = df_kwh_prop_num.set_index('Service Address')"
   ]
  },
  {
   "cell_type": "code",
   "execution_count": 68,
   "metadata": {},
   "outputs": [],
   "source": [
    "# rename kwh column\n",
    "df_kwh_prop_num = df_kwh_prop_num.rename(columns={'KWH ConsumptionService Address': 'avg_kwh'})"
   ]
  },
  {
   "cell_type": "code",
   "execution_count": 69,
   "metadata": {},
   "outputs": [
    {
     "data": {
      "text/html": [
       "<div>\n",
       "<style scoped>\n",
       "    .dataframe tbody tr th:only-of-type {\n",
       "        vertical-align: middle;\n",
       "    }\n",
       "\n",
       "    .dataframe tbody tr th {\n",
       "        vertical-align: top;\n",
       "    }\n",
       "\n",
       "    .dataframe thead th {\n",
       "        text-align: right;\n",
       "    }\n",
       "</style>\n",
       "<table border=\"1\" class=\"dataframe\">\n",
       "  <thead>\n",
       "    <tr style=\"text-align: right;\">\n",
       "      <th></th>\n",
       "      <th>avg_kwh</th>\n",
       "      <th>Latitude_x</th>\n",
       "      <th>Longitude_x</th>\n",
       "      <th>prop_id</th>\n",
       "      <th>Effective_YrBlt</th>\n",
       "      <th>Heated_SquareFeet</th>\n",
       "      <th>Stories</th>\n",
       "    </tr>\n",
       "  </thead>\n",
       "  <tbody>\n",
       "    <tr>\n",
       "      <th>count</th>\n",
       "      <td>1.083800e+04</td>\n",
       "      <td>10838.000000</td>\n",
       "      <td>10838.000000</td>\n",
       "      <td>10838.000000</td>\n",
       "      <td>10795.000000</td>\n",
       "      <td>10795.000000</td>\n",
       "      <td>10795.000000</td>\n",
       "    </tr>\n",
       "    <tr>\n",
       "      <th>mean</th>\n",
       "      <td>3.671487e+03</td>\n",
       "      <td>29.668489</td>\n",
       "      <td>-82.355934</td>\n",
       "      <td>61141.730670</td>\n",
       "      <td>1985.250579</td>\n",
       "      <td>5286.335063</td>\n",
       "      <td>1.227235</td>\n",
       "    </tr>\n",
       "    <tr>\n",
       "      <th>std</th>\n",
       "      <td>2.753000e+04</td>\n",
       "      <td>0.026774</td>\n",
       "      <td>0.029987</td>\n",
       "      <td>19772.177616</td>\n",
       "      <td>10.355499</td>\n",
       "      <td>23628.662513</td>\n",
       "      <td>0.566137</td>\n",
       "    </tr>\n",
       "    <tr>\n",
       "      <th>min</th>\n",
       "      <td>0.000000e+00</td>\n",
       "      <td>29.600763</td>\n",
       "      <td>-82.449689</td>\n",
       "      <td>30107.000000</td>\n",
       "      <td>1900.000000</td>\n",
       "      <td>1.000000</td>\n",
       "      <td>1.000000</td>\n",
       "    </tr>\n",
       "    <tr>\n",
       "      <th>25%</th>\n",
       "      <td>6.141441e+02</td>\n",
       "      <td>29.651957</td>\n",
       "      <td>-82.379326</td>\n",
       "      <td>41110.000000</td>\n",
       "      <td>1978.000000</td>\n",
       "      <td>1266.000000</td>\n",
       "      <td>1.000000</td>\n",
       "    </tr>\n",
       "    <tr>\n",
       "      <th>50%</th>\n",
       "      <td>8.392524e+02</td>\n",
       "      <td>29.668118</td>\n",
       "      <td>-82.361523</td>\n",
       "      <td>57498.000000</td>\n",
       "      <td>1984.000000</td>\n",
       "      <td>1708.000000</td>\n",
       "      <td>1.000000</td>\n",
       "    </tr>\n",
       "    <tr>\n",
       "      <th>75%</th>\n",
       "      <td>1.228148e+03</td>\n",
       "      <td>29.687321</td>\n",
       "      <td>-82.334802</td>\n",
       "      <td>79373.500000</td>\n",
       "      <td>1993.000000</td>\n",
       "      <td>2587.000000</td>\n",
       "      <td>1.000000</td>\n",
       "    </tr>\n",
       "    <tr>\n",
       "      <th>max</th>\n",
       "      <td>1.057792e+06</td>\n",
       "      <td>29.735946</td>\n",
       "      <td>-82.258350</td>\n",
       "      <td>105280.000000</td>\n",
       "      <td>2019.000000</td>\n",
       "      <td>266422.000000</td>\n",
       "      <td>5.000000</td>\n",
       "    </tr>\n",
       "  </tbody>\n",
       "</table>\n",
       "</div>"
      ],
      "text/plain": [
       "            avg_kwh    Latitude_x   Longitude_x        prop_id  \\\n",
       "count  1.083800e+04  10838.000000  10838.000000   10838.000000   \n",
       "mean   3.671487e+03     29.668489    -82.355934   61141.730670   \n",
       "std    2.753000e+04      0.026774      0.029987   19772.177616   \n",
       "min    0.000000e+00     29.600763    -82.449689   30107.000000   \n",
       "25%    6.141441e+02     29.651957    -82.379326   41110.000000   \n",
       "50%    8.392524e+02     29.668118    -82.361523   57498.000000   \n",
       "75%    1.228148e+03     29.687321    -82.334802   79373.500000   \n",
       "max    1.057792e+06     29.735946    -82.258350  105280.000000   \n",
       "\n",
       "       Effective_YrBlt  Heated_SquareFeet       Stories  \n",
       "count     10795.000000       10795.000000  10795.000000  \n",
       "mean       1985.250579        5286.335063      1.227235  \n",
       "std          10.355499       23628.662513      0.566137  \n",
       "min        1900.000000           1.000000      1.000000  \n",
       "25%        1978.000000        1266.000000      1.000000  \n",
       "50%        1984.000000        1708.000000      1.000000  \n",
       "75%        1993.000000        2587.000000      1.000000  \n",
       "max        2019.000000      266422.000000      5.000000  "
      ]
     },
     "execution_count": 69,
     "metadata": {},
     "output_type": "execute_result"
    }
   ],
   "source": [
    "df_kwh_prop_num.describe()"
   ]
  },
  {
   "cell_type": "code",
   "execution_count": 70,
   "metadata": {},
   "outputs": [],
   "source": [
    "df_kwh_prop_num_copy = df_kwh_prop_num\n",
    "df_kwh_prop_num_copy = df_kwh_prop_num_copy.dropna()"
   ]
  },
  {
   "cell_type": "code",
   "execution_count": 71,
   "metadata": {},
   "outputs": [],
   "source": [
    "df_kwh_prop_num_copy = df_kwh_prop_num_copy.reset_index()"
   ]
  },
  {
   "cell_type": "markdown",
   "metadata": {},
   "source": [
    "<H2>EDA</h2>"
   ]
  },
  {
   "cell_type": "code",
   "execution_count": 72,
   "metadata": {},
   "outputs": [],
   "source": [
    "buildings_year = df_kwh_prop_num_copy[['Effective_YrBlt', 'Service Address']].groupby('Effective_YrBlt').agg('count')"
   ]
  },
  {
   "cell_type": "code",
   "execution_count": 74,
   "metadata": {},
   "outputs": [
    {
     "data": {
      "image/png": "[encoded data removed]",
      "text/plain": [
       "<Figure size 432x288 with 1 Axes>"
      ]
     },
     "metadata": {
      "image/png": {
       "height": 277,
       "width": 388
      },
      "needs_background": "light"
     },
     "output_type": "display_data"
    }
   ],
   "source": [
    "# count of buildings for each year\n",
    "\n",
    "x = buildings_year.index\n",
    "\n",
    "fig, ax = plt.subplots()\n",
    "\n",
    "ax.bar(x, buildings_year['Service Address'])\n",
    "ax.set_title('Count of Buildings Built Per Year')\n",
    "ax.set_xlabel('Effective Year Built')\n",
    "ax.set_ylabel('Count of buildings built')\n",
    "plt.savefig('images/building_count_by_year.png')"
   ]
  },
  {
   "cell_type": "markdown",
   "metadata": {},
   "source": [
    "<h4>Create a feature for avg kwh / heated square feet</H4>"
   ]
  },
  {
   "cell_type": "code",
   "execution_count": 75,
   "metadata": {},
   "outputs": [],
   "source": [
    "df_kwh_prop_num_copy['kwh_per_sqft'] = df_kwh_prop_num_copy['avg_kwh'] / df_kwh_prop_num_copy['Heated_SquareFeet']\n"
   ]
  },
  {
   "cell_type": "code",
   "execution_count": 534,
   "metadata": {},
   "outputs": [],
   "source": [
    "# df_kwh_prop_num_copy_ol = df_kwh_prop_num_copy_ol.drop(columns ='kwh_sqft')"
   ]
  },
  {
   "cell_type": "code",
   "execution_count": 76,
   "metadata": {},
   "outputs": [
    {
     "data": {
      "text/html": [
       "<div>\n",
       "<style scoped>\n",
       "    .dataframe tbody tr th:only-of-type {\n",
       "        vertical-align: middle;\n",
       "    }\n",
       "\n",
       "    .dataframe tbody tr th {\n",
       "        vertical-align: top;\n",
       "    }\n",
       "\n",
       "    .dataframe thead th {\n",
       "        text-align: right;\n",
       "    }\n",
       "</style>\n",
       "<table border=\"1\" class=\"dataframe\">\n",
       "  <thead>\n",
       "    <tr style=\"text-align: right;\">\n",
       "      <th></th>\n",
       "      <th>index</th>\n",
       "      <th>avg_kwh</th>\n",
       "      <th>Latitude_x</th>\n",
       "      <th>Longitude_x</th>\n",
       "      <th>prop_id</th>\n",
       "      <th>Effective_YrBlt</th>\n",
       "      <th>Heated_SquareFeet</th>\n",
       "      <th>Stories</th>\n",
       "      <th>kwh_per_sqft</th>\n",
       "    </tr>\n",
       "  </thead>\n",
       "  <tbody>\n",
       "    <tr>\n",
       "      <th>count</th>\n",
       "      <td>10795.000000</td>\n",
       "      <td>1.079500e+04</td>\n",
       "      <td>10795.000000</td>\n",
       "      <td>10795.000000</td>\n",
       "      <td>10795.000000</td>\n",
       "      <td>10795.000000</td>\n",
       "      <td>10795.000000</td>\n",
       "      <td>10795.000000</td>\n",
       "      <td>10795.000000</td>\n",
       "    </tr>\n",
       "    <tr>\n",
       "      <th>mean</th>\n",
       "      <td>5423.505975</td>\n",
       "      <td>3.594948e+03</td>\n",
       "      <td>29.668492</td>\n",
       "      <td>-82.355931</td>\n",
       "      <td>61117.447429</td>\n",
       "      <td>1985.250579</td>\n",
       "      <td>5286.335063</td>\n",
       "      <td>1.227235</td>\n",
       "      <td>115.694041</td>\n",
       "    </tr>\n",
       "    <tr>\n",
       "      <th>std</th>\n",
       "      <td>3129.658208</td>\n",
       "      <td>2.752341e+04</td>\n",
       "      <td>0.026783</td>\n",
       "      <td>0.029926</td>\n",
       "      <td>19772.162720</td>\n",
       "      <td>10.355499</td>\n",
       "      <td>23628.662513</td>\n",
       "      <td>0.566137</td>\n",
       "      <td>7493.844909</td>\n",
       "    </tr>\n",
       "    <tr>\n",
       "      <th>min</th>\n",
       "      <td>0.000000</td>\n",
       "      <td>0.000000e+00</td>\n",
       "      <td>29.600763</td>\n",
       "      <td>-82.449689</td>\n",
       "      <td>30107.000000</td>\n",
       "      <td>1900.000000</td>\n",
       "      <td>1.000000</td>\n",
       "      <td>1.000000</td>\n",
       "      <td>0.000000</td>\n",
       "    </tr>\n",
       "    <tr>\n",
       "      <th>25%</th>\n",
       "      <td>2716.500000</td>\n",
       "      <td>6.136699e+02</td>\n",
       "      <td>29.651957</td>\n",
       "      <td>-82.379307</td>\n",
       "      <td>41110.000000</td>\n",
       "      <td>1978.000000</td>\n",
       "      <td>1266.000000</td>\n",
       "      <td>1.000000</td>\n",
       "      <td>0.362735</td>\n",
       "    </tr>\n",
       "    <tr>\n",
       "      <th>50%</th>\n",
       "      <td>5426.000000</td>\n",
       "      <td>8.373951e+02</td>\n",
       "      <td>29.668119</td>\n",
       "      <td>-82.361547</td>\n",
       "      <td>57496.000000</td>\n",
       "      <td>1984.000000</td>\n",
       "      <td>1708.000000</td>\n",
       "      <td>1.000000</td>\n",
       "      <td>0.506526</td>\n",
       "    </tr>\n",
       "    <tr>\n",
       "      <th>75%</th>\n",
       "      <td>8136.500000</td>\n",
       "      <td>1.222437e+03</td>\n",
       "      <td>29.687272</td>\n",
       "      <td>-82.334806</td>\n",
       "      <td>79370.000000</td>\n",
       "      <td>1993.000000</td>\n",
       "      <td>2587.000000</td>\n",
       "      <td>1.000000</td>\n",
       "      <td>0.692305</td>\n",
       "    </tr>\n",
       "    <tr>\n",
       "      <th>max</th>\n",
       "      <td>10837.000000</td>\n",
       "      <td>1.057792e+06</td>\n",
       "      <td>29.735946</td>\n",
       "      <td>-82.258350</td>\n",
       "      <td>94024.000000</td>\n",
       "      <td>2019.000000</td>\n",
       "      <td>266422.000000</td>\n",
       "      <td>5.000000</td>\n",
       "      <td>745121.985455</td>\n",
       "    </tr>\n",
       "  </tbody>\n",
       "</table>\n",
       "</div>"
      ],
      "text/plain": [
       "              index       avg_kwh    Latitude_x   Longitude_x       prop_id  \\\n",
       "count  10795.000000  1.079500e+04  10795.000000  10795.000000  10795.000000   \n",
       "mean    5423.505975  3.594948e+03     29.668492    -82.355931  61117.447429   \n",
       "std     3129.658208  2.752341e+04      0.026783      0.029926  19772.162720   \n",
       "min        0.000000  0.000000e+00     29.600763    -82.449689  30107.000000   \n",
       "25%     2716.500000  6.136699e+02     29.651957    -82.379307  41110.000000   \n",
       "50%     5426.000000  8.373951e+02     29.668119    -82.361547  57496.000000   \n",
       "75%     8136.500000  1.222437e+03     29.687272    -82.334806  79370.000000   \n",
       "max    10837.000000  1.057792e+06     29.735946    -82.258350  94024.000000   \n",
       "\n",
       "       Effective_YrBlt  Heated_SquareFeet       Stories   kwh_per_sqft  \n",
       "count     10795.000000       10795.000000  10795.000000   10795.000000  \n",
       "mean       1985.250579        5286.335063      1.227235     115.694041  \n",
       "std          10.355499       23628.662513      0.566137    7493.844909  \n",
       "min        1900.000000           1.000000      1.000000       0.000000  \n",
       "25%        1978.000000        1266.000000      1.000000       0.362735  \n",
       "50%        1984.000000        1708.000000      1.000000       0.506526  \n",
       "75%        1993.000000        2587.000000      1.000000       0.692305  \n",
       "max        2019.000000      266422.000000      5.000000  745121.985455  "
      ]
     },
     "execution_count": 76,
     "metadata": {},
     "output_type": "execute_result"
    }
   ],
   "source": [
    "df_kwh_prop_num_copy.describe()"
   ]
  },
  {
   "cell_type": "markdown",
   "metadata": {},
   "source": [
    "<h4>Remove outliers due to inaccuracy or being energy intensive industrial facilities</h4>"
   ]
  },
  {
   "cell_type": "code",
   "execution_count": 77,
   "metadata": {},
   "outputs": [],
   "source": [
    "# delete rows that are outliers due to Heated_SquareFeet = 1 \n",
    "df_kwh_prop_num_copy = df_kwh_prop_num_copy[df_kwh_prop_num_copy['Heated_SquareFeet'] != 1.0]\n",
    "\n",
    "# delete rows that are outliers due to being industrial (asphalt producer)\n",
    "df_kwh_prop_num_copy = df_kwh_prop_num_copy[df_kwh_prop_num_copy['Service Address'] != '2330 NW 73RD PL']\n",
    "\n",
    "# delete rows that are outliers due to inaccurate Heated_SquareFeet (office building > 900 sq ft)\n",
    "df_kwh_prop_num_copy = df_kwh_prop_num_copy[df_kwh_prop_num_copy['Service Address'] != '6020 NW 43RD ST']\n",
    "\n",
    "# delete rows that are outliers due to inaccurate Heated_SquareFeet (Cox Cable > 900 sq ft)\n",
    "df_kwh_prop_num_copy = df_kwh_prop_num_copy[df_kwh_prop_num_copy['Service Address'] != '2850 NW 43RD ST']\n",
    "\n",
    "# delete rows that are outliers due to inaccurate Heated_SquareFeet (Shopping center > 1800 sq ft)\n",
    "df_kwh_prop_num_copy = df_kwh_prop_num_copy[df_kwh_prop_num_copy['Service Address'] != '5200 SW 34TH ST']\n",
    "\n",
    "# delete rows that are outliers due being industrial manufactures (Milliken & CO flooring)\n",
    "df_kwh_prop_num_copy = df_kwh_prop_num_copy[df_kwh_prop_num_copy['Service Address'] != '5002 NE 54TH PL']\n",
    "\n",
    "# delete rows that are outliers due to inaccurate Heated_SquareFeet (medical center > 1100 sq ft)\n",
    "df_kwh_prop_num_copy = df_kwh_prop_num_copy[df_kwh_prop_num_copy['Service Address'] != '720 SW 2ND AVE']\n",
    "\n",
    "# delete rows that are outliers due to inaccurate Heated_SquareFeet (super market > 1400 sq ft)\n",
    "df_kwh_prop_num_copy = df_kwh_prop_num_copy[df_kwh_prop_num_copy['Service Address'] != '3100 SW 35TH BLVD']\n"
   ]
  },
  {
   "cell_type": "markdown",
   "metadata": {},
   "source": [
    "<h2>EDA</h2>"
   ]
  },
  {
   "cell_type": "markdown",
   "metadata": {},
   "source": [
    "<h4>Plot Energy Efficiency Over time</h4>"
   ]
  },
  {
   "cell_type": "code",
   "execution_count": 79,
   "metadata": {},
   "outputs": [
    {
     "data": {
      "image/png": "[encoded data removed]",
      "text/plain": [
       "<Figure size 432x288 with 1 Axes>"
      ]
     },
     "metadata": {
      "image/png": {
       "height": 277,
       "width": 382
      },
      "needs_background": "light"
     },
     "output_type": "display_data"
    }
   ],
   "source": [
    "# show avg kwh / heated square feet for each year\n",
    "\n",
    "x = df_kwh_prop_num_copy['Effective_YrBlt']\n",
    "y = df_kwh_prop_num_copy['kwh_per_sqft']\n",
    "\n",
    "fig, ax = plt.subplots()\n",
    "\n",
    "ax.scatter(x,y)\n",
    "ax.set_title('Energy Efficiency Over Time')\n",
    "ax.set_xlabel('Effective Year Built')\n",
    "ax.set_ylabel('monthly kwh / Heated square foot')\n",
    "ax.set_ylim([0,30])\n",
    "plt.savefig('images/efficiency_over_time.png')"
   ]
  },
  {
   "cell_type": "markdown",
   "metadata": {},
   "source": [
    "<h4>Create a feature for building code release years</h4>"
   ]
  },
  {
   "cell_type": "code",
   "execution_count": 80,
   "metadata": {},
   "outputs": [
    {
     "data": {
      "text/plain": [
       "numpy.int64"
      ]
     },
     "execution_count": 80,
     "metadata": {},
     "output_type": "execute_result"
    }
   ],
   "source": [
    "# Convert effective year built into an integer\n",
    "df_kwh_prop_num_copy['Effective_YrBlt'] = df_kwh_prop_num_copy['Effective_YrBlt'].astype(int)\n",
    "type(df_kwh_prop_num_copy['Effective_YrBlt'][3])"
   ]
  },
  {
   "cell_type": "code",
   "execution_count": 81,
   "metadata": {},
   "outputs": [
    {
     "data": {
      "text/plain": [
       "numpy.int64"
      ]
     },
     "execution_count": 81,
     "metadata": {},
     "output_type": "execute_result"
    }
   ],
   "source": [
    "# Remove - from parcel number\n",
    "df_kwh_prop_num_copy['Parcel Number'] = df_kwh_prop_num_copy['Parcel Number'].str.replace('-','')\n",
    "\n",
    "# Convert Parcel Number into an integer\n",
    "df_kwh_prop_num_copy['Parcel Number'] = df_kwh_prop_num_copy['Parcel Number'].astype(int)\n",
    "type(df_kwh_prop_num_copy['Parcel Number'][3])"
   ]
  },
  {
   "cell_type": "code",
   "execution_count": 82,
   "metadata": {},
   "outputs": [],
   "source": [
    "# uniform building code release dates - # 31 total\n",
    "release_years = [1927, 1935, 1937, 1940, 1943, 1946, 1949, 1952, 1955, 1958, 1961, 1964, 1967, 1970, 1973, 1976, 1979, 1982, 1985, 1988, 1991, 1994, 1997, 2000, 2003, 2006, 2009, 2012, 2015, 2018, 2021]\n",
    "len(release_years)\n",
    "\n",
    "# generate a feature column with release numbers corresponding to build dates for each address\n",
    "def release_year_gen(release_num, build_dates): \n",
    "    \n",
    "    # a list of building code release numbers for each effective build date\n",
    "    release_lst = []\n",
    "\n",
    "    for date in build_dates: \n",
    "        for tup in release_num: \n",
    "            #print(date, tup)\n",
    "            if date < tup[1]:\n",
    "                release_lst.append(tup[0])\n",
    "                break \n",
    "    \n",
    "    return release_lst\n"
   ]
  },
  {
   "cell_type": "code",
   "execution_count": 83,
   "metadata": {},
   "outputs": [],
   "source": [
    "\n",
    "# create list of years on which new building codes were releases\n",
    "release_years = [1927, 1935, 1937, 1940, 1943, 1946, 1949, 1952, 1955, 1958, 1961, 1964, 1967, 1970, 1973, 1976, 1979, 1982, 1985, 1988, 1991, 1994, 1997, 2000, 2003, 2006, 2009, 2012, 2015, 2018, 2021]\n",
    "\n",
    "# create a list of tuples with code release numbers (0-30) with corresponding release year\n",
    "release_num = [i for i in enumerate(release_years)]\n",
    "\n",
    "# instantiate a variable for effective year built data\n",
    "effective_build_dates = df_kwh_prop_num_copy['Effective_YrBlt']\n",
    "\n",
    "# run release_year_gen function to add code release number to df\n",
    "releases = release_year_gen(release_num, effective_build_dates)\n",
    "df_kwh_prop_num_copy['code_release'] = releases"
   ]
  },
  {
   "cell_type": "code",
   "execution_count": 198,
   "metadata": {},
   "outputs": [
    {
     "data": {
      "text/plain": [
       "[(0, 1927),\n",
       " (1, 1935),\n",
       " (2, 1937),\n",
       " (3, 1940),\n",
       " (4, 1943),\n",
       " (5, 1946),\n",
       " (6, 1949),\n",
       " (7, 1952),\n",
       " (8, 1955),\n",
       " (9, 1958),\n",
       " (10, 1961),\n",
       " (11, 1964),\n",
       " (12, 1967),\n",
       " (13, 1970),\n",
       " (14, 1973),\n",
       " (15, 1976),\n",
       " (16, 1979),\n",
       " (17, 1982),\n",
       " (18, 1985),\n",
       " (19, 1988),\n",
       " (20, 1991),\n",
       " (21, 1994),\n",
       " (22, 1997),\n",
       " (23, 2000),\n",
       " (24, 2003),\n",
       " (25, 2006),\n",
       " (26, 2009),\n",
       " (27, 2012),\n",
       " (28, 2015),\n",
       " (29, 2018),\n",
       " (30, 2021)]"
      ]
     },
     "execution_count": 198,
     "metadata": {},
     "output_type": "execute_result"
    }
   ],
   "source": [
    "release_num"
   ]
  },
  {
   "cell_type": "code",
   "execution_count": 84,
   "metadata": {},
   "outputs": [],
   "source": [
    "# rename lat and long columns\n",
    "df_kwh_prop_num_copy = df_kwh_prop_num_copy.rename(columns={'Latitude_x': 'Latitude', 'Longitude_x': 'Longitude'})"
   ]
  },
  {
   "cell_type": "code",
   "execution_count": 85,
   "metadata": {},
   "outputs": [
    {
     "data": {
      "text/html": [
       "<div>\n",
       "<style scoped>\n",
       "    .dataframe tbody tr th:only-of-type {\n",
       "        vertical-align: middle;\n",
       "    }\n",
       "\n",
       "    .dataframe tbody tr th {\n",
       "        vertical-align: top;\n",
       "    }\n",
       "\n",
       "    .dataframe thead th {\n",
       "        text-align: right;\n",
       "    }\n",
       "</style>\n",
       "<table border=\"1\" class=\"dataframe\">\n",
       "  <thead>\n",
       "    <tr style=\"text-align: right;\">\n",
       "      <th></th>\n",
       "      <th>index</th>\n",
       "      <th>Service Address</th>\n",
       "      <th>avg_kwh</th>\n",
       "      <th>Latitude</th>\n",
       "      <th>Longitude</th>\n",
       "      <th>Parcel Number</th>\n",
       "      <th>prop_id</th>\n",
       "      <th>Effective_YrBlt</th>\n",
       "      <th>Heated_SquareFeet</th>\n",
       "      <th>Stories</th>\n",
       "      <th>kwh_per_sqft</th>\n",
       "      <th>code_release</th>\n",
       "    </tr>\n",
       "  </thead>\n",
       "  <tbody>\n",
       "    <tr>\n",
       "      <th>0</th>\n",
       "      <td>0</td>\n",
       "      <td>2629 NW 55TH BLVD</td>\n",
       "      <td>726.077670</td>\n",
       "      <td>29.705149</td>\n",
       "      <td>-82.361609</td>\n",
       "      <td>6014021030</td>\n",
       "      <td>32391</td>\n",
       "      <td>1977</td>\n",
       "      <td>1498.0</td>\n",
       "      <td>1.0</td>\n",
       "      <td>0.484698</td>\n",
       "      <td>16</td>\n",
       "    </tr>\n",
       "    <tr>\n",
       "      <th>1</th>\n",
       "      <td>1</td>\n",
       "      <td>2928 NW 22ND ST</td>\n",
       "      <td>2758.873786</td>\n",
       "      <td>29.679885</td>\n",
       "      <td>-82.353693</td>\n",
       "      <td>9004018000</td>\n",
       "      <td>78433</td>\n",
       "      <td>1984</td>\n",
       "      <td>2971.0</td>\n",
       "      <td>1.0</td>\n",
       "      <td>0.928601</td>\n",
       "      <td>18</td>\n",
       "    </tr>\n",
       "    <tr>\n",
       "      <th>2</th>\n",
       "      <td>2</td>\n",
       "      <td>2928 NW 22ND ST</td>\n",
       "      <td>2758.873786</td>\n",
       "      <td>29.679885</td>\n",
       "      <td>-82.353693</td>\n",
       "      <td>9004018000</td>\n",
       "      <td>78433</td>\n",
       "      <td>1984</td>\n",
       "      <td>2971.0</td>\n",
       "      <td>1.0</td>\n",
       "      <td>0.928601</td>\n",
       "      <td>18</td>\n",
       "    </tr>\n",
       "    <tr>\n",
       "      <th>3</th>\n",
       "      <td>3</td>\n",
       "      <td>2928 NW 22ND ST</td>\n",
       "      <td>2758.873786</td>\n",
       "      <td>29.679885</td>\n",
       "      <td>-82.353693</td>\n",
       "      <td>9004018000</td>\n",
       "      <td>78433</td>\n",
       "      <td>1984</td>\n",
       "      <td>2971.0</td>\n",
       "      <td>1.0</td>\n",
       "      <td>0.928601</td>\n",
       "      <td>18</td>\n",
       "    </tr>\n",
       "    <tr>\n",
       "      <th>4</th>\n",
       "      <td>4</td>\n",
       "      <td>2928 NW 22ND ST</td>\n",
       "      <td>2758.873786</td>\n",
       "      <td>29.679885</td>\n",
       "      <td>-82.353693</td>\n",
       "      <td>9004017000</td>\n",
       "      <td>78432</td>\n",
       "      <td>2010</td>\n",
       "      <td>1222.0</td>\n",
       "      <td>2.0</td>\n",
       "      <td>2.257671</td>\n",
       "      <td>27</td>\n",
       "    </tr>\n",
       "  </tbody>\n",
       "</table>\n",
       "</div>"
      ],
      "text/plain": [
       "   index    Service Address      avg_kwh   Latitude  Longitude  Parcel Number  \\\n",
       "0      0  2629 NW 55TH BLVD   726.077670  29.705149 -82.361609     6014021030   \n",
       "1      1    2928 NW 22ND ST  2758.873786  29.679885 -82.353693     9004018000   \n",
       "2      2    2928 NW 22ND ST  2758.873786  29.679885 -82.353693     9004018000   \n",
       "3      3    2928 NW 22ND ST  2758.873786  29.679885 -82.353693     9004018000   \n",
       "4      4    2928 NW 22ND ST  2758.873786  29.679885 -82.353693     9004017000   \n",
       "\n",
       "   prop_id  Effective_YrBlt  Heated_SquareFeet  Stories  kwh_per_sqft  \\\n",
       "0    32391             1977             1498.0      1.0      0.484698   \n",
       "1    78433             1984             2971.0      1.0      0.928601   \n",
       "2    78433             1984             2971.0      1.0      0.928601   \n",
       "3    78433             1984             2971.0      1.0      0.928601   \n",
       "4    78432             2010             1222.0      2.0      2.257671   \n",
       "\n",
       "   code_release  \n",
       "0            16  \n",
       "1            18  \n",
       "2            18  \n",
       "3            18  \n",
       "4            27  "
      ]
     },
     "execution_count": 85,
     "metadata": {},
     "output_type": "execute_result"
    }
   ],
   "source": [
    "df_kwh_prop_num_copy.head()"
   ]
  },
  {
   "cell_type": "markdown",
   "metadata": {},
   "source": [
    "<H4>Export cleaned data</H4>"
   ]
  },
  {
   "cell_type": "code",
   "execution_count": 86,
   "metadata": {},
   "outputs": [],
   "source": [
    "# export clean data to the clean data dir for use in regression model training\n",
    "df_kwh_prop_num_copy.to_csv(r'clean-data/kwh_year.csv', header=True)"
   ]
  }
 ],
 "metadata": {
  "kernelspec": {
   "display_name": "Python 3",
   "language": "python",
   "name": "python3"
  },
  "language_info": {
   "codemirror_mode": {
    "name": "ipython",
    "version": 3
   },
   "file_extension": ".py",
   "mimetype": "text/x-python",
   "name": "python",
   "nbconvert_exporter": "python",
   "pygments_lexer": "ipython3",
   "version": "3.7.9"
  }
 },
 "nbformat": 4,
 "nbformat_minor": 4
}
