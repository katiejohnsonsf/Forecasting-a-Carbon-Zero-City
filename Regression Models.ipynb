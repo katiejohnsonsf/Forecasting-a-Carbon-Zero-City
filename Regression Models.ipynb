{
 "cells": [
  {
   "cell_type": "code",
   "execution_count": 1,
   "metadata": {},
   "outputs": [],
   "source": [
    "import pandas as pd\n",
    "import numpy as np\n",
    "import datetime as dt\n",
    "from datetime import datetime\n",
    "from datetime import datetime\n",
    "import matplotlib.pyplot as plt\n",
    "%matplotlib inline\n",
    "%config InlineBackend.figure_format = 'retina'\n",
    "from sklearn.pipeline import Pipeline\n",
    "from sklearn.model_selection import train_test_split, KFold\n",
    "from sklearn.neighbors import KNeighborsRegressor\n",
    "from sklearn.linear_model import Lasso\n",
    "from sklearn.linear_model import Ridge\n",
    "from sklearn.linear_model import LinearRegression\n",
    "from sklearn.metrics import mean_squared_error\n",
    "from sklearn.model_selection import cross_val_score\n",
    "from sklearn.ensemble import RandomForestRegressor\n",
    "import statsmodels.api as sm\n",
    "\n",
    "from sklearn.preprocessing import StandardScaler\n",
    "from sklearn.decomposition import PCA\n",
    "\n",
    "from sklearn import datasets, metrics, model_selection, svm\n",
    "import statsmodels.api as sm\n",
    "import shap\n",
    "\n",
    "pd.set_option('display.max_columns', None)\n",
    "pd.set_option('display.max_rows', None)"
   ]
  },
  {
   "cell_type": "markdown",
   "metadata": {},
   "source": [
    "<h4>Read in building and electical consumption data</H4>"
   ]
  },
  {
   "cell_type": "code",
   "execution_count": 41,
   "metadata": {},
   "outputs": [],
   "source": [
    "# read in electricity consumption and building data\n",
    "kwh_year_df = pd.read_csv('clean-data/kwh_year.csv')"
   ]
  },
  {
   "cell_type": "code",
   "execution_count": 42,
   "metadata": {},
   "outputs": [],
   "source": [
    "kwh_year_df = kwh_year_df.drop(columns=['Unnamed: 0', 'index'])"
   ]
  },
  {
   "cell_type": "code",
   "execution_count": 43,
   "metadata": {},
   "outputs": [],
   "source": [
    "kwh_year_df = kwh_year_df.drop(columns=['Service Address'])"
   ]
  },
  {
   "cell_type": "markdown",
   "metadata": {},
   "source": [
    "<h4>Identify colinear features</h4>"
   ]
  },
  {
   "cell_type": "code",
   "execution_count": 9,
   "metadata": {},
   "outputs": [
    {
     "data": {
      "text/html": [
       "<div>\n",
       "<style scoped>\n",
       "    .dataframe tbody tr th:only-of-type {\n",
       "        vertical-align: middle;\n",
       "    }\n",
       "\n",
       "    .dataframe tbody tr th {\n",
       "        vertical-align: top;\n",
       "    }\n",
       "\n",
       "    .dataframe thead th {\n",
       "        text-align: right;\n",
       "    }\n",
       "</style>\n",
       "<table border=\"1\" class=\"dataframe\">\n",
       "  <thead>\n",
       "    <tr style=\"text-align: right;\">\n",
       "      <th></th>\n",
       "      <th>avg_kwh</th>\n",
       "      <th>Latitude</th>\n",
       "      <th>Longitude</th>\n",
       "      <th>Parcel Number</th>\n",
       "      <th>prop_id</th>\n",
       "      <th>Effective_YrBlt</th>\n",
       "      <th>Heated_SquareFeet</th>\n",
       "      <th>Stories</th>\n",
       "      <th>kwh_per_sqft</th>\n",
       "      <th>code_release</th>\n",
       "    </tr>\n",
       "  </thead>\n",
       "  <tbody>\n",
       "    <tr>\n",
       "      <th>avg_kwh</th>\n",
       "      <td>1.000000</td>\n",
       "      <td>-0.079952</td>\n",
       "      <td>-0.018102</td>\n",
       "      <td>0.010132</td>\n",
       "      <td>0.026818</td>\n",
       "      <td>0.063023</td>\n",
       "      <td>0.185103</td>\n",
       "      <td>0.076795</td>\n",
       "      <td>0.508535</td>\n",
       "      <td>0.064757</td>\n",
       "    </tr>\n",
       "    <tr>\n",
       "      <th>Latitude</th>\n",
       "      <td>-0.079952</td>\n",
       "      <td>1.000000</td>\n",
       "      <td>-0.134391</td>\n",
       "      <td>-0.377149</td>\n",
       "      <td>-0.498860</td>\n",
       "      <td>0.046609</td>\n",
       "      <td>-0.017014</td>\n",
       "      <td>-0.136254</td>\n",
       "      <td>-0.098716</td>\n",
       "      <td>0.048259</td>\n",
       "    </tr>\n",
       "    <tr>\n",
       "      <th>Longitude</th>\n",
       "      <td>-0.018102</td>\n",
       "      <td>-0.134391</td>\n",
       "      <td>1.000000</td>\n",
       "      <td>0.680909</td>\n",
       "      <td>0.775367</td>\n",
       "      <td>-0.262894</td>\n",
       "      <td>-0.091056</td>\n",
       "      <td>-0.083666</td>\n",
       "      <td>0.010590</td>\n",
       "      <td>-0.264918</td>\n",
       "    </tr>\n",
       "    <tr>\n",
       "      <th>Parcel Number</th>\n",
       "      <td>0.010132</td>\n",
       "      <td>-0.377149</td>\n",
       "      <td>0.680909</td>\n",
       "      <td>1.000000</td>\n",
       "      <td>0.849588</td>\n",
       "      <td>-0.154652</td>\n",
       "      <td>-0.058992</td>\n",
       "      <td>0.021543</td>\n",
       "      <td>0.048703</td>\n",
       "      <td>-0.155143</td>\n",
       "    </tr>\n",
       "    <tr>\n",
       "      <th>prop_id</th>\n",
       "      <td>0.026818</td>\n",
       "      <td>-0.498860</td>\n",
       "      <td>0.775367</td>\n",
       "      <td>0.849588</td>\n",
       "      <td>1.000000</td>\n",
       "      <td>-0.215820</td>\n",
       "      <td>-0.068158</td>\n",
       "      <td>0.010378</td>\n",
       "      <td>0.055169</td>\n",
       "      <td>-0.216317</td>\n",
       "    </tr>\n",
       "    <tr>\n",
       "      <th>Effective_YrBlt</th>\n",
       "      <td>0.063023</td>\n",
       "      <td>0.046609</td>\n",
       "      <td>-0.262894</td>\n",
       "      <td>-0.154652</td>\n",
       "      <td>-0.215820</td>\n",
       "      <td>1.000000</td>\n",
       "      <td>0.028064</td>\n",
       "      <td>0.024884</td>\n",
       "      <td>0.069811</td>\n",
       "      <td>0.993516</td>\n",
       "    </tr>\n",
       "    <tr>\n",
       "      <th>Heated_SquareFeet</th>\n",
       "      <td>0.185103</td>\n",
       "      <td>-0.017014</td>\n",
       "      <td>-0.091056</td>\n",
       "      <td>-0.058992</td>\n",
       "      <td>-0.068158</td>\n",
       "      <td>0.028064</td>\n",
       "      <td>1.000000</td>\n",
       "      <td>0.474447</td>\n",
       "      <td>-0.035214</td>\n",
       "      <td>0.030020</td>\n",
       "    </tr>\n",
       "    <tr>\n",
       "      <th>Stories</th>\n",
       "      <td>0.076795</td>\n",
       "      <td>-0.136254</td>\n",
       "      <td>-0.083666</td>\n",
       "      <td>0.021543</td>\n",
       "      <td>0.010378</td>\n",
       "      <td>0.024884</td>\n",
       "      <td>0.474447</td>\n",
       "      <td>1.000000</td>\n",
       "      <td>-0.067929</td>\n",
       "      <td>0.029459</td>\n",
       "    </tr>\n",
       "    <tr>\n",
       "      <th>kwh_per_sqft</th>\n",
       "      <td>0.508535</td>\n",
       "      <td>-0.098716</td>\n",
       "      <td>0.010590</td>\n",
       "      <td>0.048703</td>\n",
       "      <td>0.055169</td>\n",
       "      <td>0.069811</td>\n",
       "      <td>-0.035214</td>\n",
       "      <td>-0.067929</td>\n",
       "      <td>1.000000</td>\n",
       "      <td>0.067824</td>\n",
       "    </tr>\n",
       "    <tr>\n",
       "      <th>code_release</th>\n",
       "      <td>0.064757</td>\n",
       "      <td>0.048259</td>\n",
       "      <td>-0.264918</td>\n",
       "      <td>-0.155143</td>\n",
       "      <td>-0.216317</td>\n",
       "      <td>0.993516</td>\n",
       "      <td>0.030020</td>\n",
       "      <td>0.029459</td>\n",
       "      <td>0.067824</td>\n",
       "      <td>1.000000</td>\n",
       "    </tr>\n",
       "  </tbody>\n",
       "</table>\n",
       "</div>"
      ],
      "text/plain": [
       "                    avg_kwh  Latitude  Longitude  Parcel Number   prop_id  \\\n",
       "avg_kwh            1.000000 -0.079952  -0.018102       0.010132  0.026818   \n",
       "Latitude          -0.079952  1.000000  -0.134391      -0.377149 -0.498860   \n",
       "Longitude         -0.018102 -0.134391   1.000000       0.680909  0.775367   \n",
       "Parcel Number      0.010132 -0.377149   0.680909       1.000000  0.849588   \n",
       "prop_id            0.026818 -0.498860   0.775367       0.849588  1.000000   \n",
       "Effective_YrBlt    0.063023  0.046609  -0.262894      -0.154652 -0.215820   \n",
       "Heated_SquareFeet  0.185103 -0.017014  -0.091056      -0.058992 -0.068158   \n",
       "Stories            0.076795 -0.136254  -0.083666       0.021543  0.010378   \n",
       "kwh_per_sqft       0.508535 -0.098716   0.010590       0.048703  0.055169   \n",
       "code_release       0.064757  0.048259  -0.264918      -0.155143 -0.216317   \n",
       "\n",
       "                   Effective_YrBlt  Heated_SquareFeet   Stories  kwh_per_sqft  \\\n",
       "avg_kwh                   0.063023           0.185103  0.076795      0.508535   \n",
       "Latitude                  0.046609          -0.017014 -0.136254     -0.098716   \n",
       "Longitude                -0.262894          -0.091056 -0.083666      0.010590   \n",
       "Parcel Number            -0.154652          -0.058992  0.021543      0.048703   \n",
       "prop_id                  -0.215820          -0.068158  0.010378      0.055169   \n",
       "Effective_YrBlt           1.000000           0.028064  0.024884      0.069811   \n",
       "Heated_SquareFeet         0.028064           1.000000  0.474447     -0.035214   \n",
       "Stories                   0.024884           0.474447  1.000000     -0.067929   \n",
       "kwh_per_sqft              0.069811          -0.035214 -0.067929      1.000000   \n",
       "code_release              0.993516           0.030020  0.029459      0.067824   \n",
       "\n",
       "                   code_release  \n",
       "avg_kwh                0.064757  \n",
       "Latitude               0.048259  \n",
       "Longitude             -0.264918  \n",
       "Parcel Number         -0.155143  \n",
       "prop_id               -0.216317  \n",
       "Effective_YrBlt        0.993516  \n",
       "Heated_SquareFeet      0.030020  \n",
       "Stories                0.029459  \n",
       "kwh_per_sqft           0.067824  \n",
       "code_release           1.000000  "
      ]
     },
     "execution_count": 9,
     "metadata": {},
     "output_type": "execute_result"
    }
   ],
   "source": [
    "kwh_year_df.corr()"
   ]
  },
  {
   "cell_type": "markdown",
   "metadata": {},
   "source": [
    "<h4>Remove colinear features</h4>"
   ]
  },
  {
   "cell_type": "code",
   "execution_count": 10,
   "metadata": {},
   "outputs": [
    {
     "data": {
      "text/plain": [
       "Index(['avg_kwh', 'Latitude', 'Longitude', 'Heated_SquareFeet', 'kwh_per_sqft',\n",
       "       'code_release'],\n",
       "      dtype='object')"
      ]
     },
     "execution_count": 10,
     "metadata": {},
     "output_type": "execute_result"
    }
   ],
   "source": [
    "col_kwh_year_df = kwh_year_df.drop(columns=['prop_id', 'Parcel Number', 'Effective_YrBlt', 'Stories']) \n",
    "col_kwh_year_df.columns"
   ]
  },
  {
   "cell_type": "code",
   "execution_count": 11,
   "metadata": {},
   "outputs": [
    {
     "data": {
      "text/html": [
       "<div>\n",
       "<style scoped>\n",
       "    .dataframe tbody tr th:only-of-type {\n",
       "        vertical-align: middle;\n",
       "    }\n",
       "\n",
       "    .dataframe tbody tr th {\n",
       "        vertical-align: top;\n",
       "    }\n",
       "\n",
       "    .dataframe thead th {\n",
       "        text-align: right;\n",
       "    }\n",
       "</style>\n",
       "<table border=\"1\" class=\"dataframe\">\n",
       "  <thead>\n",
       "    <tr style=\"text-align: right;\">\n",
       "      <th></th>\n",
       "      <th>avg_kwh</th>\n",
       "      <th>Latitude</th>\n",
       "      <th>Longitude</th>\n",
       "      <th>Heated_SquareFeet</th>\n",
       "      <th>kwh_per_sqft</th>\n",
       "      <th>code_release</th>\n",
       "    </tr>\n",
       "  </thead>\n",
       "  <tbody>\n",
       "    <tr>\n",
       "      <th>0</th>\n",
       "      <td>726.077670</td>\n",
       "      <td>29.705149</td>\n",
       "      <td>-82.361609</td>\n",
       "      <td>1498.0</td>\n",
       "      <td>0.484698</td>\n",
       "      <td>16</td>\n",
       "    </tr>\n",
       "    <tr>\n",
       "      <th>1</th>\n",
       "      <td>2758.873786</td>\n",
       "      <td>29.679885</td>\n",
       "      <td>-82.353693</td>\n",
       "      <td>2971.0</td>\n",
       "      <td>0.928601</td>\n",
       "      <td>18</td>\n",
       "    </tr>\n",
       "    <tr>\n",
       "      <th>2</th>\n",
       "      <td>2758.873786</td>\n",
       "      <td>29.679885</td>\n",
       "      <td>-82.353693</td>\n",
       "      <td>2971.0</td>\n",
       "      <td>0.928601</td>\n",
       "      <td>18</td>\n",
       "    </tr>\n",
       "    <tr>\n",
       "      <th>3</th>\n",
       "      <td>2758.873786</td>\n",
       "      <td>29.679885</td>\n",
       "      <td>-82.353693</td>\n",
       "      <td>2971.0</td>\n",
       "      <td>0.928601</td>\n",
       "      <td>18</td>\n",
       "    </tr>\n",
       "    <tr>\n",
       "      <th>4</th>\n",
       "      <td>2758.873786</td>\n",
       "      <td>29.679885</td>\n",
       "      <td>-82.353693</td>\n",
       "      <td>1222.0</td>\n",
       "      <td>2.257671</td>\n",
       "      <td>27</td>\n",
       "    </tr>\n",
       "  </tbody>\n",
       "</table>\n",
       "</div>"
      ],
      "text/plain": [
       "       avg_kwh   Latitude  Longitude  Heated_SquareFeet  kwh_per_sqft  \\\n",
       "0   726.077670  29.705149 -82.361609             1498.0      0.484698   \n",
       "1  2758.873786  29.679885 -82.353693             2971.0      0.928601   \n",
       "2  2758.873786  29.679885 -82.353693             2971.0      0.928601   \n",
       "3  2758.873786  29.679885 -82.353693             2971.0      0.928601   \n",
       "4  2758.873786  29.679885 -82.353693             1222.0      2.257671   \n",
       "\n",
       "   code_release  \n",
       "0            16  \n",
       "1            18  \n",
       "2            18  \n",
       "3            18  \n",
       "4            27  "
      ]
     },
     "execution_count": 11,
     "metadata": {},
     "output_type": "execute_result"
    }
   ],
   "source": [
    "col_kwh_year_df.head()"
   ]
  },
  {
   "cell_type": "markdown",
   "metadata": {},
   "source": [
    "<h4>Define Target variable and feature set</h4>"
   ]
  },
  {
   "cell_type": "code",
   "execution_count": 12,
   "metadata": {},
   "outputs": [],
   "source": [
    "y = col_kwh_year_df.pop('code_release')\n",
    "X = col_kwh_year_df"
   ]
  },
  {
   "cell_type": "markdown",
   "metadata": {},
   "source": [
    "<h4>Train, test split and instantiate linear regression models</h4>"
   ]
  },
  {
   "cell_type": "code",
   "execution_count": 13,
   "metadata": {},
   "outputs": [],
   "source": [
    "X_train, X_test, y_train, y_test = train_test_split(X, y, test_size=.50, random_state=1)"
   ]
  },
  {
   "cell_type": "code",
   "execution_count": 14,
   "metadata": {},
   "outputs": [
    {
     "name": "stdout",
     "output_type": "stream",
     "text": [
      "<class 'pandas.core.frame.DataFrame'>\n",
      "Int64Index: 5384 entries, 5884 to 10209\n",
      "Data columns (total 5 columns):\n",
      " #   Column             Non-Null Count  Dtype  \n",
      "---  ------             --------------  -----  \n",
      " 0   avg_kwh            5384 non-null   float64\n",
      " 1   Latitude           5384 non-null   float64\n",
      " 2   Longitude          5384 non-null   float64\n",
      " 3   Heated_SquareFeet  5384 non-null   float64\n",
      " 4   kwh_per_sqft       5384 non-null   float64\n",
      "dtypes: float64(5)\n",
      "memory usage: 252.4 KB\n"
     ]
    }
   ],
   "source": [
    "X_test.info()"
   ]
  },
  {
   "cell_type": "markdown",
   "metadata": {},
   "source": [
    "<h4>Set benchmark model</h4>"
   ]
  },
  {
   "cell_type": "code",
   "execution_count": 15,
   "metadata": {},
   "outputs": [],
   "source": [
    "alpha = 3.0\n",
    "linear = LinearRegression()\n",
    "lasso = Lasso()\n",
    "ridge = Ridge(alpha=alpha)\n",
    "knn = KNeighborsRegressor(7)"
   ]
  },
  {
   "cell_type": "code",
   "execution_count": 17,
   "metadata": {},
   "outputs": [],
   "source": [
    "folds = 15\n",
    "#score = mean_squared_error()\n",
    "linear_cv = cross_val_score(linear, X, y, cv=folds, scoring='neg_mean_squared_error')\n",
    "lasso_cv = cross_val_score(lasso, X, y, cv=folds, scoring='neg_mean_squared_error')\n",
    "ridge_cv = cross_val_score(ridge, X, y, cv=folds, scoring='neg_mean_squared_error')\n",
    "knn_cv = cross_val_score(knn, X, y, cv=folds, scoring='neg_mean_squared_error')"
   ]
  },
  {
   "cell_type": "code",
   "execution_count": 18,
   "metadata": {},
   "outputs": [
    {
     "name": "stdout",
     "output_type": "stream",
     "text": [
      "-11.92922891037909 -12.133392446670138 -11.956216857917832 -13.353779333981198\n"
     ]
    }
   ],
   "source": [
    "lin_cv_mean = linear_cv.mean()\n",
    "lasso_cv_mean = lasso_cv.mean()\n",
    "ridge_cv_mean = ridge_cv.mean()\n",
    "knn_cv_mean = knn_cv.mean()\n",
    "\n",
    "\n",
    "print(lin_cv_mean, lasso_cv_mean, ridge_cv_mean, knn_cv_mean)"
   ]
  },
  {
   "cell_type": "markdown",
   "metadata": {},
   "source": [
    "<h4>Ordinary Least Squares</h4>"
   ]
  },
  {
   "cell_type": "code",
   "execution_count": 19,
   "metadata": {},
   "outputs": [
    {
     "name": "stdout",
     "output_type": "stream",
     "text": [
      "11.637038790448663\n"
     ]
    }
   ],
   "source": [
    "X2 = sm.add_constant(X)\n",
    "est = sm.OLS(y, X2)\n",
    "est2 = est.fit()\n",
    "print(est2.mse_total)\n",
    "# print(est2.summary())"
   ]
  },
  {
   "cell_type": "markdown",
   "metadata": {},
   "source": [
    "<h4>Run random forest regressor</h4>"
   ]
  },
  {
   "cell_type": "code",
   "execution_count": 20,
   "metadata": {},
   "outputs": [
    {
     "data": {
      "text/plain": [
       "8.098779340421984"
      ]
     },
     "execution_count": 20,
     "metadata": {},
     "output_type": "execute_result"
    }
   ],
   "source": [
    "# instantiate RF and linear regression model\n",
    "rf = RandomForestRegressor(n_estimators=200, max_depth=5, min_samples_split=5, min_samples_leaf=1, min_weight_fraction_leaf=0.0, max_features=4, max_leaf_nodes=None, min_impurity_decrease=0.0, min_impurity_split=None, bootstrap=True)\n",
    "rf.fit(X_train, y_train)\n",
    "y_hat = rf.predict(X_test)\n",
    "\n",
    "mse = mean_squared_error(y_test, y_hat)\n",
    "mse"
   ]
  },
  {
   "cell_type": "markdown",
   "metadata": {},
   "source": [
    "#### Train top performing model on test set to generate predictions for Dash app"
   ]
  },
  {
   "cell_type": "code",
   "execution_count": 21,
   "metadata": {},
   "outputs": [],
   "source": [
    "X_test2 = X_train \n",
    "y_test2 = y_train "
   ]
  },
  {
   "cell_type": "code",
   "execution_count": 22,
   "metadata": {},
   "outputs": [
    {
     "data": {
      "text/html": [
       "<div>\n",
       "<style scoped>\n",
       "    .dataframe tbody tr th:only-of-type {\n",
       "        vertical-align: middle;\n",
       "    }\n",
       "\n",
       "    .dataframe tbody tr th {\n",
       "        vertical-align: top;\n",
       "    }\n",
       "\n",
       "    .dataframe thead th {\n",
       "        text-align: right;\n",
       "    }\n",
       "</style>\n",
       "<table border=\"1\" class=\"dataframe\">\n",
       "  <thead>\n",
       "    <tr style=\"text-align: right;\">\n",
       "      <th></th>\n",
       "      <th>avg_kwh</th>\n",
       "      <th>Latitude</th>\n",
       "      <th>Longitude</th>\n",
       "      <th>Heated_SquareFeet</th>\n",
       "      <th>kwh_per_sqft</th>\n",
       "    </tr>\n",
       "  </thead>\n",
       "  <tbody>\n",
       "    <tr>\n",
       "      <th>6410</th>\n",
       "      <td>1027.639344</td>\n",
       "      <td>29.705515</td>\n",
       "      <td>-82.364586</td>\n",
       "      <td>1516.0</td>\n",
       "      <td>0.677862</td>\n",
       "    </tr>\n",
       "    <tr>\n",
       "      <th>4903</th>\n",
       "      <td>766.774510</td>\n",
       "      <td>29.612746</td>\n",
       "      <td>-82.371744</td>\n",
       "      <td>1172.0</td>\n",
       "      <td>0.654244</td>\n",
       "    </tr>\n",
       "    <tr>\n",
       "      <th>367</th>\n",
       "      <td>544.843137</td>\n",
       "      <td>29.611465</td>\n",
       "      <td>-82.360356</td>\n",
       "      <td>5944.0</td>\n",
       "      <td>0.091663</td>\n",
       "    </tr>\n",
       "    <tr>\n",
       "      <th>2448</th>\n",
       "      <td>1026.689320</td>\n",
       "      <td>29.675848</td>\n",
       "      <td>-82.384052</td>\n",
       "      <td>1684.0</td>\n",
       "      <td>0.609673</td>\n",
       "    </tr>\n",
       "    <tr>\n",
       "      <th>4206</th>\n",
       "      <td>500.291262</td>\n",
       "      <td>29.635181</td>\n",
       "      <td>-82.343227</td>\n",
       "      <td>1120.0</td>\n",
       "      <td>0.446689</td>\n",
       "    </tr>\n",
       "  </tbody>\n",
       "</table>\n",
       "</div>"
      ],
      "text/plain": [
       "          avg_kwh   Latitude  Longitude  Heated_SquareFeet  kwh_per_sqft\n",
       "6410  1027.639344  29.705515 -82.364586             1516.0      0.677862\n",
       "4903   766.774510  29.612746 -82.371744             1172.0      0.654244\n",
       "367    544.843137  29.611465 -82.360356             5944.0      0.091663\n",
       "2448  1026.689320  29.675848 -82.384052             1684.0      0.609673\n",
       "4206   500.291262  29.635181 -82.343227             1120.0      0.446689"
      ]
     },
     "execution_count": 22,
     "metadata": {},
     "output_type": "execute_result"
    }
   ],
   "source": [
    "X_train.head()"
   ]
  },
  {
   "cell_type": "code",
   "execution_count": 23,
   "metadata": {},
   "outputs": [
    {
     "data": {
      "text/plain": [
       "RandomForestRegressor(max_depth=5, max_features=4, min_samples_split=5,\n",
       "                      n_estimators=200)"
      ]
     },
     "execution_count": 23,
     "metadata": {},
     "output_type": "execute_result"
    }
   ],
   "source": [
    "rf_pred = RandomForestRegressor(n_estimators=200, max_depth=5, min_samples_split=5, min_samples_leaf=1, min_weight_fraction_leaf=0.0, max_features=4, max_leaf_nodes=None, min_impurity_decrease=0.0, min_impurity_split=None, bootstrap=True)\n",
    "rf_pred.fit(X_test2, y_test2)"
   ]
  },
  {
   "cell_type": "code",
   "execution_count": 24,
   "metadata": {},
   "outputs": [],
   "source": [
    "y_hat_pred = rf_pred.predict(X_train)\n",
    "# X_train.head()"
   ]
  },
  {
   "cell_type": "code",
   "execution_count": 36,
   "metadata": {},
   "outputs": [],
   "source": [
    "y_hat_pred = pd.DataFrame(y_hat_pred)"
   ]
  },
  {
   "cell_type": "markdown",
   "metadata": {},
   "source": [
    "#### Feature importance"
   ]
  },
  {
   "cell_type": "code",
   "execution_count": 30,
   "metadata": {},
   "outputs": [
    {
     "data": {
      "image/png": "[encoded data removed]",
      "text/plain": [
       "<Figure size 576x252 with 1 Axes>"
      ]
     },
     "metadata": {
      "image/png": {
       "height": 239,
       "width": 595
      },
      "needs_background": "light"
     },
     "output_type": "display_data"
    }
   ],
   "source": [
    "# rf \n",
    "shap_values = shap.TreeExplainer(rf_pred).shap_values(X_train)\n",
    "shap.summary_plot(shap_values, X_train, plot_type=\"bar\")\n",
    "#plt.savefig('images/shap_value.png')"
   ]
  },
  {
   "cell_type": "code",
   "execution_count": 31,
   "metadata": {},
   "outputs": [
    {
     "data": {
      "image/png": "[encoded data removed]",
      "text/plain": [
       "<Figure size 576x252 with 2 Axes>"
      ]
     },
     "metadata": {
      "image/png": {
       "height": 242,
       "width": 590
      },
      "needs_background": "light"
     },
     "output_type": "display_data"
    }
   ],
   "source": [
    "import matplotlib.pyplot as plt\n",
    "f = plt.figure()\n",
    "shap.summary_plot(shap_values, X_train)\n",
    "#plt.savefig('images/feat_imp_detailed.png')"
   ]
  },
  {
   "cell_type": "markdown",
   "metadata": {},
   "source": [
    "<h4>Export predictions dataframe</h4>"
   ]
  },
  {
   "cell_type": "code",
   "execution_count": 37,
   "metadata": {},
   "outputs": [],
   "source": [
    "# export predictions data for use in the carbon zero application\n",
    "y_hat_pred.to_csv(r'stationary-data/y_hat_pred.csv', header=True)"
   ]
  },
  {
   "cell_type": "code",
   "execution_count": 38,
   "metadata": {},
   "outputs": [],
   "source": [
    "# export training data to compare to predicted data \n",
    "# for efficiency val calc for prioritization of ee impr in Dash app\n",
    "X_train.to_csv(r'stationary-data/X_train.csv', header=True)"
   ]
  },
  {
   "cell_type": "code",
   "execution_count": 39,
   "metadata": {},
   "outputs": [],
   "source": [
    "# export y train for actual value in prediction feature engineering\n",
    "# for efficiency val calc for prioritization of ee impr in Dash app\n",
    "y_train.to_csv(r'stationary-data/y_train.csv', header=True)"
   ]
  },
  {
   "cell_type": "code",
   "execution_count": 40,
   "metadata": {},
   "outputs": [],
   "source": [
    "# export training data to compare to predicted data \n",
    "# for efficiency val calc for prioritization of ee impr in Dash app\n",
    "col_kwh_year_df.to_csv(r'stationary-data/col_kwh_year_df.csv', header=True)"
   ]
  }
 ],
 "metadata": {
  "kernelspec": {
   "display_name": "Python 3",
   "language": "python",
   "name": "python3"
  },
  "language_info": {
   "codemirror_mode": {
    "name": "ipython",
    "version": 3
   },
   "file_extension": ".py",
   "mimetype": "text/x-python",
   "name": "python",
   "nbconvert_exporter": "python",
   "pygments_lexer": "ipython3",
   "version": "3.7.9"
  }
 },
 "nbformat": 4,
 "nbformat_minor": 4
}
