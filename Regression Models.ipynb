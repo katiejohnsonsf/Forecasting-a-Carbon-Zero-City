{
 "cells": [
  {
   "cell_type": "code",
   "execution_count": 65,
   "metadata": {},
   "outputs": [],
   "source": [
    "import pandas as pd\n",
    "import numpy as np\n",
    "import datetime as dt\n",
    "from datetime import datetime\n",
    "from datetime import datetime\n",
    "import matplotlib.pyplot as plt\n",
    "%matplotlib inline\n",
    "%config InlineBackend.figure_format = 'retina'\n",
    "from sklearn.pipeline import Pipeline\n",
    "from sklearn.model_selection import train_test_split, KFold\n",
    "from sklearn.neighbors import KNeighborsRegressor\n",
    "from sklearn.linear_model import Lasso\n",
    "from sklearn.linear_model import Ridge\n",
    "from sklearn.linear_model import LinearRegression\n",
    "from sklearn.metrics import mean_squared_error\n",
    "from sklearn.model_selection import cross_val_score\n",
    "from sklearn.ensemble import RandomForestRegressor\n",
    "import statsmodels.api as sm\n",
    "\n",
    "from sklearn.preprocessing import StandardScaler\n",
    "from sklearn.decomposition import PCA\n",
    "\n",
    "from sklearn import datasets, metrics, model_selection, svm\n",
    "import statsmodels.api as sm\n",
    "import shap\n",
    "\n",
    "pd.set_option('display.max_columns', None)\n",
    "pd.set_option('display.max_rows', None)"
   ]
  },
  {
   "cell_type": "markdown",
   "metadata": {},
   "source": [
    "<h4>Read in building and electical consumption data</H4>"
   ]
  },
  {
   "cell_type": "code",
   "execution_count": 128,
   "metadata": {},
   "outputs": [],
   "source": [
    "# read in electricity consumption and building data\n",
    "kwh_year_df = pd.read_csv('clean-data/kwh_year.csv')"
   ]
  },
  {
   "cell_type": "code",
   "execution_count": 4,
   "metadata": {},
   "outputs": [
    {
     "data": {
      "text/html": [
       "<div>\n",
       "<style scoped>\n",
       "    .dataframe tbody tr th:only-of-type {\n",
       "        vertical-align: middle;\n",
       "    }\n",
       "\n",
       "    .dataframe tbody tr th {\n",
       "        vertical-align: top;\n",
       "    }\n",
       "\n",
       "    .dataframe thead th {\n",
       "        text-align: right;\n",
       "    }\n",
       "</style>\n",
       "<table border=\"1\" class=\"dataframe\">\n",
       "  <thead>\n",
       "    <tr style=\"text-align: right;\">\n",
       "      <th></th>\n",
       "      <th>Unnamed: 0</th>\n",
       "      <th>Service Address</th>\n",
       "      <th>avg_kwh</th>\n",
       "      <th>Latitude</th>\n",
       "      <th>Longitude</th>\n",
       "      <th>Parcel Number</th>\n",
       "      <th>prop_id</th>\n",
       "      <th>Effective_YrBlt</th>\n",
       "      <th>Heated_SquareFeet</th>\n",
       "      <th>Stories</th>\n",
       "      <th>kwh_per_sqft</th>\n",
       "      <th>code_release</th>\n",
       "    </tr>\n",
       "  </thead>\n",
       "  <tbody>\n",
       "    <tr>\n",
       "      <th>0</th>\n",
       "      <td>0</td>\n",
       "      <td>2629 NW 55TH BLVD</td>\n",
       "      <td>726.077670</td>\n",
       "      <td>29.705149</td>\n",
       "      <td>-82.361609</td>\n",
       "      <td>6014021030</td>\n",
       "      <td>32391</td>\n",
       "      <td>1977</td>\n",
       "      <td>1498.0</td>\n",
       "      <td>1.0</td>\n",
       "      <td>0.484698</td>\n",
       "      <td>16</td>\n",
       "    </tr>\n",
       "    <tr>\n",
       "      <th>1</th>\n",
       "      <td>1</td>\n",
       "      <td>2928 NW 22ND ST</td>\n",
       "      <td>2758.873786</td>\n",
       "      <td>29.679885</td>\n",
       "      <td>-82.353693</td>\n",
       "      <td>9004018000</td>\n",
       "      <td>78433</td>\n",
       "      <td>1984</td>\n",
       "      <td>2971.0</td>\n",
       "      <td>1.0</td>\n",
       "      <td>0.928601</td>\n",
       "      <td>18</td>\n",
       "    </tr>\n",
       "    <tr>\n",
       "      <th>2</th>\n",
       "      <td>2</td>\n",
       "      <td>2928 NW 22ND ST</td>\n",
       "      <td>2758.873786</td>\n",
       "      <td>29.679885</td>\n",
       "      <td>-82.353693</td>\n",
       "      <td>9004018000</td>\n",
       "      <td>78433</td>\n",
       "      <td>1984</td>\n",
       "      <td>2971.0</td>\n",
       "      <td>1.0</td>\n",
       "      <td>0.928601</td>\n",
       "      <td>18</td>\n",
       "    </tr>\n",
       "    <tr>\n",
       "      <th>3</th>\n",
       "      <td>3</td>\n",
       "      <td>2928 NW 22ND ST</td>\n",
       "      <td>2758.873786</td>\n",
       "      <td>29.679885</td>\n",
       "      <td>-82.353693</td>\n",
       "      <td>9004018000</td>\n",
       "      <td>78433</td>\n",
       "      <td>1984</td>\n",
       "      <td>2971.0</td>\n",
       "      <td>1.0</td>\n",
       "      <td>0.928601</td>\n",
       "      <td>18</td>\n",
       "    </tr>\n",
       "    <tr>\n",
       "      <th>4</th>\n",
       "      <td>4</td>\n",
       "      <td>2928 NW 22ND ST</td>\n",
       "      <td>2758.873786</td>\n",
       "      <td>29.679885</td>\n",
       "      <td>-82.353693</td>\n",
       "      <td>9004017000</td>\n",
       "      <td>78432</td>\n",
       "      <td>2010</td>\n",
       "      <td>1222.0</td>\n",
       "      <td>2.0</td>\n",
       "      <td>2.257671</td>\n",
       "      <td>27</td>\n",
       "    </tr>\n",
       "  </tbody>\n",
       "</table>\n",
       "</div>"
      ],
      "text/plain": [
       "   Unnamed: 0    Service Address      avg_kwh   Latitude  Longitude  \\\n",
       "0           0  2629 NW 55TH BLVD   726.077670  29.705149 -82.361609   \n",
       "1           1    2928 NW 22ND ST  2758.873786  29.679885 -82.353693   \n",
       "2           2    2928 NW 22ND ST  2758.873786  29.679885 -82.353693   \n",
       "3           3    2928 NW 22ND ST  2758.873786  29.679885 -82.353693   \n",
       "4           4    2928 NW 22ND ST  2758.873786  29.679885 -82.353693   \n",
       "\n",
       "   Parcel Number  prop_id  Effective_YrBlt  Heated_SquareFeet  Stories  \\\n",
       "0     6014021030    32391             1977             1498.0      1.0   \n",
       "1     9004018000    78433             1984             2971.0      1.0   \n",
       "2     9004018000    78433             1984             2971.0      1.0   \n",
       "3     9004018000    78433             1984             2971.0      1.0   \n",
       "4     9004017000    78432             2010             1222.0      2.0   \n",
       "\n",
       "   kwh_per_sqft  code_release  \n",
       "0      0.484698            16  \n",
       "1      0.928601            18  \n",
       "2      0.928601            18  \n",
       "3      0.928601            18  \n",
       "4      2.257671            27  "
      ]
     },
     "execution_count": 4,
     "metadata": {},
     "output_type": "execute_result"
    }
   ],
   "source": [
    "kwh_year_df.head()"
   ]
  },
  {
   "cell_type": "code",
   "execution_count": 129,
   "metadata": {},
   "outputs": [],
   "source": [
    "kwh_year_df = kwh_year_df.drop(columns='Unnamed: 0')"
   ]
  },
  {
   "cell_type": "code",
   "execution_count": 130,
   "metadata": {},
   "outputs": [],
   "source": [
    "kwh_year_df = kwh_year_df.drop(columns=['Service Address'])"
   ]
  },
  {
   "cell_type": "code",
   "execution_count": 7,
   "metadata": {},
   "outputs": [],
   "source": [
    "# # read in electricity consumption data\n",
    "# electricity_df = pd.read_csv('data/GRU_Customer_Electric_Consumption.csv')"
   ]
  },
  {
   "cell_type": "markdown",
   "metadata": {},
   "source": [
    "<h4>Identify colinear features</h4>"
   ]
  },
  {
   "cell_type": "code",
   "execution_count": 8,
   "metadata": {},
   "outputs": [
    {
     "data": {
      "text/html": [
       "<div>\n",
       "<style scoped>\n",
       "    .dataframe tbody tr th:only-of-type {\n",
       "        vertical-align: middle;\n",
       "    }\n",
       "\n",
       "    .dataframe tbody tr th {\n",
       "        vertical-align: top;\n",
       "    }\n",
       "\n",
       "    .dataframe thead th {\n",
       "        text-align: right;\n",
       "    }\n",
       "</style>\n",
       "<table border=\"1\" class=\"dataframe\">\n",
       "  <thead>\n",
       "    <tr style=\"text-align: right;\">\n",
       "      <th></th>\n",
       "      <th>avg_kwh</th>\n",
       "      <th>Latitude</th>\n",
       "      <th>Longitude</th>\n",
       "      <th>Parcel Number</th>\n",
       "      <th>prop_id</th>\n",
       "      <th>Effective_YrBlt</th>\n",
       "      <th>Heated_SquareFeet</th>\n",
       "      <th>Stories</th>\n",
       "      <th>kwh_per_sqft</th>\n",
       "      <th>code_release</th>\n",
       "    </tr>\n",
       "  </thead>\n",
       "  <tbody>\n",
       "    <tr>\n",
       "      <th>avg_kwh</th>\n",
       "      <td>1.000000</td>\n",
       "      <td>-0.079952</td>\n",
       "      <td>-0.018102</td>\n",
       "      <td>0.010132</td>\n",
       "      <td>0.026818</td>\n",
       "      <td>0.063023</td>\n",
       "      <td>0.185103</td>\n",
       "      <td>0.076795</td>\n",
       "      <td>0.508535</td>\n",
       "      <td>0.064757</td>\n",
       "    </tr>\n",
       "    <tr>\n",
       "      <th>Latitude</th>\n",
       "      <td>-0.079952</td>\n",
       "      <td>1.000000</td>\n",
       "      <td>-0.134391</td>\n",
       "      <td>-0.377149</td>\n",
       "      <td>-0.498860</td>\n",
       "      <td>0.046609</td>\n",
       "      <td>-0.017014</td>\n",
       "      <td>-0.136254</td>\n",
       "      <td>-0.098716</td>\n",
       "      <td>0.048259</td>\n",
       "    </tr>\n",
       "    <tr>\n",
       "      <th>Longitude</th>\n",
       "      <td>-0.018102</td>\n",
       "      <td>-0.134391</td>\n",
       "      <td>1.000000</td>\n",
       "      <td>0.680909</td>\n",
       "      <td>0.775367</td>\n",
       "      <td>-0.262894</td>\n",
       "      <td>-0.091056</td>\n",
       "      <td>-0.083666</td>\n",
       "      <td>0.010590</td>\n",
       "      <td>-0.264918</td>\n",
       "    </tr>\n",
       "    <tr>\n",
       "      <th>Parcel Number</th>\n",
       "      <td>0.010132</td>\n",
       "      <td>-0.377149</td>\n",
       "      <td>0.680909</td>\n",
       "      <td>1.000000</td>\n",
       "      <td>0.849588</td>\n",
       "      <td>-0.154652</td>\n",
       "      <td>-0.058992</td>\n",
       "      <td>0.021543</td>\n",
       "      <td>0.048703</td>\n",
       "      <td>-0.155143</td>\n",
       "    </tr>\n",
       "    <tr>\n",
       "      <th>prop_id</th>\n",
       "      <td>0.026818</td>\n",
       "      <td>-0.498860</td>\n",
       "      <td>0.775367</td>\n",
       "      <td>0.849588</td>\n",
       "      <td>1.000000</td>\n",
       "      <td>-0.215820</td>\n",
       "      <td>-0.068158</td>\n",
       "      <td>0.010378</td>\n",
       "      <td>0.055169</td>\n",
       "      <td>-0.216317</td>\n",
       "    </tr>\n",
       "    <tr>\n",
       "      <th>Effective_YrBlt</th>\n",
       "      <td>0.063023</td>\n",
       "      <td>0.046609</td>\n",
       "      <td>-0.262894</td>\n",
       "      <td>-0.154652</td>\n",
       "      <td>-0.215820</td>\n",
       "      <td>1.000000</td>\n",
       "      <td>0.028064</td>\n",
       "      <td>0.024884</td>\n",
       "      <td>0.069811</td>\n",
       "      <td>0.993516</td>\n",
       "    </tr>\n",
       "    <tr>\n",
       "      <th>Heated_SquareFeet</th>\n",
       "      <td>0.185103</td>\n",
       "      <td>-0.017014</td>\n",
       "      <td>-0.091056</td>\n",
       "      <td>-0.058992</td>\n",
       "      <td>-0.068158</td>\n",
       "      <td>0.028064</td>\n",
       "      <td>1.000000</td>\n",
       "      <td>0.474447</td>\n",
       "      <td>-0.035214</td>\n",
       "      <td>0.030020</td>\n",
       "    </tr>\n",
       "    <tr>\n",
       "      <th>Stories</th>\n",
       "      <td>0.076795</td>\n",
       "      <td>-0.136254</td>\n",
       "      <td>-0.083666</td>\n",
       "      <td>0.021543</td>\n",
       "      <td>0.010378</td>\n",
       "      <td>0.024884</td>\n",
       "      <td>0.474447</td>\n",
       "      <td>1.000000</td>\n",
       "      <td>-0.067929</td>\n",
       "      <td>0.029459</td>\n",
       "    </tr>\n",
       "    <tr>\n",
       "      <th>kwh_per_sqft</th>\n",
       "      <td>0.508535</td>\n",
       "      <td>-0.098716</td>\n",
       "      <td>0.010590</td>\n",
       "      <td>0.048703</td>\n",
       "      <td>0.055169</td>\n",
       "      <td>0.069811</td>\n",
       "      <td>-0.035214</td>\n",
       "      <td>-0.067929</td>\n",
       "      <td>1.000000</td>\n",
       "      <td>0.067824</td>\n",
       "    </tr>\n",
       "    <tr>\n",
       "      <th>code_release</th>\n",
       "      <td>0.064757</td>\n",
       "      <td>0.048259</td>\n",
       "      <td>-0.264918</td>\n",
       "      <td>-0.155143</td>\n",
       "      <td>-0.216317</td>\n",
       "      <td>0.993516</td>\n",
       "      <td>0.030020</td>\n",
       "      <td>0.029459</td>\n",
       "      <td>0.067824</td>\n",
       "      <td>1.000000</td>\n",
       "    </tr>\n",
       "  </tbody>\n",
       "</table>\n",
       "</div>"
      ],
      "text/plain": [
       "                    avg_kwh  Latitude  Longitude  Parcel Number   prop_id  \\\n",
       "avg_kwh            1.000000 -0.079952  -0.018102       0.010132  0.026818   \n",
       "Latitude          -0.079952  1.000000  -0.134391      -0.377149 -0.498860   \n",
       "Longitude         -0.018102 -0.134391   1.000000       0.680909  0.775367   \n",
       "Parcel Number      0.010132 -0.377149   0.680909       1.000000  0.849588   \n",
       "prop_id            0.026818 -0.498860   0.775367       0.849588  1.000000   \n",
       "Effective_YrBlt    0.063023  0.046609  -0.262894      -0.154652 -0.215820   \n",
       "Heated_SquareFeet  0.185103 -0.017014  -0.091056      -0.058992 -0.068158   \n",
       "Stories            0.076795 -0.136254  -0.083666       0.021543  0.010378   \n",
       "kwh_per_sqft       0.508535 -0.098716   0.010590       0.048703  0.055169   \n",
       "code_release       0.064757  0.048259  -0.264918      -0.155143 -0.216317   \n",
       "\n",
       "                   Effective_YrBlt  Heated_SquareFeet   Stories  kwh_per_sqft  \\\n",
       "avg_kwh                   0.063023           0.185103  0.076795      0.508535   \n",
       "Latitude                  0.046609          -0.017014 -0.136254     -0.098716   \n",
       "Longitude                -0.262894          -0.091056 -0.083666      0.010590   \n",
       "Parcel Number            -0.154652          -0.058992  0.021543      0.048703   \n",
       "prop_id                  -0.215820          -0.068158  0.010378      0.055169   \n",
       "Effective_YrBlt           1.000000           0.028064  0.024884      0.069811   \n",
       "Heated_SquareFeet         0.028064           1.000000  0.474447     -0.035214   \n",
       "Stories                   0.024884           0.474447  1.000000     -0.067929   \n",
       "kwh_per_sqft              0.069811          -0.035214 -0.067929      1.000000   \n",
       "code_release              0.993516           0.030020  0.029459      0.067824   \n",
       "\n",
       "                   code_release  \n",
       "avg_kwh                0.064757  \n",
       "Latitude               0.048259  \n",
       "Longitude             -0.264918  \n",
       "Parcel Number         -0.155143  \n",
       "prop_id               -0.216317  \n",
       "Effective_YrBlt        0.993516  \n",
       "Heated_SquareFeet      0.030020  \n",
       "Stories                0.029459  \n",
       "kwh_per_sqft           0.067824  \n",
       "code_release           1.000000  "
      ]
     },
     "execution_count": 8,
     "metadata": {},
     "output_type": "execute_result"
    }
   ],
   "source": [
    "kwh_year_df.corr()"
   ]
  },
  {
   "cell_type": "markdown",
   "metadata": {},
   "source": [
    "<h4>Remove colinear features</h4>"
   ]
  },
  {
   "cell_type": "code",
   "execution_count": 131,
   "metadata": {},
   "outputs": [
    {
     "data": {
      "text/plain": [
       "Index(['avg_kwh', 'Parcel Number', 'Heated_SquareFeet', 'kwh_per_sqft',\n",
       "       'code_release'],\n",
       "      dtype='object')"
      ]
     },
     "execution_count": 131,
     "metadata": {},
     "output_type": "execute_result"
    }
   ],
   "source": [
    "col_kwh_year_df = kwh_year_df.drop(columns=['prop_id', 'Stories', 'Effective_YrBlt', 'Latitude', 'Longitude']) \n",
    "col_kwh_year_df.columns"
   ]
  },
  {
   "cell_type": "code",
   "execution_count": 132,
   "metadata": {},
   "outputs": [
    {
     "data": {
      "text/html": [
       "<div>\n",
       "<style scoped>\n",
       "    .dataframe tbody tr th:only-of-type {\n",
       "        vertical-align: middle;\n",
       "    }\n",
       "\n",
       "    .dataframe tbody tr th {\n",
       "        vertical-align: top;\n",
       "    }\n",
       "\n",
       "    .dataframe thead th {\n",
       "        text-align: right;\n",
       "    }\n",
       "</style>\n",
       "<table border=\"1\" class=\"dataframe\">\n",
       "  <thead>\n",
       "    <tr style=\"text-align: right;\">\n",
       "      <th></th>\n",
       "      <th>avg_kwh</th>\n",
       "      <th>Parcel Number</th>\n",
       "      <th>Heated_SquareFeet</th>\n",
       "      <th>kwh_per_sqft</th>\n",
       "      <th>code_release</th>\n",
       "    </tr>\n",
       "  </thead>\n",
       "  <tbody>\n",
       "    <tr>\n",
       "      <th>0</th>\n",
       "      <td>726.077670</td>\n",
       "      <td>6014021030</td>\n",
       "      <td>1498.0</td>\n",
       "      <td>0.484698</td>\n",
       "      <td>16</td>\n",
       "    </tr>\n",
       "    <tr>\n",
       "      <th>1</th>\n",
       "      <td>2758.873786</td>\n",
       "      <td>9004018000</td>\n",
       "      <td>2971.0</td>\n",
       "      <td>0.928601</td>\n",
       "      <td>18</td>\n",
       "    </tr>\n",
       "    <tr>\n",
       "      <th>2</th>\n",
       "      <td>2758.873786</td>\n",
       "      <td>9004018000</td>\n",
       "      <td>2971.0</td>\n",
       "      <td>0.928601</td>\n",
       "      <td>18</td>\n",
       "    </tr>\n",
       "    <tr>\n",
       "      <th>3</th>\n",
       "      <td>2758.873786</td>\n",
       "      <td>9004018000</td>\n",
       "      <td>2971.0</td>\n",
       "      <td>0.928601</td>\n",
       "      <td>18</td>\n",
       "    </tr>\n",
       "    <tr>\n",
       "      <th>4</th>\n",
       "      <td>2758.873786</td>\n",
       "      <td>9004017000</td>\n",
       "      <td>1222.0</td>\n",
       "      <td>2.257671</td>\n",
       "      <td>27</td>\n",
       "    </tr>\n",
       "  </tbody>\n",
       "</table>\n",
       "</div>"
      ],
      "text/plain": [
       "       avg_kwh  Parcel Number  Heated_SquareFeet  kwh_per_sqft  code_release\n",
       "0   726.077670     6014021030             1498.0      0.484698            16\n",
       "1  2758.873786     9004018000             2971.0      0.928601            18\n",
       "2  2758.873786     9004018000             2971.0      0.928601            18\n",
       "3  2758.873786     9004018000             2971.0      0.928601            18\n",
       "4  2758.873786     9004017000             1222.0      2.257671            27"
      ]
     },
     "execution_count": 132,
     "metadata": {},
     "output_type": "execute_result"
    }
   ],
   "source": [
    "col_kwh_year_df.head()"
   ]
  },
  {
   "cell_type": "markdown",
   "metadata": {},
   "source": [
    "<h4>Train, test split and instantiate linear regression models</h4>"
   ]
  },
  {
   "cell_type": "code",
   "execution_count": 65,
   "metadata": {},
   "outputs": [],
   "source": [
    "# y1 = col_kwh_year_df.pop('code_release')\n",
    "# X1 = col_kwh_year_df"
   ]
  },
  {
   "cell_type": "code",
   "execution_count": 66,
   "metadata": {},
   "outputs": [],
   "source": [
    "# X_train, X_test, y_train, y_test = train_test_split(X1, y1, test_size=.25, random_state=1)"
   ]
  },
  {
   "cell_type": "code",
   "execution_count": 20,
   "metadata": {},
   "outputs": [],
   "source": [
    "# y = col_kwh_year_df.pop('code_release')\n",
    "# x = col_kwh_year_df"
   ]
  },
  {
   "cell_type": "markdown",
   "metadata": {},
   "source": [
    "<h4>PCA</h4>"
   ]
  },
  {
   "cell_type": "code",
   "execution_count": 11,
   "metadata": {},
   "outputs": [],
   "source": [
    "# # standardizing data\n",
    "# features = ['avg_kwh', 'Latitude', 'Longitude', 'Parcel Number', 'Effective_YrBlt',\n",
    "#        'Heated_SquareFeet', 'kwh_per_sqft']\n",
    "# # Separating out the features\n",
    "# x = col_kwh_year_df.loc[:, features].values\n",
    "# # Separating out the target\n",
    "# y = col_kwh_year_df.loc[:,['code_release']].values\n",
    "# # Standardizing the features\n",
    "# x = StandardScaler().fit_transform(x)"
   ]
  },
  {
   "cell_type": "code",
   "execution_count": 12,
   "metadata": {},
   "outputs": [],
   "source": [
    "# pca = PCA(n_components=3)\n",
    "# principalComponents = pca.fit_transform(x)\n",
    "# principalDf = pd.DataFrame(data = principalComponents\n",
    "#              , columns = ['pc1', 'pc2', 'pc3'])"
   ]
  },
  {
   "cell_type": "code",
   "execution_count": 13,
   "metadata": {},
   "outputs": [],
   "source": [
    "# finalDf = pd.concat([principalDf, col_kwh_year_df[['code_release']]], axis = 1)"
   ]
  },
  {
   "cell_type": "code",
   "execution_count": 14,
   "metadata": {},
   "outputs": [],
   "source": [
    "# year_list = col_kwh_year_df['code_release'].values"
   ]
  },
  {
   "cell_type": "code",
   "execution_count": 15,
   "metadata": {},
   "outputs": [],
   "source": [
    "# finalDf.head()"
   ]
  },
  {
   "cell_type": "markdown",
   "metadata": {},
   "source": [
    "<h4>Define Target variable and feature set</h4>"
   ]
  },
  {
   "cell_type": "code",
   "execution_count": 133,
   "metadata": {},
   "outputs": [],
   "source": [
    "y = col_kwh_year_df.pop('code_release')\n",
    "X = col_kwh_year_df"
   ]
  },
  {
   "cell_type": "markdown",
   "metadata": {},
   "source": [
    "<h4>Train, test split and instantiate linear regression models</h4>"
   ]
  },
  {
   "cell_type": "code",
   "execution_count": 134,
   "metadata": {},
   "outputs": [],
   "source": [
    "X_train, X_test, y_train, y_test = train_test_split(X, y, test_size=.80, random_state=1)"
   ]
  },
  {
   "cell_type": "code",
   "execution_count": 135,
   "metadata": {},
   "outputs": [
    {
     "name": "stdout",
     "output_type": "stream",
     "text": [
      "<class 'pandas.core.frame.DataFrame'>\n",
      "Int64Index: 8615 entries, 5884 to 7186\n",
      "Data columns (total 4 columns):\n",
      " #   Column             Non-Null Count  Dtype  \n",
      "---  ------             --------------  -----  \n",
      " 0   avg_kwh            8615 non-null   float64\n",
      " 1   Parcel Number      8615 non-null   int64  \n",
      " 2   Heated_SquareFeet  8615 non-null   float64\n",
      " 3   kwh_per_sqft       8615 non-null   float64\n",
      "dtypes: float64(3), int64(1)\n",
      "memory usage: 336.5 KB\n"
     ]
    }
   ],
   "source": [
    "X_test.info()"
   ]
  },
  {
   "cell_type": "code",
   "execution_count": 40,
   "metadata": {},
   "outputs": [],
   "source": [
    "# X_test = X_test.sort_index()\n",
    "# X_test[:200]"
   ]
  },
  {
   "cell_type": "markdown",
   "metadata": {},
   "source": [
    "<h4>Set benchmark model</h4>"
   ]
  },
  {
   "cell_type": "code",
   "execution_count": 150,
   "metadata": {},
   "outputs": [],
   "source": [
    "alpha = 3.0\n",
    "linear = LinearRegression()\n",
    "lasso = Lasso()\n",
    "ridge = Ridge(alpha=alpha)\n",
    "knn = KNeighborsRegressor(4)"
   ]
  },
  {
   "cell_type": "code",
   "execution_count": 151,
   "metadata": {},
   "outputs": [
    {
     "name": "stderr",
     "output_type": "stream",
     "text": [
      "Ill-conditioned matrix (rcond=2.27985e-19): result may not be accurate.\n",
      "Ill-conditioned matrix (rcond=2.39807e-19): result may not be accurate.\n",
      "Ill-conditioned matrix (rcond=2.33367e-19): result may not be accurate.\n",
      "Ill-conditioned matrix (rcond=2.20004e-19): result may not be accurate.\n",
      "Ill-conditioned matrix (rcond=2.07518e-19): result may not be accurate.\n",
      "Ill-conditioned matrix (rcond=2.35403e-19): result may not be accurate.\n",
      "Ill-conditioned matrix (rcond=2.42852e-19): result may not be accurate.\n",
      "Ill-conditioned matrix (rcond=2.19709e-19): result may not be accurate.\n",
      "Ill-conditioned matrix (rcond=2.50622e-19): result may not be accurate.\n",
      "Ill-conditioned matrix (rcond=2.42159e-19): result may not be accurate.\n",
      "Ill-conditioned matrix (rcond=2.53473e-19): result may not be accurate.\n",
      "Ill-conditioned matrix (rcond=2.46537e-19): result may not be accurate.\n",
      "Ill-conditioned matrix (rcond=2.57096e-19): result may not be accurate.\n",
      "Ill-conditioned matrix (rcond=2.55566e-19): result may not be accurate.\n",
      "Ill-conditioned matrix (rcond=2.55607e-19): result may not be accurate.\n"
     ]
    }
   ],
   "source": [
    "folds = 15\n",
    "#score = mean_squared_error()\n",
    "linear_cv = cross_val_score(linear, X, y, cv=folds, scoring='neg_mean_squared_error')\n",
    "lasso_cv = cross_val_score(lasso, X, y, cv=folds, scoring='neg_mean_squared_error')\n",
    "ridge_cv = cross_val_score(ridge, X, y, cv=folds, scoring='neg_mean_squared_error')\n",
    "knn_cv = cross_val_score(knn, X, y, cv=folds, scoring='neg_mean_squared_error')"
   ]
  },
  {
   "cell_type": "code",
   "execution_count": 152,
   "metadata": {},
   "outputs": [
    {
     "name": "stdout",
     "output_type": "stream",
     "text": [
      "-12.46774871006041 -11.925746853087011 -12.467636213421011 -7.333651729972066\n"
     ]
    }
   ],
   "source": [
    "lin_cv_mean = linear_cv.mean()\n",
    "lasso_cv_mean = lasso_cv.mean()\n",
    "ridge_cv_mean = ridge_cv.mean()\n",
    "knn_cv_mean = knn_cv.mean()\n",
    "\n",
    "print(lin_cv_mean, lasso_cv_mean, ridge_cv_mean, knn_cv_mean)"
   ]
  },
  {
   "cell_type": "markdown",
   "metadata": {},
   "source": [
    "<h4>Ordinary Least Squares</h4>"
   ]
  },
  {
   "cell_type": "code",
   "execution_count": 153,
   "metadata": {},
   "outputs": [
    {
     "name": "stdout",
     "output_type": "stream",
     "text": [
      "11.637038790448663\n"
     ]
    }
   ],
   "source": [
    "X2 = sm.add_constant(X)\n",
    "est = sm.OLS(y, X2)\n",
    "est2 = est.fit()\n",
    "print(est2.mse_total)\n",
    "# print(est2.summary())"
   ]
  },
  {
   "cell_type": "markdown",
   "metadata": {},
   "source": [
    "<h4>Run random forest regressor</h4>"
   ]
  },
  {
   "cell_type": "code",
   "execution_count": 154,
   "metadata": {},
   "outputs": [
    {
     "data": {
      "text/plain": [
       "8.397708075064518"
      ]
     },
     "execution_count": 154,
     "metadata": {},
     "output_type": "execute_result"
    }
   ],
   "source": [
    "# instantiate RF and linear regression model\n",
    "rf = RandomForestRegressor(n_estimators=200, max_depth=5, min_samples_split=5, min_samples_leaf=1, min_weight_fraction_leaf=0.0, max_features=3, max_leaf_nodes=None, min_impurity_decrease=0.0, min_impurity_split=None, bootstrap=True)\n",
    "rf.fit(X_train, y_train)\n",
    "y_hat = rf.predict(X_test)\n",
    "\n",
    "mse = mean_squared_error(y_test, y_hat)\n",
    "mse"
   ]
  },
  {
   "cell_type": "markdown",
   "metadata": {},
   "source": [
    "<h4>Check accuracy of predictions between train and test set</h4>"
   ]
  },
  {
   "cell_type": "code",
   "execution_count": 53,
   "metadata": {},
   "outputs": [],
   "source": [
    "# X_test"
   ]
  },
  {
   "cell_type": "code",
   "execution_count": 52,
   "metadata": {},
   "outputs": [],
   "source": [
    "# y_insamp_pred = rf.predict(X_test)"
   ]
  },
  {
   "cell_type": "code",
   "execution_count": 51,
   "metadata": {},
   "outputs": [],
   "source": [
    "# # convert insample predictions array to df\n",
    "# y_insamp_pred_df = pd.DataFrame({'col_1': y_insamp_pred[:] })"
   ]
  },
  {
   "cell_type": "code",
   "execution_count": 50,
   "metadata": {},
   "outputs": [],
   "source": [
    "# y_insamp_pred_df.head()"
   ]
  },
  {
   "cell_type": "code",
   "execution_count": 49,
   "metadata": {},
   "outputs": [],
   "source": [
    "# col_kwh_year_df[447:]"
   ]
  },
  {
   "cell_type": "code",
   "execution_count": 48,
   "metadata": {},
   "outputs": [],
   "source": [
    "# y_insamp_pred.shape"
   ]
  },
  {
   "cell_type": "code",
   "execution_count": 47,
   "metadata": {},
   "outputs": [],
   "source": [
    "# # convert X_test df into array\n",
    "# X_test_arr = X_test.to_numpy()\n",
    "\n",
    "# # scale back data to its original representation of x (array passed into train, test, split)\n",
    "# x_test_inverse = X_test_arr.inverse_transform(y_insamp_pred)"
   ]
  },
  {
   "cell_type": "code",
   "execution_count": 54,
   "metadata": {},
   "outputs": [],
   "source": [
    "# col_kwh_year_df"
   ]
  },
  {
   "cell_type": "markdown",
   "metadata": {},
   "source": [
    "<h4>Generate Predictions for kwh consumption data</h4>"
   ]
  },
  {
   "cell_type": "code",
   "execution_count": 41,
   "metadata": {},
   "outputs": [],
   "source": [
    "# 'avg_kwh', 'Latitude', 'Longitude', 'prop_id', 'Heated_SquareFeet',\n",
    "#        'SHAPE_Area', 'kwh_per_sqft', 'code_release'"
   ]
  },
  {
   "cell_type": "code",
   "execution_count": 42,
   "metadata": {},
   "outputs": [],
   "source": [
    "# electricity_df.info()"
   ]
  },
  {
   "cell_type": "code",
   "execution_count": 43,
   "metadata": {},
   "outputs": [],
   "source": [
    "# # remove non numerical columns \n",
    "# electricity_df = electricity_df.drop(columns=['Service Address','Service City', 'Month', 'Year', 'Date', 'Location'])"
   ]
  },
  {
   "cell_type": "code",
   "execution_count": 44,
   "metadata": {},
   "outputs": [],
   "source": [
    "# electricity_df = electricity_df.dropna()"
   ]
  },
  {
   "cell_type": "code",
   "execution_count": 45,
   "metadata": {},
   "outputs": [],
   "source": [
    "# electricity_df.head()\n",
    "# electricity_arr = electricity_df.to_numpy()"
   ]
  },
  {
   "cell_type": "markdown",
   "metadata": {},
   "source": [
    "<h4>Scale input Data</h4>"
   ]
  },
  {
   "cell_type": "code",
   "execution_count": 46,
   "metadata": {},
   "outputs": [],
   "source": [
    "# # standardizing data\n",
    "# features_input = ['KWH Consumption', 'Latitude', 'Longitude']\n",
    "# # Separating out the features\n",
    "# x_input = electricity_df.loc[:, features_input].values\n",
    "# # Standardizing the features\n",
    "# x_input = StandardScaler().fit_transform(x_input)"
   ]
  },
  {
   "cell_type": "code",
   "execution_count": 47,
   "metadata": {},
   "outputs": [],
   "source": [
    "# x_input[1]"
   ]
  },
  {
   "cell_type": "markdown",
   "metadata": {},
   "source": []
  },
  {
   "cell_type": "code",
   "execution_count": 117,
   "metadata": {},
   "outputs": [],
   "source": []
  },
  {
   "cell_type": "markdown",
   "metadata": {},
   "source": [
    "#### Feature importance"
   ]
  },
  {
   "cell_type": "code",
   "execution_count": 155,
   "metadata": {},
   "outputs": [
    {
     "data": {
      "image/png": "[encoded data removed]",
      "text/plain": [
       "<Figure size 576x223.2 with 1 Axes>"
      ]
     },
     "metadata": {
      "image/png": {
       "height": 217,
       "width": 595
      },
      "needs_background": "light"
     },
     "output_type": "display_data"
    }
   ],
   "source": [
    "shap_values = shap.TreeExplainer(rf).shap_values(X_test)\n",
    "shap.summary_plot(shap_values, X_test, plot_type=\"bar\")"
   ]
  },
  {
   "cell_type": "code",
   "execution_count": 156,
   "metadata": {},
   "outputs": [
    {
     "data": {
      "image/png": "[encoded data removed]",
      "text/plain": [
       "<Figure size 576x223.2 with 2 Axes>"
      ]
     },
     "metadata": {
      "image/png": {
       "height": 220,
       "width": 591
      },
      "needs_background": "light"
     },
     "output_type": "display_data"
    }
   ],
   "source": [
    "import matplotlib.pyplot as plt\n",
    "f = plt.figure()\n",
    "shap.summary_plot(shap_values, X_test)\n",
    "# f.savefig(\"/summary_plot1.png\", bbox_inches='tight', dpi=600)"
   ]
  },
  {
   "cell_type": "markdown",
   "metadata": {},
   "source": [
    "<h4>Generate efficiency investement index predictions df for test set for Dash</h4>"
   ]
  },
  {
   "cell_type": "code",
   "execution_count": 157,
   "metadata": {},
   "outputs": [],
   "source": [
    "y_hat_test = rf.predict(X_test)"
   ]
  },
  {
   "cell_type": "code",
   "execution_count": 162,
   "metadata": {},
   "outputs": [
    {
     "name": "stderr",
     "output_type": "stream",
     "text": [
      "\n",
      "A value is trying to be set on a copy of a slice from a DataFrame.\n",
      "Try using .loc[row_indexer,col_indexer] = value instead\n",
      "\n",
      "See the caveats in the documentation: https://pandas.pydata.org/pandas-docs/stable/user_guide/indexing.html#returning-a-view-versus-a-copy\n"
     ]
    }
   ],
   "source": [
    "X_test_pred = X_test\n",
    "X_test_pred['pred_code_release'] = y_hat_test"
   ]
  },
  {
   "cell_type": "code",
   "execution_count": 167,
   "metadata": {},
   "outputs": [
    {
     "name": "stdout",
     "output_type": "stream",
     "text": [
      "<class 'pandas.core.frame.DataFrame'>\n",
      "Int64Index: 8615 entries, 5884 to 7186\n",
      "Data columns (total 5 columns):\n",
      " #   Column             Non-Null Count  Dtype  \n",
      "---  ------             --------------  -----  \n",
      " 0   avg_kwh            8615 non-null   float64\n",
      " 1   Parcel Number      8615 non-null   int64  \n",
      " 2   Heated_SquareFeet  8615 non-null   float64\n",
      " 3   kwh_per_sqft       8615 non-null   float64\n",
      " 4   pred_code_release  8615 non-null   float64\n",
      "dtypes: float64(4), int64(1)\n",
      "memory usage: 403.8 KB\n"
     ]
    }
   ],
   "source": [
    "#8615\n",
    "\n",
    "X_test_pred.info()"
   ]
  },
  {
   "cell_type": "markdown",
   "metadata": {},
   "source": [
    "<h4>Export predictions dataframe</h4>"
   ]
  },
  {
   "cell_type": "code",
   "execution_count": 160,
   "metadata": {},
   "outputs": [],
   "source": [
    "# export predictions data for use in the carbon zero application\n",
    "X_test_pred.to_csv(r'stationary-data/X_test_pred.csv', header=True)"
   ]
  },
  {
   "cell_type": "code",
   "execution_count": null,
   "metadata": {},
   "outputs": [],
   "source": []
  }
 ],
 "metadata": {
  "kernelspec": {
   "display_name": "Python 3",
   "language": "python",
   "name": "python3"
  },
  "language_info": {
   "codemirror_mode": {
    "name": "ipython",
    "version": 3
   },
   "file_extension": ".py",
   "mimetype": "text/x-python",
   "name": "python",
   "nbconvert_exporter": "python",
   "pygments_lexer": "ipython3",
   "version": "3.7.9"
  }
 },
 "nbformat": 4,
 "nbformat_minor": 4
}
