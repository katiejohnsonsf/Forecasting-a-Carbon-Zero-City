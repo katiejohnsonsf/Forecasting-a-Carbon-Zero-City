{
 "cells": [
  {
   "cell_type": "code",
   "execution_count": 13,
   "metadata": {},
   "outputs": [],
   "source": [
    "import pandas as pd\n",
    "import numpy as np\n",
    "import datetime as dt\n",
    "from datetime import datetime\n",
    "from datetime import datetime\n",
    "import matplotlib.pyplot as plt\n",
    "%matplotlib inline\n",
    "%config InlineBackend.figure_format = 'retina'\n",
    "from sklearn.pipeline import Pipeline\n",
    "from sklearn.model_selection import train_test_split, KFold\n",
    "from sklearn.neighbors import KNeighborsRegressor\n",
    "from sklearn.linear_model import Lasso\n",
    "from sklearn.linear_model import Ridge\n",
    "from sklearn.linear_model import LinearRegression\n",
    "from sklearn.metrics import mean_squared_error\n",
    "from sklearn.model_selection import cross_val_score\n",
    "from sklearn.ensemble import RandomForestRegressor\n",
    "import statsmodels.api as sm\n",
    "\n",
    "from sklearn.preprocessing import StandardScaler\n",
    "from sklearn.decomposition import PCA\n",
    "\n",
    "from sklearn import datasets, metrics, model_selection, svm\n",
    "import statsmodels.api as sm\n",
    "\n",
    "pd.set_option('display.max_columns', None)\n",
    "pd.set_option('display.max_rows', None)"
   ]
  },
  {
   "cell_type": "markdown",
   "metadata": {},
   "source": [
    "<h4>Read in building and electical consumption data</H4>"
   ]
  },
  {
   "cell_type": "code",
   "execution_count": 14,
   "metadata": {},
   "outputs": [],
   "source": [
    "# read in electricity consumption and building data\n",
    "kwh_year_df = pd.read_csv('clean-data/kwh_year.csv')"
   ]
  },
  {
   "cell_type": "code",
   "execution_count": 15,
   "metadata": {},
   "outputs": [],
   "source": [
    "kwh_year_df = kwh_year_df.drop(columns='Unnamed: 0')"
   ]
  },
  {
   "cell_type": "code",
   "execution_count": 181,
   "metadata": {},
   "outputs": [],
   "source": [
    "kwh_year_df = kwh_year_df.drop(columns=['Service Address', 'Date'])"
   ]
  },
  {
   "cell_type": "code",
   "execution_count": 16,
   "metadata": {},
   "outputs": [],
   "source": [
    "# read in electricity consumption data\n",
    "electricity_df = pd.read_csv('data/GRU_Customer_Electric_Consumption.csv')"
   ]
  },
  {
   "cell_type": "markdown",
   "metadata": {},
   "source": [
    "<h4>Identify colinear features</h4>"
   ]
  },
  {
   "cell_type": "code",
   "execution_count": 202,
   "metadata": {},
   "outputs": [
    {
     "data": {
      "text/html": [
       "<div>\n",
       "<style scoped>\n",
       "    .dataframe tbody tr th:only-of-type {\n",
       "        vertical-align: middle;\n",
       "    }\n",
       "\n",
       "    .dataframe tbody tr th {\n",
       "        vertical-align: top;\n",
       "    }\n",
       "\n",
       "    .dataframe thead th {\n",
       "        text-align: right;\n",
       "    }\n",
       "</style>\n",
       "<table border=\"1\" class=\"dataframe\">\n",
       "  <thead>\n",
       "    <tr style=\"text-align: right;\">\n",
       "      <th></th>\n",
       "      <th>avg_kwh</th>\n",
       "      <th>Latitude</th>\n",
       "      <th>Longitude</th>\n",
       "      <th>prop_id</th>\n",
       "      <th>Imprv_ID</th>\n",
       "      <th>Effective_YrBlt</th>\n",
       "      <th>Actual_YrBlt</th>\n",
       "      <th>Bldg_Num</th>\n",
       "      <th>Heated_SquareFeet</th>\n",
       "      <th>StatedArea</th>\n",
       "      <th>LATITUDE</th>\n",
       "      <th>LONGITUDE</th>\n",
       "      <th>POST_CODE</th>\n",
       "      <th>SHAPE_Length</th>\n",
       "      <th>SHAPE_Area</th>\n",
       "      <th>kwh_per_sqft</th>\n",
       "      <th>code_release</th>\n",
       "    </tr>\n",
       "  </thead>\n",
       "  <tbody>\n",
       "    <tr>\n",
       "      <th>avg_kwh</th>\n",
       "      <td>1.000000</td>\n",
       "      <td>0.040056</td>\n",
       "      <td>-0.127483</td>\n",
       "      <td>-0.094862</td>\n",
       "      <td>-0.096427</td>\n",
       "      <td>0.009237</td>\n",
       "      <td>0.050600</td>\n",
       "      <td>-0.088637</td>\n",
       "      <td>0.030000</td>\n",
       "      <td>0.071025</td>\n",
       "      <td>0.040056</td>\n",
       "      <td>-0.080272</td>\n",
       "      <td>-0.061957</td>\n",
       "      <td>0.051801</td>\n",
       "      <td>0.070886</td>\n",
       "      <td>0.756406</td>\n",
       "      <td>0.012844</td>\n",
       "    </tr>\n",
       "    <tr>\n",
       "      <th>Latitude</th>\n",
       "      <td>0.040056</td>\n",
       "      <td>1.000000</td>\n",
       "      <td>0.012955</td>\n",
       "      <td>-0.252798</td>\n",
       "      <td>-0.269676</td>\n",
       "      <td>-0.147971</td>\n",
       "      <td>-0.173119</td>\n",
       "      <td>-0.249917</td>\n",
       "      <td>0.084560</td>\n",
       "      <td>0.098052</td>\n",
       "      <td>1.000000</td>\n",
       "      <td>0.012580</td>\n",
       "      <td>0.050522</td>\n",
       "      <td>-0.068329</td>\n",
       "      <td>0.098006</td>\n",
       "      <td>-0.077943</td>\n",
       "      <td>-0.145616</td>\n",
       "    </tr>\n",
       "    <tr>\n",
       "      <th>Longitude</th>\n",
       "      <td>-0.127483</td>\n",
       "      <td>0.012955</td>\n",
       "      <td>1.000000</td>\n",
       "      <td>-0.088834</td>\n",
       "      <td>-0.083928</td>\n",
       "      <td>0.007443</td>\n",
       "      <td>0.016086</td>\n",
       "      <td>-0.103413</td>\n",
       "      <td>-0.076855</td>\n",
       "      <td>0.019429</td>\n",
       "      <td>0.012955</td>\n",
       "      <td>-0.072087</td>\n",
       "      <td>0.099465</td>\n",
       "      <td>0.061216</td>\n",
       "      <td>0.019362</td>\n",
       "      <td>-0.128218</td>\n",
       "      <td>0.020579</td>\n",
       "    </tr>\n",
       "    <tr>\n",
       "      <th>prop_id</th>\n",
       "      <td>-0.094862</td>\n",
       "      <td>-0.252798</td>\n",
       "      <td>-0.088834</td>\n",
       "      <td>1.000000</td>\n",
       "      <td>0.999163</td>\n",
       "      <td>-0.328155</td>\n",
       "      <td>-0.485720</td>\n",
       "      <td>0.979195</td>\n",
       "      <td>-0.073447</td>\n",
       "      <td>-0.143555</td>\n",
       "      <td>-0.252798</td>\n",
       "      <td>0.831592</td>\n",
       "      <td>-0.077742</td>\n",
       "      <td>-0.102772</td>\n",
       "      <td>-0.143622</td>\n",
       "      <td>0.172702</td>\n",
       "      <td>-0.347216</td>\n",
       "    </tr>\n",
       "    <tr>\n",
       "      <th>Imprv_ID</th>\n",
       "      <td>-0.096427</td>\n",
       "      <td>-0.269676</td>\n",
       "      <td>-0.083928</td>\n",
       "      <td>0.999163</td>\n",
       "      <td>1.000000</td>\n",
       "      <td>-0.330094</td>\n",
       "      <td>-0.489333</td>\n",
       "      <td>0.976026</td>\n",
       "      <td>-0.075217</td>\n",
       "      <td>-0.143269</td>\n",
       "      <td>-0.269676</td>\n",
       "      <td>0.824767</td>\n",
       "      <td>-0.065282</td>\n",
       "      <td>-0.103277</td>\n",
       "      <td>-0.143335</td>\n",
       "      <td>0.176002</td>\n",
       "      <td>-0.349110</td>\n",
       "    </tr>\n",
       "    <tr>\n",
       "      <th>Effective_YrBlt</th>\n",
       "      <td>0.009237</td>\n",
       "      <td>-0.147971</td>\n",
       "      <td>0.007443</td>\n",
       "      <td>-0.328155</td>\n",
       "      <td>-0.330094</td>\n",
       "      <td>1.000000</td>\n",
       "      <td>0.848367</td>\n",
       "      <td>-0.295380</td>\n",
       "      <td>-0.198313</td>\n",
       "      <td>0.097112</td>\n",
       "      <td>-0.147971</td>\n",
       "      <td>-0.355596</td>\n",
       "      <td>-0.098143</td>\n",
       "      <td>0.101583</td>\n",
       "      <td>0.097163</td>\n",
       "      <td>-0.123043</td>\n",
       "      <td>0.998260</td>\n",
       "    </tr>\n",
       "    <tr>\n",
       "      <th>Actual_YrBlt</th>\n",
       "      <td>0.050600</td>\n",
       "      <td>-0.173119</td>\n",
       "      <td>0.016086</td>\n",
       "      <td>-0.485720</td>\n",
       "      <td>-0.489333</td>\n",
       "      <td>0.848367</td>\n",
       "      <td>1.000000</td>\n",
       "      <td>-0.448812</td>\n",
       "      <td>-0.031026</td>\n",
       "      <td>0.178475</td>\n",
       "      <td>-0.173119</td>\n",
       "      <td>-0.488636</td>\n",
       "      <td>-0.131531</td>\n",
       "      <td>0.188564</td>\n",
       "      <td>0.178468</td>\n",
       "      <td>-0.134784</td>\n",
       "      <td>0.856471</td>\n",
       "    </tr>\n",
       "    <tr>\n",
       "      <th>Bldg_Num</th>\n",
       "      <td>-0.088637</td>\n",
       "      <td>-0.249917</td>\n",
       "      <td>-0.103413</td>\n",
       "      <td>0.979195</td>\n",
       "      <td>0.976026</td>\n",
       "      <td>-0.295380</td>\n",
       "      <td>-0.448812</td>\n",
       "      <td>1.000000</td>\n",
       "      <td>-0.062558</td>\n",
       "      <td>-0.140084</td>\n",
       "      <td>-0.249917</td>\n",
       "      <td>0.756615</td>\n",
       "      <td>-0.040090</td>\n",
       "      <td>-0.102596</td>\n",
       "      <td>-0.140148</td>\n",
       "      <td>0.157644</td>\n",
       "      <td>-0.312866</td>\n",
       "    </tr>\n",
       "    <tr>\n",
       "      <th>Heated_SquareFeet</th>\n",
       "      <td>0.030000</td>\n",
       "      <td>0.084560</td>\n",
       "      <td>-0.076855</td>\n",
       "      <td>-0.073447</td>\n",
       "      <td>-0.075217</td>\n",
       "      <td>-0.198313</td>\n",
       "      <td>-0.031026</td>\n",
       "      <td>-0.062558</td>\n",
       "      <td>1.000000</td>\n",
       "      <td>0.162652</td>\n",
       "      <td>0.084560</td>\n",
       "      <td>-0.073115</td>\n",
       "      <td>0.009133</td>\n",
       "      <td>0.039347</td>\n",
       "      <td>0.162402</td>\n",
       "      <td>-0.238142</td>\n",
       "      <td>-0.187165</td>\n",
       "    </tr>\n",
       "    <tr>\n",
       "      <th>StatedArea</th>\n",
       "      <td>0.071025</td>\n",
       "      <td>0.098052</td>\n",
       "      <td>0.019429</td>\n",
       "      <td>-0.143555</td>\n",
       "      <td>-0.143269</td>\n",
       "      <td>0.097112</td>\n",
       "      <td>0.178475</td>\n",
       "      <td>-0.140084</td>\n",
       "      <td>0.162652</td>\n",
       "      <td>1.000000</td>\n",
       "      <td>0.098052</td>\n",
       "      <td>-0.132986</td>\n",
       "      <td>-0.026166</td>\n",
       "      <td>0.857624</td>\n",
       "      <td>0.999999</td>\n",
       "      <td>0.005519</td>\n",
       "      <td>0.106285</td>\n",
       "    </tr>\n",
       "    <tr>\n",
       "      <th>LATITUDE</th>\n",
       "      <td>0.040056</td>\n",
       "      <td>1.000000</td>\n",
       "      <td>0.012955</td>\n",
       "      <td>-0.252798</td>\n",
       "      <td>-0.269676</td>\n",
       "      <td>-0.147971</td>\n",
       "      <td>-0.173119</td>\n",
       "      <td>-0.249917</td>\n",
       "      <td>0.084560</td>\n",
       "      <td>0.098052</td>\n",
       "      <td>1.000000</td>\n",
       "      <td>0.012580</td>\n",
       "      <td>0.050522</td>\n",
       "      <td>-0.068329</td>\n",
       "      <td>0.098006</td>\n",
       "      <td>-0.077943</td>\n",
       "      <td>-0.145616</td>\n",
       "    </tr>\n",
       "    <tr>\n",
       "      <th>LONGITUDE</th>\n",
       "      <td>-0.080272</td>\n",
       "      <td>0.012580</td>\n",
       "      <td>-0.072087</td>\n",
       "      <td>0.831592</td>\n",
       "      <td>0.824767</td>\n",
       "      <td>-0.355596</td>\n",
       "      <td>-0.488636</td>\n",
       "      <td>0.756615</td>\n",
       "      <td>-0.073115</td>\n",
       "      <td>-0.132986</td>\n",
       "      <td>0.012580</td>\n",
       "      <td>1.000000</td>\n",
       "      <td>-0.163450</td>\n",
       "      <td>-0.102657</td>\n",
       "      <td>-0.133069</td>\n",
       "      <td>0.161823</td>\n",
       "      <td>-0.376013</td>\n",
       "    </tr>\n",
       "    <tr>\n",
       "      <th>POST_CODE</th>\n",
       "      <td>-0.061957</td>\n",
       "      <td>0.050522</td>\n",
       "      <td>0.099465</td>\n",
       "      <td>-0.077742</td>\n",
       "      <td>-0.065282</td>\n",
       "      <td>-0.098143</td>\n",
       "      <td>-0.131531</td>\n",
       "      <td>-0.040090</td>\n",
       "      <td>0.009133</td>\n",
       "      <td>-0.026166</td>\n",
       "      <td>0.050522</td>\n",
       "      <td>-0.163450</td>\n",
       "      <td>1.000000</td>\n",
       "      <td>-0.133175</td>\n",
       "      <td>-0.026092</td>\n",
       "      <td>0.040619</td>\n",
       "      <td>-0.106601</td>\n",
       "    </tr>\n",
       "    <tr>\n",
       "      <th>SHAPE_Length</th>\n",
       "      <td>0.051801</td>\n",
       "      <td>-0.068329</td>\n",
       "      <td>0.061216</td>\n",
       "      <td>-0.102772</td>\n",
       "      <td>-0.103277</td>\n",
       "      <td>0.101583</td>\n",
       "      <td>0.188564</td>\n",
       "      <td>-0.102596</td>\n",
       "      <td>0.039347</td>\n",
       "      <td>0.857624</td>\n",
       "      <td>-0.068329</td>\n",
       "      <td>-0.102657</td>\n",
       "      <td>-0.133175</td>\n",
       "      <td>1.000000</td>\n",
       "      <td>0.857677</td>\n",
       "      <td>0.036812</td>\n",
       "      <td>0.111056</td>\n",
       "    </tr>\n",
       "    <tr>\n",
       "      <th>SHAPE_Area</th>\n",
       "      <td>0.070886</td>\n",
       "      <td>0.098006</td>\n",
       "      <td>0.019362</td>\n",
       "      <td>-0.143622</td>\n",
       "      <td>-0.143335</td>\n",
       "      <td>0.097163</td>\n",
       "      <td>0.178468</td>\n",
       "      <td>-0.140148</td>\n",
       "      <td>0.162402</td>\n",
       "      <td>0.999999</td>\n",
       "      <td>0.098006</td>\n",
       "      <td>-0.133069</td>\n",
       "      <td>-0.026092</td>\n",
       "      <td>0.857677</td>\n",
       "      <td>1.000000</td>\n",
       "      <td>0.005622</td>\n",
       "      <td>0.106326</td>\n",
       "    </tr>\n",
       "    <tr>\n",
       "      <th>kwh_per_sqft</th>\n",
       "      <td>0.756406</td>\n",
       "      <td>-0.077943</td>\n",
       "      <td>-0.128218</td>\n",
       "      <td>0.172702</td>\n",
       "      <td>0.176002</td>\n",
       "      <td>-0.123043</td>\n",
       "      <td>-0.134784</td>\n",
       "      <td>0.157644</td>\n",
       "      <td>-0.238142</td>\n",
       "      <td>0.005519</td>\n",
       "      <td>-0.077943</td>\n",
       "      <td>0.161823</td>\n",
       "      <td>0.040619</td>\n",
       "      <td>0.036812</td>\n",
       "      <td>0.005622</td>\n",
       "      <td>1.000000</td>\n",
       "      <td>-0.131373</td>\n",
       "    </tr>\n",
       "    <tr>\n",
       "      <th>code_release</th>\n",
       "      <td>0.012844</td>\n",
       "      <td>-0.145616</td>\n",
       "      <td>0.020579</td>\n",
       "      <td>-0.347216</td>\n",
       "      <td>-0.349110</td>\n",
       "      <td>0.998260</td>\n",
       "      <td>0.856471</td>\n",
       "      <td>-0.312866</td>\n",
       "      <td>-0.187165</td>\n",
       "      <td>0.106285</td>\n",
       "      <td>-0.145616</td>\n",
       "      <td>-0.376013</td>\n",
       "      <td>-0.106601</td>\n",
       "      <td>0.111056</td>\n",
       "      <td>0.106326</td>\n",
       "      <td>-0.131373</td>\n",
       "      <td>1.000000</td>\n",
       "    </tr>\n",
       "  </tbody>\n",
       "</table>\n",
       "</div>"
      ],
      "text/plain": [
       "                    avg_kwh  Latitude  Longitude   prop_id  Imprv_ID  \\\n",
       "avg_kwh            1.000000  0.040056  -0.127483 -0.094862 -0.096427   \n",
       "Latitude           0.040056  1.000000   0.012955 -0.252798 -0.269676   \n",
       "Longitude         -0.127483  0.012955   1.000000 -0.088834 -0.083928   \n",
       "prop_id           -0.094862 -0.252798  -0.088834  1.000000  0.999163   \n",
       "Imprv_ID          -0.096427 -0.269676  -0.083928  0.999163  1.000000   \n",
       "Effective_YrBlt    0.009237 -0.147971   0.007443 -0.328155 -0.330094   \n",
       "Actual_YrBlt       0.050600 -0.173119   0.016086 -0.485720 -0.489333   \n",
       "Bldg_Num          -0.088637 -0.249917  -0.103413  0.979195  0.976026   \n",
       "Heated_SquareFeet  0.030000  0.084560  -0.076855 -0.073447 -0.075217   \n",
       "StatedArea         0.071025  0.098052   0.019429 -0.143555 -0.143269   \n",
       "LATITUDE           0.040056  1.000000   0.012955 -0.252798 -0.269676   \n",
       "LONGITUDE         -0.080272  0.012580  -0.072087  0.831592  0.824767   \n",
       "POST_CODE         -0.061957  0.050522   0.099465 -0.077742 -0.065282   \n",
       "SHAPE_Length       0.051801 -0.068329   0.061216 -0.102772 -0.103277   \n",
       "SHAPE_Area         0.070886  0.098006   0.019362 -0.143622 -0.143335   \n",
       "kwh_per_sqft       0.756406 -0.077943  -0.128218  0.172702  0.176002   \n",
       "code_release       0.012844 -0.145616   0.020579 -0.347216 -0.349110   \n",
       "\n",
       "                   Effective_YrBlt  Actual_YrBlt  Bldg_Num  Heated_SquareFeet  \\\n",
       "avg_kwh                   0.009237      0.050600 -0.088637           0.030000   \n",
       "Latitude                 -0.147971     -0.173119 -0.249917           0.084560   \n",
       "Longitude                 0.007443      0.016086 -0.103413          -0.076855   \n",
       "prop_id                  -0.328155     -0.485720  0.979195          -0.073447   \n",
       "Imprv_ID                 -0.330094     -0.489333  0.976026          -0.075217   \n",
       "Effective_YrBlt           1.000000      0.848367 -0.295380          -0.198313   \n",
       "Actual_YrBlt              0.848367      1.000000 -0.448812          -0.031026   \n",
       "Bldg_Num                 -0.295380     -0.448812  1.000000          -0.062558   \n",
       "Heated_SquareFeet        -0.198313     -0.031026 -0.062558           1.000000   \n",
       "StatedArea                0.097112      0.178475 -0.140084           0.162652   \n",
       "LATITUDE                 -0.147971     -0.173119 -0.249917           0.084560   \n",
       "LONGITUDE                -0.355596     -0.488636  0.756615          -0.073115   \n",
       "POST_CODE                -0.098143     -0.131531 -0.040090           0.009133   \n",
       "SHAPE_Length              0.101583      0.188564 -0.102596           0.039347   \n",
       "SHAPE_Area                0.097163      0.178468 -0.140148           0.162402   \n",
       "kwh_per_sqft             -0.123043     -0.134784  0.157644          -0.238142   \n",
       "code_release              0.998260      0.856471 -0.312866          -0.187165   \n",
       "\n",
       "                   StatedArea  LATITUDE  LONGITUDE  POST_CODE  SHAPE_Length  \\\n",
       "avg_kwh              0.071025  0.040056  -0.080272  -0.061957      0.051801   \n",
       "Latitude             0.098052  1.000000   0.012580   0.050522     -0.068329   \n",
       "Longitude            0.019429  0.012955  -0.072087   0.099465      0.061216   \n",
       "prop_id             -0.143555 -0.252798   0.831592  -0.077742     -0.102772   \n",
       "Imprv_ID            -0.143269 -0.269676   0.824767  -0.065282     -0.103277   \n",
       "Effective_YrBlt      0.097112 -0.147971  -0.355596  -0.098143      0.101583   \n",
       "Actual_YrBlt         0.178475 -0.173119  -0.488636  -0.131531      0.188564   \n",
       "Bldg_Num            -0.140084 -0.249917   0.756615  -0.040090     -0.102596   \n",
       "Heated_SquareFeet    0.162652  0.084560  -0.073115   0.009133      0.039347   \n",
       "StatedArea           1.000000  0.098052  -0.132986  -0.026166      0.857624   \n",
       "LATITUDE             0.098052  1.000000   0.012580   0.050522     -0.068329   \n",
       "LONGITUDE           -0.132986  0.012580   1.000000  -0.163450     -0.102657   \n",
       "POST_CODE           -0.026166  0.050522  -0.163450   1.000000     -0.133175   \n",
       "SHAPE_Length         0.857624 -0.068329  -0.102657  -0.133175      1.000000   \n",
       "SHAPE_Area           0.999999  0.098006  -0.133069  -0.026092      0.857677   \n",
       "kwh_per_sqft         0.005519 -0.077943   0.161823   0.040619      0.036812   \n",
       "code_release         0.106285 -0.145616  -0.376013  -0.106601      0.111056   \n",
       "\n",
       "                   SHAPE_Area  kwh_per_sqft  code_release  \n",
       "avg_kwh              0.070886      0.756406      0.012844  \n",
       "Latitude             0.098006     -0.077943     -0.145616  \n",
       "Longitude            0.019362     -0.128218      0.020579  \n",
       "prop_id             -0.143622      0.172702     -0.347216  \n",
       "Imprv_ID            -0.143335      0.176002     -0.349110  \n",
       "Effective_YrBlt      0.097163     -0.123043      0.998260  \n",
       "Actual_YrBlt         0.178468     -0.134784      0.856471  \n",
       "Bldg_Num            -0.140148      0.157644     -0.312866  \n",
       "Heated_SquareFeet    0.162402     -0.238142     -0.187165  \n",
       "StatedArea           0.999999      0.005519      0.106285  \n",
       "LATITUDE             0.098006     -0.077943     -0.145616  \n",
       "LONGITUDE           -0.133069      0.161823     -0.376013  \n",
       "POST_CODE           -0.026092      0.040619     -0.106601  \n",
       "SHAPE_Length         0.857677      0.036812      0.111056  \n",
       "SHAPE_Area           1.000000      0.005622      0.106326  \n",
       "kwh_per_sqft         0.005622      1.000000     -0.131373  \n",
       "code_release         0.106326     -0.131373      1.000000  "
      ]
     },
     "execution_count": 202,
     "metadata": {},
     "output_type": "execute_result"
    }
   ],
   "source": [
    "kwh_year_df.corr()"
   ]
  },
  {
   "cell_type": "markdown",
   "metadata": {},
   "source": [
    "<h4>Remove colinear features</h4>"
   ]
  },
  {
   "cell_type": "code",
   "execution_count": 17,
   "metadata": {},
   "outputs": [
    {
     "data": {
      "text/plain": [
       "Index(['Service Address', 'avg_kwh', 'Date', 'Latitude', 'Longitude',\n",
       "       'prop_id', 'Heated_SquareFeet', 'SHAPE_Area', 'kwh_per_sqft',\n",
       "       'code_release'],\n",
       "      dtype='object')"
      ]
     },
     "execution_count": 17,
     "metadata": {},
     "output_type": "execute_result"
    }
   ],
   "source": [
    "col_kwh_year_df = kwh_year_df.drop(columns=['Bldg_Num', 'StatedArea', 'SHAPE_Length', 'Effective_YrBlt', 'Actual_YrBlt', 'Imprv_ID', 'LATITUDE', 'LONGITUDE', 'POST_CODE']) \n",
    "col_kwh_year_df.columns"
   ]
  },
  {
   "cell_type": "markdown",
   "metadata": {},
   "source": [
    "<h4>PCA</h4>"
   ]
  },
  {
   "cell_type": "code",
   "execution_count": 18,
   "metadata": {},
   "outputs": [],
   "source": [
    "# standardizing data\n",
    "features = ['avg_kwh', 'Latitude', 'Longitude', 'prop_id', 'Heated_SquareFeet',\n",
    "       'SHAPE_Area', 'kwh_per_sqft', 'code_release']\n",
    "# Separating out the features\n",
    "x = col_kwh_year_df.loc[:, features].values\n",
    "# Separating out the target\n",
    "y = col_kwh_year_df.loc[:,['code_release']].values\n",
    "# Standardizing the features\n",
    "x = StandardScaler().fit_transform(x)"
   ]
  },
  {
   "cell_type": "code",
   "execution_count": 44,
   "metadata": {},
   "outputs": [],
   "source": [
    "pca = PCA(n_components=3)\n",
    "principalComponents = pca.fit_transform(x)\n",
    "principalDf = pd.DataFrame(data = principalComponents\n",
    "             , columns = ['pc1', 'pc2', 'pc3'])"
   ]
  },
  {
   "cell_type": "code",
   "execution_count": 45,
   "metadata": {},
   "outputs": [],
   "source": [
    "finalDf = pd.concat([principalDf, col_kwh_year_df[['code_release']]], axis = 1)"
   ]
  },
  {
   "cell_type": "code",
   "execution_count": 46,
   "metadata": {},
   "outputs": [],
   "source": [
    "year_list = col_kwh_year_df['code_release'].values"
   ]
  },
  {
   "cell_type": "code",
   "execution_count": 47,
   "metadata": {},
   "outputs": [
    {
     "data": {
      "text/html": [
       "<div>\n",
       "<style scoped>\n",
       "    .dataframe tbody tr th:only-of-type {\n",
       "        vertical-align: middle;\n",
       "    }\n",
       "\n",
       "    .dataframe tbody tr th {\n",
       "        vertical-align: top;\n",
       "    }\n",
       "\n",
       "    .dataframe thead th {\n",
       "        text-align: right;\n",
       "    }\n",
       "</style>\n",
       "<table border=\"1\" class=\"dataframe\">\n",
       "  <thead>\n",
       "    <tr style=\"text-align: right;\">\n",
       "      <th></th>\n",
       "      <th>pc1</th>\n",
       "      <th>pc2</th>\n",
       "      <th>pc3</th>\n",
       "      <th>code_release</th>\n",
       "    </tr>\n",
       "  </thead>\n",
       "  <tbody>\n",
       "    <tr>\n",
       "      <th>0</th>\n",
       "      <td>-1.444113</td>\n",
       "      <td>-1.146119</td>\n",
       "      <td>1.210857</td>\n",
       "      <td>1973</td>\n",
       "    </tr>\n",
       "    <tr>\n",
       "      <th>1</th>\n",
       "      <td>-1.142488</td>\n",
       "      <td>-1.024339</td>\n",
       "      <td>1.233478</td>\n",
       "      <td>1973</td>\n",
       "    </tr>\n",
       "    <tr>\n",
       "      <th>2</th>\n",
       "      <td>1.631422</td>\n",
       "      <td>0.162212</td>\n",
       "      <td>1.339596</td>\n",
       "      <td>1973</td>\n",
       "    </tr>\n",
       "    <tr>\n",
       "      <th>3</th>\n",
       "      <td>-0.695765</td>\n",
       "      <td>-0.833394</td>\n",
       "      <td>1.250785</td>\n",
       "      <td>1973</td>\n",
       "    </tr>\n",
       "    <tr>\n",
       "      <th>4</th>\n",
       "      <td>-1.217239</td>\n",
       "      <td>-1.056461</td>\n",
       "      <td>1.230844</td>\n",
       "      <td>1973</td>\n",
       "    </tr>\n",
       "  </tbody>\n",
       "</table>\n",
       "</div>"
      ],
      "text/plain": [
       "        pc1       pc2       pc3  code_release\n",
       "0 -1.444113 -1.146119  1.210857          1973\n",
       "1 -1.142488 -1.024339  1.233478          1973\n",
       "2  1.631422  0.162212  1.339596          1973\n",
       "3 -0.695765 -0.833394  1.250785          1973\n",
       "4 -1.217239 -1.056461  1.230844          1973"
      ]
     },
     "execution_count": 47,
     "metadata": {},
     "output_type": "execute_result"
    }
   ],
   "source": [
    "finalDf.head()"
   ]
  },
  {
   "cell_type": "markdown",
   "metadata": {},
   "source": [
    "<h4>Define Target variable and feature set</h4>"
   ]
  },
  {
   "cell_type": "code",
   "execution_count": 48,
   "metadata": {},
   "outputs": [],
   "source": [
    "y = finalDf.pop('code_release')\n",
    "X = finalDf"
   ]
  },
  {
   "cell_type": "markdown",
   "metadata": {},
   "source": [
    "<h4>Train, test split and instantiate linear regression models</h4>"
   ]
  },
  {
   "cell_type": "code",
   "execution_count": 49,
   "metadata": {},
   "outputs": [],
   "source": [
    "X_test, X_train, y_test, y_train = train_test_split(X, y, test_size=.25, random_state=1)"
   ]
  },
  {
   "cell_type": "markdown",
   "metadata": {},
   "source": [
    "<h4>Set benchmark model</h4>"
   ]
  },
  {
   "cell_type": "code",
   "execution_count": 50,
   "metadata": {},
   "outputs": [],
   "source": [
    "alpha = 3.0\n",
    "linear = LinearRegression()\n",
    "lasso = Lasso()\n",
    "ridge = Ridge(alpha=alpha)\n",
    "knn = KNeighborsRegressor(5)"
   ]
  },
  {
   "cell_type": "code",
   "execution_count": 51,
   "metadata": {},
   "outputs": [],
   "source": [
    "folds = 15\n",
    "#score = mean_squared_error()\n",
    "linear_cv = cross_val_score(linear, X, y, cv=folds, scoring='neg_mean_squared_error')\n",
    "lasso_cv = cross_val_score(lasso, X, y, cv=folds, scoring='neg_mean_squared_error')\n",
    "ridge_cv = cross_val_score(ridge, X, y, cv=folds, scoring='neg_mean_squared_error')\n",
    "knn_cv = cross_val_score(knn, X, y, cv=folds, scoring='neg_mean_squared_error')"
   ]
  },
  {
   "cell_type": "code",
   "execution_count": 52,
   "metadata": {},
   "outputs": [
    {
     "name": "stdout",
     "output_type": "stream",
     "text": [
      "-60.29896947987664 -58.119610568264285 -59.90190851120759 -51.04358461538466\n"
     ]
    }
   ],
   "source": [
    "lin_cv_mean = linear_cv.mean()\n",
    "lasso_cv_mean = lasso_cv.mean()\n",
    "ridge_cv_mean = ridge_cv.mean()\n",
    "knn_cv_mean = knn_cv.mean()\n",
    "\n",
    "print(lin_cv_mean, lasso_cv_mean, ridge_cv_mean, knn_cv_mean)"
   ]
  },
  {
   "cell_type": "markdown",
   "metadata": {},
   "source": [
    "<h4>Ordinary Least Squares</h4>"
   ]
  },
  {
   "cell_type": "code",
   "execution_count": 53,
   "metadata": {},
   "outputs": [
    {
     "name": "stdout",
     "output_type": "stream",
     "text": [
      "165.7162859624917\n"
     ]
    }
   ],
   "source": [
    "X2 = sm.add_constant(X)\n",
    "est = sm.OLS(y, X2)\n",
    "est2 = est.fit()\n",
    "print(est2.mse_total)\n",
    "# print(est2.summary())"
   ]
  },
  {
   "cell_type": "markdown",
   "metadata": {},
   "source": [
    "<h4>Run random forest regressor</h4>"
   ]
  },
  {
   "cell_type": "code",
   "execution_count": 55,
   "metadata": {},
   "outputs": [
    {
     "data": {
      "text/plain": [
       "37.6139998445364"
      ]
     },
     "execution_count": 55,
     "metadata": {},
     "output_type": "execute_result"
    }
   ],
   "source": [
    "# instantiate RF and linear regression model\n",
    "rf = RandomForestRegressor(n_estimators=100, max_depth=4, min_samples_split=5, min_samples_leaf=1, min_weight_fraction_leaf=0.0, max_features=3, max_leaf_nodes=None, min_impurity_decrease=0.0, min_impurity_split=None, bootstrap=True)\n",
    "rf.fit(X_train, y_train)\n",
    "y_hat = rf.predict(X_test)\n",
    "\n",
    "mse = mean_squared_error(y_test, y_hat)\n",
    "mse"
   ]
  },
  {
   "cell_type": "markdown",
   "metadata": {},
   "source": [
    "<h4>Generate Predictions for kwh consumption data</h4>"
   ]
  },
  {
   "cell_type": "code",
   "execution_count": null,
   "metadata": {},
   "outputs": [],
   "source": [
    "'avg_kwh', 'Latitude', 'Longitude', 'prop_id', 'Heated_SquareFeet',\n",
    "       'SHAPE_Area', 'kwh_per_sqft', 'code_release'"
   ]
  },
  {
   "cell_type": "code",
   "execution_count": 32,
   "metadata": {},
   "outputs": [],
   "source": [
    "# remove non numerical columns \n",
    "electricity_df = electricity_df.drop(columns=['Service Address','Service City', 'Month', 'Year', 'Date', 'Location'])"
   ]
  },
  {
   "cell_type": "code",
   "execution_count": 37,
   "metadata": {},
   "outputs": [],
   "source": [
    "electricity_df = electricity_df.dropna()"
   ]
  },
  {
   "cell_type": "code",
   "execution_count": 43,
   "metadata": {},
   "outputs": [
    {
     "data": {
      "text/html": [
       "<div>\n",
       "<style scoped>\n",
       "    .dataframe tbody tr th:only-of-type {\n",
       "        vertical-align: middle;\n",
       "    }\n",
       "\n",
       "    .dataframe tbody tr th {\n",
       "        vertical-align: top;\n",
       "    }\n",
       "\n",
       "    .dataframe thead th {\n",
       "        text-align: right;\n",
       "    }\n",
       "</style>\n",
       "<table border=\"1\" class=\"dataframe\">\n",
       "  <thead>\n",
       "    <tr style=\"text-align: right;\">\n",
       "      <th></th>\n",
       "      <th>KWH Consumption</th>\n",
       "      <th>Latitude</th>\n",
       "      <th>Longitude</th>\n",
       "    </tr>\n",
       "  </thead>\n",
       "  <tbody>\n",
       "    <tr>\n",
       "      <th>0</th>\n",
       "      <td>1813.0</td>\n",
       "      <td>29.628666</td>\n",
       "      <td>-82.433346</td>\n",
       "    </tr>\n",
       "    <tr>\n",
       "      <th>1</th>\n",
       "      <td>1681.0</td>\n",
       "      <td>29.591773</td>\n",
       "      <td>-82.437221</td>\n",
       "    </tr>\n",
       "    <tr>\n",
       "      <th>2</th>\n",
       "      <td>8560.0</td>\n",
       "      <td>29.624492</td>\n",
       "      <td>-82.433521</td>\n",
       "    </tr>\n",
       "    <tr>\n",
       "      <th>3</th>\n",
       "      <td>1089.0</td>\n",
       "      <td>29.644607</td>\n",
       "      <td>-82.265500</td>\n",
       "    </tr>\n",
       "    <tr>\n",
       "      <th>4</th>\n",
       "      <td>1277.0</td>\n",
       "      <td>29.694047</td>\n",
       "      <td>-82.412384</td>\n",
       "    </tr>\n",
       "  </tbody>\n",
       "</table>\n",
       "</div>"
      ],
      "text/plain": [
       "   KWH Consumption   Latitude  Longitude\n",
       "0           1813.0  29.628666 -82.433346\n",
       "1           1681.0  29.591773 -82.437221\n",
       "2           8560.0  29.624492 -82.433521\n",
       "3           1089.0  29.644607 -82.265500\n",
       "4           1277.0  29.694047 -82.412384"
      ]
     },
     "execution_count": 43,
     "metadata": {},
     "output_type": "execute_result"
    }
   ],
   "source": [
    "electricity_df.head()\n",
    "# electricity_arr = electricity_df.to_numpy()"
   ]
  },
  {
   "cell_type": "markdown",
   "metadata": {},
   "source": [
    "<h4>Scale input Data</h4>"
   ]
  },
  {
   "cell_type": "code",
   "execution_count": 77,
   "metadata": {},
   "outputs": [],
   "source": [
    "# standardizing data\n",
    "features_input = ['KWH Consumption', 'Latitude', 'Longitude']\n",
    "# Separating out the features\n",
    "x_input = electricity_df.loc[:, features_input].values\n",
    "# Standardizing the features\n",
    "x_input = StandardScaler().fit_transform(x_input)"
   ]
  },
  {
   "cell_type": "code",
   "execution_count": 84,
   "metadata": {},
   "outputs": [
    {
     "data": {
      "text/plain": [
       "array([ 0.00539479, -2.07607113, -1.50597764])"
      ]
     },
     "execution_count": 84,
     "metadata": {},
     "output_type": "execute_result"
    }
   ],
   "source": [
    "x_input[1]"
   ]
  },
  {
   "cell_type": "markdown",
   "metadata": {},
   "source": [
    "<h4>Generate predictions df</h4>"
   ]
  },
  {
   "cell_type": "code",
   "execution_count": 80,
   "metadata": {},
   "outputs": [],
   "source": [
    "y_pred = rf.predict(x_input)"
   ]
  },
  {
   "cell_type": "code",
   "execution_count": 81,
   "metadata": {},
   "outputs": [
    {
     "data": {
      "text/plain": [
       "(9287688,)"
      ]
     },
     "execution_count": 81,
     "metadata": {},
     "output_type": "execute_result"
    }
   ],
   "source": [
    "y_pred.shape"
   ]
  },
  {
   "cell_type": "code",
   "execution_count": 82,
   "metadata": {},
   "outputs": [],
   "source": [
    "y_pred_df = pd.DataFrame({'col_1': y_pred[:] })"
   ]
  },
  {
   "cell_type": "code",
   "execution_count": 87,
   "metadata": {},
   "outputs": [],
   "source": [
    "# create column for predicted energy efficiency (higher number = more efficient)\n",
    "preds_electricity_df = electricity_df\n",
    "preds_electricity_df['preds'] = y_pred_df"
   ]
  },
  {
   "cell_type": "code",
   "execution_count": 89,
   "metadata": {},
   "outputs": [
    {
     "data": {
      "text/html": [
       "<div>\n",
       "<style scoped>\n",
       "    .dataframe tbody tr th:only-of-type {\n",
       "        vertical-align: middle;\n",
       "    }\n",
       "\n",
       "    .dataframe tbody tr th {\n",
       "        vertical-align: top;\n",
       "    }\n",
       "\n",
       "    .dataframe thead th {\n",
       "        text-align: right;\n",
       "    }\n",
       "</style>\n",
       "<table border=\"1\" class=\"dataframe\">\n",
       "  <thead>\n",
       "    <tr style=\"text-align: right;\">\n",
       "      <th></th>\n",
       "      <th>KWH Consumption</th>\n",
       "      <th>Latitude</th>\n",
       "      <th>Longitude</th>\n",
       "      <th>preds</th>\n",
       "    </tr>\n",
       "  </thead>\n",
       "  <tbody>\n",
       "    <tr>\n",
       "      <th>0</th>\n",
       "      <td>1813.0</td>\n",
       "      <td>29.628666</td>\n",
       "      <td>-82.433346</td>\n",
       "      <td>2002.390361</td>\n",
       "    </tr>\n",
       "    <tr>\n",
       "      <th>1</th>\n",
       "      <td>1681.0</td>\n",
       "      <td>29.591773</td>\n",
       "      <td>-82.437221</td>\n",
       "      <td>2003.218251</td>\n",
       "    </tr>\n",
       "    <tr>\n",
       "      <th>2</th>\n",
       "      <td>8560.0</td>\n",
       "      <td>29.624492</td>\n",
       "      <td>-82.433521</td>\n",
       "      <td>2003.712840</td>\n",
       "    </tr>\n",
       "    <tr>\n",
       "      <th>3</th>\n",
       "      <td>1089.0</td>\n",
       "      <td>29.644607</td>\n",
       "      <td>-82.265500</td>\n",
       "      <td>1972.273439</td>\n",
       "    </tr>\n",
       "    <tr>\n",
       "      <th>4</th>\n",
       "      <td>1277.0</td>\n",
       "      <td>29.694047</td>\n",
       "      <td>-82.412384</td>\n",
       "      <td>1997.503866</td>\n",
       "    </tr>\n",
       "  </tbody>\n",
       "</table>\n",
       "</div>"
      ],
      "text/plain": [
       "   KWH Consumption   Latitude  Longitude        preds\n",
       "0           1813.0  29.628666 -82.433346  2002.390361\n",
       "1           1681.0  29.591773 -82.437221  2003.218251\n",
       "2           8560.0  29.624492 -82.433521  2003.712840\n",
       "3           1089.0  29.644607 -82.265500  1972.273439\n",
       "4           1277.0  29.694047 -82.412384  1997.503866"
      ]
     },
     "execution_count": 89,
     "metadata": {},
     "output_type": "execute_result"
    }
   ],
   "source": [
    "preds_electricity_df.head()"
   ]
  },
  {
   "cell_type": "markdown",
   "metadata": {},
   "source": [
    "<h4>Export predictions dataframe</h4>"
   ]
  },
  {
   "cell_type": "code",
   "execution_count": 91,
   "metadata": {},
   "outputs": [],
   "source": [
    "# export predictions data for use in the carbon zero application\n",
    "preds_electricity_df.to_csv(r'stationary-data/preds_electricity.csv', header=True)"
   ]
  },
  {
   "cell_type": "code",
   "execution_count": null,
   "metadata": {},
   "outputs": [],
   "source": []
  }
 ],
 "metadata": {
  "kernelspec": {
   "display_name": "Python 3",
   "language": "python",
   "name": "python3"
  },
  "language_info": {
   "codemirror_mode": {
    "name": "ipython",
    "version": 3
   },
   "file_extension": ".py",
   "mimetype": "text/x-python",
   "name": "python",
   "nbconvert_exporter": "python",
   "pygments_lexer": "ipython3",
   "version": "3.7.9"
  }
 },
 "nbformat": 4,
 "nbformat_minor": 4
}
