{
 "cells": [
  {
   "cell_type": "code",
   "execution_count": 74,
   "metadata": {},
   "outputs": [],
   "source": [
    "import pandas as pd\n",
    "import geopandas as gpd\n",
    "import numpy as np \n",
    "from numpy import log\n",
    "import gmaps \n",
    "import gmaps.datasets \n",
    "import matplotlib.pyplot as plt\n",
    "import matplotlib.pyplot as set_ylim\n",
    "from datetime import datetime\n",
    "import shap\n",
    "pd.set_option('display.max_columns', None)\n",
    "pd.set_option('display.max_rows', None)\n",
    "plt.style.use('ggplot')\n",
    "from mpl_toolkits.axes_grid1 import make_axes_locatable"
   ]
  },
  {
   "cell_type": "markdown",
   "metadata": {},
   "source": [
    "<h4>Load data</h4>"
   ]
  },
  {
   "cell_type": "code",
   "execution_count": 55,
   "metadata": {},
   "outputs": [],
   "source": [
    "# import predictions data for use in the carbon zero simulation\n",
    "y_hat_pred = pd.read_csv('stationary-data/y_hat_pred.csv')"
   ]
  },
  {
   "cell_type": "code",
   "execution_count": 56,
   "metadata": {},
   "outputs": [],
   "source": [
    "# read in X_train data\n",
    "X_train = pd.read_csv('stationary-data/X_train.csv')"
   ]
  },
  {
   "cell_type": "code",
   "execution_count": 57,
   "metadata": {},
   "outputs": [],
   "source": [
    "# read in X_train data\n",
    "y_train = pd.read_csv('stationary-data/y_train.csv')"
   ]
  },
  {
   "cell_type": "code",
   "execution_count": 58,
   "metadata": {},
   "outputs": [],
   "source": [
    "# join predictions with X_train \n",
    "resid_df = X_train"
   ]
  },
  {
   "cell_type": "markdown",
   "metadata": {},
   "source": [
    "#### Combine X_train, y_train and predictions into one df"
   ]
  },
  {
   "cell_type": "code",
   "execution_count": 63,
   "metadata": {},
   "outputs": [],
   "source": [
    "resid_df['code_release_act'] = y_train['code_release']"
   ]
  },
  {
   "cell_type": "code",
   "execution_count": 64,
   "metadata": {},
   "outputs": [],
   "source": [
    "resid_df['code_release_pred'] = y_hat_pred['0']"
   ]
  },
  {
   "cell_type": "code",
   "execution_count": 65,
   "metadata": {},
   "outputs": [
    {
     "data": {
      "text/html": [
       "<div>\n",
       "<style scoped>\n",
       "    .dataframe tbody tr th:only-of-type {\n",
       "        vertical-align: middle;\n",
       "    }\n",
       "\n",
       "    .dataframe tbody tr th {\n",
       "        vertical-align: top;\n",
       "    }\n",
       "\n",
       "    .dataframe thead th {\n",
       "        text-align: right;\n",
       "    }\n",
       "</style>\n",
       "<table border=\"1\" class=\"dataframe\">\n",
       "  <thead>\n",
       "    <tr style=\"text-align: right;\">\n",
       "      <th></th>\n",
       "      <th>Unnamed: 0</th>\n",
       "      <th>avg_kwh</th>\n",
       "      <th>Latitude</th>\n",
       "      <th>Longitude</th>\n",
       "      <th>Heated_SquareFeet</th>\n",
       "      <th>kwh_per_sqft</th>\n",
       "      <th>code_release_pred</th>\n",
       "      <th>code_release_act</th>\n",
       "    </tr>\n",
       "  </thead>\n",
       "  <tbody>\n",
       "    <tr>\n",
       "      <th>0</th>\n",
       "      <td>6410</td>\n",
       "      <td>1027.639344</td>\n",
       "      <td>29.705515</td>\n",
       "      <td>-82.364586</td>\n",
       "      <td>1516.0</td>\n",
       "      <td>0.677862</td>\n",
       "      <td>18.149881</td>\n",
       "      <td>16</td>\n",
       "    </tr>\n",
       "    <tr>\n",
       "      <th>1</th>\n",
       "      <td>4903</td>\n",
       "      <td>766.774510</td>\n",
       "      <td>29.612746</td>\n",
       "      <td>-82.371744</td>\n",
       "      <td>1172.0</td>\n",
       "      <td>0.654244</td>\n",
       "      <td>22.207415</td>\n",
       "      <td>24</td>\n",
       "    </tr>\n",
       "    <tr>\n",
       "      <th>2</th>\n",
       "      <td>367</td>\n",
       "      <td>544.843137</td>\n",
       "      <td>29.611465</td>\n",
       "      <td>-82.360356</td>\n",
       "      <td>5944.0</td>\n",
       "      <td>0.091663</td>\n",
       "      <td>20.141803</td>\n",
       "      <td>20</td>\n",
       "    </tr>\n",
       "    <tr>\n",
       "      <th>3</th>\n",
       "      <td>2448</td>\n",
       "      <td>1026.689320</td>\n",
       "      <td>29.675848</td>\n",
       "      <td>-82.384052</td>\n",
       "      <td>1684.0</td>\n",
       "      <td>0.609673</td>\n",
       "      <td>18.125896</td>\n",
       "      <td>20</td>\n",
       "    </tr>\n",
       "    <tr>\n",
       "      <th>4</th>\n",
       "      <td>4206</td>\n",
       "      <td>500.291262</td>\n",
       "      <td>29.635181</td>\n",
       "      <td>-82.343227</td>\n",
       "      <td>1120.0</td>\n",
       "      <td>0.446689</td>\n",
       "      <td>18.849894</td>\n",
       "      <td>18</td>\n",
       "    </tr>\n",
       "  </tbody>\n",
       "</table>\n",
       "</div>"
      ],
      "text/plain": [
       "   Unnamed: 0      avg_kwh   Latitude  Longitude  Heated_SquareFeet  \\\n",
       "0        6410  1027.639344  29.705515 -82.364586             1516.0   \n",
       "1        4903   766.774510  29.612746 -82.371744             1172.0   \n",
       "2         367   544.843137  29.611465 -82.360356             5944.0   \n",
       "3        2448  1026.689320  29.675848 -82.384052             1684.0   \n",
       "4        4206   500.291262  29.635181 -82.343227             1120.0   \n",
       "\n",
       "   kwh_per_sqft  code_release_pred  code_release_act  \n",
       "0      0.677862          18.149881                16  \n",
       "1      0.654244          22.207415                24  \n",
       "2      0.091663          20.141803                20  \n",
       "3      0.609673          18.125896                20  \n",
       "4      0.446689          18.849894                18  "
      ]
     },
     "execution_count": 65,
     "metadata": {},
     "output_type": "execute_result"
    }
   ],
   "source": [
    "resid_df.head()"
   ]
  },
  {
   "cell_type": "markdown",
   "metadata": {},
   "source": [
    "#### Create a feature for residual of the predicted code release year"
   ]
  },
  {
   "cell_type": "code",
   "execution_count": 68,
   "metadata": {},
   "outputs": [],
   "source": [
    "# create a feature for \n",
    "resid_df['pred_resid'] = resid_df['code_release_act'] - resid_df['code_release_pred']"
   ]
  },
  {
   "cell_type": "markdown",
   "metadata": {},
   "source": [
    "#### Plot distribution of predicted code release year residuals"
   ]
  },
  {
   "cell_type": "code",
   "execution_count": 87,
   "metadata": {},
   "outputs": [
    {
     "data": {
      "image/png": "[encoded data removed]",
      "text/plain": [
       "<Figure size 432x288 with 1 Axes>"
      ]
     },
     "metadata": {},
     "output_type": "display_data"
    }
   ],
   "source": [
    "# plot efficiency value residual across code releases\n",
    "\n",
    "x = resid_df['code_release_act']\n",
    "y = resid_df['pred_resid']\n",
    "\n",
    "# cmap['Diverging'] = [\n",
    "#             'PiYG', 'PRGn', 'BrBG', 'PuOr', 'RdGy', 'RdBu',\n",
    "#             'RdYlBu', 'RdYlGn', 'Spectral', 'coolwarm', 'bwr', 'seismic']\n",
    "\n",
    "c = resid_df['pred_resid']\n",
    "\n",
    "\n",
    "fig, ax = plt.subplots()\n",
    "\n",
    "scatter = ax.scatter(x, y, c=c, cmap='seismic', alpha=0.7)\n",
    "# cbar = plt.colorbar()\n",
    "# cbar.set_label('Efficiency Value')\n",
    "ax.set_title('Residual Predicted efficiency value vs Actual Code Release')\n",
    "ax.set_xlabel('code release')\n",
    "ax.set_ylabel('Residuals pred efficiency value')\n",
    "\n",
    "legend = ax.legend(*scatter.legend_elements(),\n",
    "                    loc=\"lower right\", bbox_to_anchor=(1.31, 0.03), title=\"Efficiency Values\")\n",
    "plt.show()"
   ]
  },
  {
   "cell_type": "markdown",
   "metadata": {},
   "source": [
    "When the actual code release is less than the predicted efficiency value then the residual is a negative value. This indicates that the building is less efficient than expected given the efficiency standards the year it was built. This indicates there may be an opportunity for energy efficiency professionals to have a bigger impact."
   ]
  },
  {
   "cell_type": "markdown",
   "metadata": {},
   "source": [
    "#### Create feature for efficiency improvement rollout groups "
   ]
  },
  {
   "cell_type": "code",
   "execution_count": 40,
   "metadata": {},
   "outputs": [],
   "source": [
    "# sort df by prediction residuals (greater values being a higher priority for efficiency improvements)\n",
    "preds_min_df = resid_df.sort_values(by=['pred_resid'], ascending=False)"
   ]
  },
  {
   "cell_type": "code",
   "execution_count": 94,
   "metadata": {},
   "outputs": [
    {
     "data": {
      "text/html": [
       "<div>\n",
       "<style scoped>\n",
       "    .dataframe tbody tr th:only-of-type {\n",
       "        vertical-align: middle;\n",
       "    }\n",
       "\n",
       "    .dataframe tbody tr th {\n",
       "        vertical-align: top;\n",
       "    }\n",
       "\n",
       "    .dataframe thead th {\n",
       "        text-align: right;\n",
       "    }\n",
       "</style>\n",
       "<table border=\"1\" class=\"dataframe\">\n",
       "  <thead>\n",
       "    <tr style=\"text-align: right;\">\n",
       "      <th></th>\n",
       "      <th>Unnamed: 0</th>\n",
       "      <th>avg_kwh</th>\n",
       "      <th>Latitude</th>\n",
       "      <th>Longitude</th>\n",
       "      <th>Heated_SquareFeet</th>\n",
       "      <th>kwh_per_sqft</th>\n",
       "      <th>code_release_act</th>\n",
       "      <th>code_release_pred</th>\n",
       "      <th>pred_resid</th>\n",
       "      <th>phase</th>\n",
       "    </tr>\n",
       "  </thead>\n",
       "  <tbody>\n",
       "    <tr>\n",
       "      <th>0</th>\n",
       "      <td>1772</td>\n",
       "      <td>336.141414</td>\n",
       "      <td>29.655511</td>\n",
       "      <td>-82.303003</td>\n",
       "      <td>1032.0</td>\n",
       "      <td>0.325718</td>\n",
       "      <td>30</td>\n",
       "      <td>17.991768</td>\n",
       "      <td>12.008232</td>\n",
       "      <td>12.008232</td>\n",
       "    </tr>\n",
       "    <tr>\n",
       "      <th>1</th>\n",
       "      <td>2664</td>\n",
       "      <td>781.207317</td>\n",
       "      <td>29.657335</td>\n",
       "      <td>-82.301698</td>\n",
       "      <td>1288.0</td>\n",
       "      <td>0.606527</td>\n",
       "      <td>29</td>\n",
       "      <td>17.866151</td>\n",
       "      <td>11.133849</td>\n",
       "      <td>11.133849</td>\n",
       "    </tr>\n",
       "    <tr>\n",
       "      <th>2</th>\n",
       "      <td>7787</td>\n",
       "      <td>419.770000</td>\n",
       "      <td>29.654719</td>\n",
       "      <td>-82.303309</td>\n",
       "      <td>1647.0</td>\n",
       "      <td>0.254869</td>\n",
       "      <td>29</td>\n",
       "      <td>17.977489</td>\n",
       "      <td>11.022511</td>\n",
       "      <td>11.022511</td>\n",
       "    </tr>\n",
       "    <tr>\n",
       "      <th>3</th>\n",
       "      <td>10658</td>\n",
       "      <td>726.708738</td>\n",
       "      <td>29.665694</td>\n",
       "      <td>-82.391749</td>\n",
       "      <td>2382.0</td>\n",
       "      <td>0.305083</td>\n",
       "      <td>29</td>\n",
       "      <td>18.101922</td>\n",
       "      <td>10.898078</td>\n",
       "      <td>10.898078</td>\n",
       "    </tr>\n",
       "    <tr>\n",
       "      <th>4</th>\n",
       "      <td>9180</td>\n",
       "      <td>640.279070</td>\n",
       "      <td>29.636609</td>\n",
       "      <td>-82.335384</td>\n",
       "      <td>2064.0</td>\n",
       "      <td>0.310213</td>\n",
       "      <td>29</td>\n",
       "      <td>18.653999</td>\n",
       "      <td>10.346001</td>\n",
       "      <td>10.346001</td>\n",
       "    </tr>\n",
       "  </tbody>\n",
       "</table>\n",
       "</div>"
      ],
      "text/plain": [
       "   Unnamed: 0     avg_kwh   Latitude  Longitude  Heated_SquareFeet  \\\n",
       "0        1772  336.141414  29.655511 -82.303003             1032.0   \n",
       "1        2664  781.207317  29.657335 -82.301698             1288.0   \n",
       "2        7787  419.770000  29.654719 -82.303309             1647.0   \n",
       "3       10658  726.708738  29.665694 -82.391749             2382.0   \n",
       "4        9180  640.279070  29.636609 -82.335384             2064.0   \n",
       "\n",
       "   kwh_per_sqft  code_release_act  code_release_pred  pred_resid      phase  \n",
       "0      0.325718                30          17.991768   12.008232  12.008232  \n",
       "1      0.606527                29          17.866151   11.133849  11.133849  \n",
       "2      0.254869                29          17.977489   11.022511  11.022511  \n",
       "3      0.305083                29          18.101922   10.898078  10.898078  \n",
       "4      0.310213                29          18.653999   10.346001  10.346001  "
      ]
     },
     "execution_count": 94,
     "metadata": {},
     "output_type": "execute_result"
    }
   ],
   "source": [
    "preds_min_df.head()"
   ]
  },
  {
   "cell_type": "code",
   "execution_count": 90,
   "metadata": {},
   "outputs": [],
   "source": [
    "# reset index\n",
    "preds_min_df = preds_min_df.reset_index(drop=True)"
   ]
  },
  {
   "cell_type": "code",
   "execution_count": 89,
   "metadata": {},
   "outputs": [],
   "source": [
    "# label residuals as phase column\n",
    "preds_min_df['phase'] = preds_min_df['pred_resid']"
   ]
  },
  {
   "cell_type": "code",
   "execution_count": 98,
   "metadata": {},
   "outputs": [],
   "source": [
    "# create df ordered by residuals\n",
    "phase_df = preds_min_df[['phase']]"
   ]
  },
  {
   "cell_type": "code",
   "execution_count": 101,
   "metadata": {},
   "outputs": [
    {
     "name": "stderr",
     "output_type": "stream",
     "text": [
      "\n",
      "A value is trying to be set on a copy of a slice from a DataFrame\n",
      "\n",
      "See the caveats in the documentation: https://pandas.pydata.org/pandas-docs/stable/user_guide/indexing.html#returning-a-view-versus-a-copy\n",
      "\n",
      "A value is trying to be set on a copy of a slice from a DataFrame\n",
      "\n",
      "See the caveats in the documentation: https://pandas.pydata.org/pandas-docs/stable/user_guide/indexing.html#returning-a-view-versus-a-copy\n",
      "\n",
      "A value is trying to be set on a copy of a slice from a DataFrame\n",
      "\n",
      "See the caveats in the documentation: https://pandas.pydata.org/pandas-docs/stable/user_guide/indexing.html#returning-a-view-versus-a-copy\n",
      "\n",
      "A value is trying to be set on a copy of a slice from a DataFrame\n",
      "\n",
      "See the caveats in the documentation: https://pandas.pydata.org/pandas-docs/stable/user_guide/indexing.html#returning-a-view-versus-a-copy\n",
      "\n",
      "A value is trying to be set on a copy of a slice from a DataFrame\n",
      "\n",
      "See the caveats in the documentation: https://pandas.pydata.org/pandas-docs/stable/user_guide/indexing.html#returning-a-view-versus-a-copy\n"
     ]
    }
   ],
   "source": [
    "# label observations by phase after dividing sorted df evenly into 4 groups \n",
    "phase_num = len(preds_min_df)/4\n",
    "phase_1 = phase_num\n",
    "phase_2 = phase_num*2\n",
    "phase_3 = phase_num*3\n",
    "phase_4 = phase_num*4\n",
    "\n",
    "\n",
    "phase_df.loc[0:phase_1, 'phase'] = 1\n",
    "phase_df.loc[phase_1:phase_2, 'phase'] = 2\n",
    "phase_df.loc[phase_2:phase_3, 'phase'] = 3\n",
    "phase_df.loc[phase_3:phase_4, 'phase'] = 4"
   ]
  },
  {
   "cell_type": "code",
   "execution_count": 108,
   "metadata": {},
   "outputs": [],
   "source": [
    "# add the phase column and values back into the observations df\n",
    "preds_min_df['phase'] = phase_df"
   ]
  },
  {
   "cell_type": "code",
   "execution_count": 109,
   "metadata": {},
   "outputs": [
    {
     "name": "stdout",
     "output_type": "stream",
     "text": [
      "3380.4700567676987 2656.765915235126 2419.883118319462 3141.332532961318\n"
     ]
    }
   ],
   "source": [
    "# calculate avg kwh for each phase \n",
    "phase_1_avg = preds_min_df[preds_min_df['phase'] == 1]['avg_kwh'].agg('mean')\n",
    "phase_2_avg = preds_min_df[preds_min_df['phase'] == 2]['avg_kwh'].agg('mean')\n",
    "phase_3_avg = preds_min_df[preds_min_df['phase'] == 3]['avg_kwh'].agg('mean')\n",
    "phase_4_avg = preds_min_df[preds_min_df['phase'] == 4]['avg_kwh'].agg('mean')\n",
    "print(phase_1_avg, phase_2_avg, phase_3_avg, phase_4_avg)"
   ]
  },
  {
   "cell_type": "code",
   "execution_count": null,
   "metadata": {},
   "outputs": [],
   "source": []
  }
 ],
 "metadata": {
  "kernelspec": {
   "display_name": "Python 3",
   "language": "python",
   "name": "python3"
  },
  "language_info": {
   "codemirror_mode": {
    "name": "ipython",
    "version": 3
   },
   "file_extension": ".py",
   "mimetype": "text/x-python",
   "name": "python",
   "nbconvert_exporter": "python",
   "pygments_lexer": "ipython3",
   "version": "3.7.9"
  }
 },
 "nbformat": 4,
 "nbformat_minor": 4
}
