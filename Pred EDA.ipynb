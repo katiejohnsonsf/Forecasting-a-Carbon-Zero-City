{
 "cells": [
  {
   "cell_type": "code",
   "execution_count": 2,
   "metadata": {},
   "outputs": [],
   "source": [
    "import pandas as pd\n",
    "import geopandas as gpd\n",
    "import numpy as np \n",
    "from numpy import log\n",
    "import gmaps \n",
    "import gmaps.datasets \n",
    "import matplotlib.pyplot as plt\n",
    "import matplotlib.pyplot as set_ylim\n",
    "from datetime import datetime\n",
    "import shap\n",
    "pd.set_option('display.max_columns', None)\n",
    "pd.set_option('display.max_rows', None)\n",
    "plt.style.use('ggplot')"
   ]
  },
  {
   "cell_type": "markdown",
   "metadata": {},
   "source": [
    "<h4>Load data</h4>"
   ]
  },
  {
   "cell_type": "code",
   "execution_count": 35,
   "metadata": {},
   "outputs": [],
   "source": [
    "# import predictions data for use in the carbon zero simulation\n",
    "y_hat_pred = pd.read_csv('stationary-data/y_hat_pred.csv')"
   ]
  },
  {
   "cell_type": "code",
   "execution_count": 24,
   "metadata": {},
   "outputs": [],
   "source": [
    "# read in X_train data\n",
    "X_train = pd.read_csv('stationary-data/X_train.csv')"
   ]
  },
  {
   "cell_type": "code",
   "execution_count": 29,
   "metadata": {},
   "outputs": [],
   "source": [
    "# read in X_train data\n",
    "y_train = pd.read_csv('stationary-data/y_train.csv')"
   ]
  },
  {
   "cell_type": "code",
   "execution_count": 9,
   "metadata": {},
   "outputs": [],
   "source": [
    "# join predictions with X_train \n",
    "resid_df = X_train"
   ]
  },
  {
   "cell_type": "code",
   "execution_count": 28,
   "metadata": {},
   "outputs": [],
   "source": [
    "resid_df['code_release_act'] = y_train['code_release']"
   ]
  },
  {
   "cell_type": "code",
   "execution_count": 34,
   "metadata": {},
   "outputs": [],
   "source": [
    "resid_df['code_release_pred'] = y_hat_pred['0']"
   ]
  },
  {
   "cell_type": "code",
   "execution_count": 52,
   "metadata": {},
   "outputs": [
    {
     "data": {
      "text/plain": [
       "8635"
      ]
     },
     "execution_count": 52,
     "metadata": {},
     "output_type": "execute_result"
    }
   ],
   "source": [
    "len(kwh_year_df['Parcel Number'].unique())"
   ]
  },
  {
   "cell_type": "code",
   "execution_count": 53,
   "metadata": {},
   "outputs": [],
   "source": [
    "kwh_year_df = kwh_year_df.drop_duplicates(subset=['Parcel Number'])"
   ]
  },
  {
   "cell_type": "code",
   "execution_count": 54,
   "metadata": {},
   "outputs": [],
   "source": [
    "kwh_year_df = kwh_year_df.set_index('Parcel Number')"
   ]
  },
  {
   "cell_type": "code",
   "execution_count": 55,
   "metadata": {},
   "outputs": [],
   "source": [
    "preds_electricity_df = index_pred_df.join(kwh_year_df, how=\"left\", on='Parcel Number', lsuffix='_left', rsuffix='_right')\n",
    "# electricity_df['preds'] = preds_electricity_df['preds']\n"
   ]
  },
  {
   "cell_type": "code",
   "execution_count": 15,
   "metadata": {},
   "outputs": [],
   "source": [
    "# preds_electricity_df = preds_electricity_df.drop(columns='Unnamed: 0')"
   ]
  },
  {
   "cell_type": "code",
   "execution_count": 18,
   "metadata": {},
   "outputs": [],
   "source": [
    "# preds_electricity_df = preds_electricity_df.reset_index()"
   ]
  },
  {
   "cell_type": "markdown",
   "metadata": {},
   "source": [
    "<h4>How different are the predicted efficiency indexe from the code releases?</h4>"
   ]
  },
  {
   "cell_type": "code",
   "execution_count": 38,
   "metadata": {},
   "outputs": [],
   "source": [
    "# address = electricity_df[['Service Address', 'preds']].groupby('Service Address')['preds'].agg('count')\n"
   ]
  },
  {
   "cell_type": "code",
   "execution_count": 74,
   "metadata": {},
   "outputs": [],
   "source": [
    "# address_df = address.to_frame()"
   ]
  },
  {
   "cell_type": "code",
   "execution_count": 13,
   "metadata": {},
   "outputs": [],
   "source": [
    "# address_df = address_df.reset_index()"
   ]
  },
  {
   "cell_type": "code",
   "execution_count": 75,
   "metadata": {},
   "outputs": [],
   "source": [
    "# address_df.info()"
   ]
  },
  {
   "cell_type": "code",
   "execution_count": 76,
   "metadata": {},
   "outputs": [],
   "source": [
    "# # there are 195 different counts of a prediction across 100,313 addresses  \n",
    "# address_df['preds'].unique()"
   ]
  },
  {
   "cell_type": "code",
   "execution_count": 56,
   "metadata": {},
   "outputs": [
    {
     "data": {
      "text/plain": [
       "Index(['avg_kwh_left', 'Heated_SquareFeet_left', 'kwh_per_sqft_left',\n",
       "       'code_release_pred', 'Unnamed: 0', 'Service Address', 'avg_kwh_right',\n",
       "       'Latitude', 'Longitude', 'prop_id', 'Effective_YrBlt',\n",
       "       'Heated_SquareFeet_right', 'Stories', 'kwh_per_sqft_right',\n",
       "       'code_release'],\n",
       "      dtype='object')"
      ]
     },
     "execution_count": 56,
     "metadata": {},
     "output_type": "execute_result"
    }
   ],
   "source": [
    "preds_electricity_df.columns"
   ]
  },
  {
   "cell_type": "code",
   "execution_count": 58,
   "metadata": {},
   "outputs": [],
   "source": [
    "preds_min_df = preds_electricity_df.drop(columns=['Service Address',\n",
    "       'avg_kwh_right', 'Latitude', 'Longitude', 'prop_id', 'Effective_YrBlt',\n",
    "       'Heated_SquareFeet_right', 'Stories', 'kwh_per_sqft_right'])"
   ]
  },
  {
   "cell_type": "code",
   "execution_count": 36,
   "metadata": {},
   "outputs": [],
   "source": [
    "resid_df['pred_resid'] = resid_df['code_release_act'] - resid_df['code_release_pred']\n"
   ]
  },
  {
   "cell_type": "code",
   "execution_count": 37,
   "metadata": {},
   "outputs": [
    {
     "data": {
      "text/html": [
       "<div>\n",
       "<style scoped>\n",
       "    .dataframe tbody tr th:only-of-type {\n",
       "        vertical-align: middle;\n",
       "    }\n",
       "\n",
       "    .dataframe tbody tr th {\n",
       "        vertical-align: top;\n",
       "    }\n",
       "\n",
       "    .dataframe thead th {\n",
       "        text-align: right;\n",
       "    }\n",
       "</style>\n",
       "<table border=\"1\" class=\"dataframe\">\n",
       "  <thead>\n",
       "    <tr style=\"text-align: right;\">\n",
       "      <th></th>\n",
       "      <th>Unnamed: 0</th>\n",
       "      <th>avg_kwh</th>\n",
       "      <th>Latitude</th>\n",
       "      <th>Longitude</th>\n",
       "      <th>Heated_SquareFeet</th>\n",
       "      <th>kwh_per_sqft</th>\n",
       "      <th>code_release_act</th>\n",
       "      <th>code_release_pred</th>\n",
       "      <th>pred_resid</th>\n",
       "    </tr>\n",
       "  </thead>\n",
       "  <tbody>\n",
       "    <tr>\n",
       "      <th>0</th>\n",
       "      <td>6410</td>\n",
       "      <td>1027.639344</td>\n",
       "      <td>29.705515</td>\n",
       "      <td>-82.364586</td>\n",
       "      <td>1516.0</td>\n",
       "      <td>0.677862</td>\n",
       "      <td>16</td>\n",
       "      <td>18.149881</td>\n",
       "      <td>-2.149881</td>\n",
       "    </tr>\n",
       "    <tr>\n",
       "      <th>1</th>\n",
       "      <td>4903</td>\n",
       "      <td>766.774510</td>\n",
       "      <td>29.612746</td>\n",
       "      <td>-82.371744</td>\n",
       "      <td>1172.0</td>\n",
       "      <td>0.654244</td>\n",
       "      <td>24</td>\n",
       "      <td>22.207415</td>\n",
       "      <td>1.792585</td>\n",
       "    </tr>\n",
       "    <tr>\n",
       "      <th>2</th>\n",
       "      <td>367</td>\n",
       "      <td>544.843137</td>\n",
       "      <td>29.611465</td>\n",
       "      <td>-82.360356</td>\n",
       "      <td>5944.0</td>\n",
       "      <td>0.091663</td>\n",
       "      <td>20</td>\n",
       "      <td>20.141803</td>\n",
       "      <td>-0.141803</td>\n",
       "    </tr>\n",
       "    <tr>\n",
       "      <th>3</th>\n",
       "      <td>2448</td>\n",
       "      <td>1026.689320</td>\n",
       "      <td>29.675848</td>\n",
       "      <td>-82.384052</td>\n",
       "      <td>1684.0</td>\n",
       "      <td>0.609673</td>\n",
       "      <td>20</td>\n",
       "      <td>18.125896</td>\n",
       "      <td>1.874104</td>\n",
       "    </tr>\n",
       "    <tr>\n",
       "      <th>4</th>\n",
       "      <td>4206</td>\n",
       "      <td>500.291262</td>\n",
       "      <td>29.635181</td>\n",
       "      <td>-82.343227</td>\n",
       "      <td>1120.0</td>\n",
       "      <td>0.446689</td>\n",
       "      <td>18</td>\n",
       "      <td>18.849894</td>\n",
       "      <td>-0.849894</td>\n",
       "    </tr>\n",
       "  </tbody>\n",
       "</table>\n",
       "</div>"
      ],
      "text/plain": [
       "   Unnamed: 0      avg_kwh   Latitude  Longitude  Heated_SquareFeet  \\\n",
       "0        6410  1027.639344  29.705515 -82.364586             1516.0   \n",
       "1        4903   766.774510  29.612746 -82.371744             1172.0   \n",
       "2         367   544.843137  29.611465 -82.360356             5944.0   \n",
       "3        2448  1026.689320  29.675848 -82.384052             1684.0   \n",
       "4        4206   500.291262  29.635181 -82.343227             1120.0   \n",
       "\n",
       "   kwh_per_sqft  code_release_act  code_release_pred  pred_resid  \n",
       "0      0.677862                16          18.149881   -2.149881  \n",
       "1      0.654244                24          22.207415    1.792585  \n",
       "2      0.091663                20          20.141803   -0.141803  \n",
       "3      0.609673                20          18.125896    1.874104  \n",
       "4      0.446689                18          18.849894   -0.849894  "
      ]
     },
     "execution_count": 37,
     "metadata": {},
     "output_type": "execute_result"
    }
   ],
   "source": [
    "resid_df.head()"
   ]
  },
  {
   "cell_type": "code",
   "execution_count": 38,
   "metadata": {},
   "outputs": [
    {
     "data": {
      "image/png": "[encoded data removed]",
      "text/plain": [
       "<Figure size 432x288 with 1 Axes>"
      ]
     },
     "metadata": {},
     "output_type": "display_data"
    }
   ],
   "source": [
    "# plot efficiency value residual across code releases\n",
    "\n",
    "x = resid_df['code_release_act']\n",
    "y = resid_df['pred_resid']\n",
    "\n",
    "# cmap['Diverging'] = [\n",
    "#             'PiYG', 'PRGn', 'BrBG', 'PuOr', 'RdGy', 'RdBu',\n",
    "#             'RdYlBu', 'RdYlGn', 'Spectral', 'coolwarm', 'bwr', 'seismic']\n",
    "\n",
    "c = resid_df['pred_resid']\n",
    "\n",
    "\n",
    "fig, ax = plt.subplots()\n",
    "\n",
    "scatter = ax.scatter(x, y, c=c, cmap='seismic', alpha=0.7)\n",
    "# cbar = plt.colorbar()\n",
    "# cbar.set_label('Efficiency Value')\n",
    "ax.set_title('Residual Predicted efficiency value vs Actual Code Release')\n",
    "ax.set_xlabel('code release')\n",
    "ax.set_ylabel('Residuals pred efficiency value')\n",
    "\n",
    "legend = ax.legend(*scatter.legend_elements(),\n",
    "                    loc=\"lower right\", bbox_to_anchor=(1.33, 0.05), title=\"Efficiency Values\")"
   ]
  },
  {
   "cell_type": "code",
   "execution_count": 192,
   "metadata": {},
   "outputs": [],
   "source": [
    "# wine_url = 'https://archive.ics.uci.edu/ml/machine-learning-databases/wine/wine.data' \n",
    "# wine_column_headers = ['Alcohol','Malic acid','Ash','Alcalinity of ash',  \n",
    "#                        'Magnesium','Total phenols','Flavanoids',\n",
    "#                        'Nonflavanoid phenols','Proanthocyanins','Color intensity', \n",
    "#                        'Hue','OD280/OD315 of diluted wines' ,'Proline']\n",
    "# wine_df = pd.read_csv(wine_url, names = wine_column_headers)\n",
    "# wine_df.head()"
   ]
  },
  {
   "cell_type": "markdown",
   "metadata": {},
   "source": [
    "When the actual code release is less than the predicted efficiency value then the residual is a negative value. This indicates that the building is less efficient than expected given the efficiency standards the year it was built. This indicates there may be an opportunity for energy efficiency professionals to have a bigger impact."
   ]
  },
  {
   "cell_type": "markdown",
   "metadata": {},
   "source": [
    "#### Create feature for efficiency improvement rollout groups "
   ]
  },
  {
   "cell_type": "code",
   "execution_count": 39,
   "metadata": {},
   "outputs": [
    {
     "data": {
      "text/html": [
       "<div>\n",
       "<style scoped>\n",
       "    .dataframe tbody tr th:only-of-type {\n",
       "        vertical-align: middle;\n",
       "    }\n",
       "\n",
       "    .dataframe tbody tr th {\n",
       "        vertical-align: top;\n",
       "    }\n",
       "\n",
       "    .dataframe thead th {\n",
       "        text-align: right;\n",
       "    }\n",
       "</style>\n",
       "<table border=\"1\" class=\"dataframe\">\n",
       "  <thead>\n",
       "    <tr style=\"text-align: right;\">\n",
       "      <th></th>\n",
       "      <th>Unnamed: 0</th>\n",
       "      <th>avg_kwh</th>\n",
       "      <th>Latitude</th>\n",
       "      <th>Longitude</th>\n",
       "      <th>Heated_SquareFeet</th>\n",
       "      <th>kwh_per_sqft</th>\n",
       "      <th>code_release_act</th>\n",
       "      <th>code_release_pred</th>\n",
       "      <th>pred_resid</th>\n",
       "    </tr>\n",
       "  </thead>\n",
       "  <tbody>\n",
       "    <tr>\n",
       "      <th>0</th>\n",
       "      <td>6410</td>\n",
       "      <td>1027.639344</td>\n",
       "      <td>29.705515</td>\n",
       "      <td>-82.364586</td>\n",
       "      <td>1516.0</td>\n",
       "      <td>0.677862</td>\n",
       "      <td>16</td>\n",
       "      <td>18.149881</td>\n",
       "      <td>-2.149881</td>\n",
       "    </tr>\n",
       "    <tr>\n",
       "      <th>1</th>\n",
       "      <td>4903</td>\n",
       "      <td>766.774510</td>\n",
       "      <td>29.612746</td>\n",
       "      <td>-82.371744</td>\n",
       "      <td>1172.0</td>\n",
       "      <td>0.654244</td>\n",
       "      <td>24</td>\n",
       "      <td>22.207415</td>\n",
       "      <td>1.792585</td>\n",
       "    </tr>\n",
       "    <tr>\n",
       "      <th>2</th>\n",
       "      <td>367</td>\n",
       "      <td>544.843137</td>\n",
       "      <td>29.611465</td>\n",
       "      <td>-82.360356</td>\n",
       "      <td>5944.0</td>\n",
       "      <td>0.091663</td>\n",
       "      <td>20</td>\n",
       "      <td>20.141803</td>\n",
       "      <td>-0.141803</td>\n",
       "    </tr>\n",
       "    <tr>\n",
       "      <th>3</th>\n",
       "      <td>2448</td>\n",
       "      <td>1026.689320</td>\n",
       "      <td>29.675848</td>\n",
       "      <td>-82.384052</td>\n",
       "      <td>1684.0</td>\n",
       "      <td>0.609673</td>\n",
       "      <td>20</td>\n",
       "      <td>18.125896</td>\n",
       "      <td>1.874104</td>\n",
       "    </tr>\n",
       "    <tr>\n",
       "      <th>4</th>\n",
       "      <td>4206</td>\n",
       "      <td>500.291262</td>\n",
       "      <td>29.635181</td>\n",
       "      <td>-82.343227</td>\n",
       "      <td>1120.0</td>\n",
       "      <td>0.446689</td>\n",
       "      <td>18</td>\n",
       "      <td>18.849894</td>\n",
       "      <td>-0.849894</td>\n",
       "    </tr>\n",
       "  </tbody>\n",
       "</table>\n",
       "</div>"
      ],
      "text/plain": [
       "   Unnamed: 0      avg_kwh   Latitude  Longitude  Heated_SquareFeet  \\\n",
       "0        6410  1027.639344  29.705515 -82.364586             1516.0   \n",
       "1        4903   766.774510  29.612746 -82.371744             1172.0   \n",
       "2         367   544.843137  29.611465 -82.360356             5944.0   \n",
       "3        2448  1026.689320  29.675848 -82.384052             1684.0   \n",
       "4        4206   500.291262  29.635181 -82.343227             1120.0   \n",
       "\n",
       "   kwh_per_sqft  code_release_act  code_release_pred  pred_resid  \n",
       "0      0.677862                16          18.149881   -2.149881  \n",
       "1      0.654244                24          22.207415    1.792585  \n",
       "2      0.091663                20          20.141803   -0.141803  \n",
       "3      0.609673                20          18.125896    1.874104  \n",
       "4      0.446689                18          18.849894   -0.849894  "
      ]
     },
     "execution_count": 39,
     "metadata": {},
     "output_type": "execute_result"
    }
   ],
   "source": [
    "resid_df.head()"
   ]
  },
  {
   "cell_type": "code",
   "execution_count": 40,
   "metadata": {},
   "outputs": [],
   "source": [
    "preds_min_df = resid_df.sort_values(by=['pred_resid'], ascending=False)"
   ]
  },
  {
   "cell_type": "code",
   "execution_count": 41,
   "metadata": {},
   "outputs": [],
   "source": [
    "preds_min_df = preds_min_df.reset_index(drop=True)"
   ]
  },
  {
   "cell_type": "code",
   "execution_count": 42,
   "metadata": {},
   "outputs": [
    {
     "data": {
      "text/html": [
       "<div>\n",
       "<style scoped>\n",
       "    .dataframe tbody tr th:only-of-type {\n",
       "        vertical-align: middle;\n",
       "    }\n",
       "\n",
       "    .dataframe tbody tr th {\n",
       "        vertical-align: top;\n",
       "    }\n",
       "\n",
       "    .dataframe thead th {\n",
       "        text-align: right;\n",
       "    }\n",
       "</style>\n",
       "<table border=\"1\" class=\"dataframe\">\n",
       "  <thead>\n",
       "    <tr style=\"text-align: right;\">\n",
       "      <th></th>\n",
       "      <th>Unnamed: 0</th>\n",
       "      <th>avg_kwh</th>\n",
       "      <th>Latitude</th>\n",
       "      <th>Longitude</th>\n",
       "      <th>Heated_SquareFeet</th>\n",
       "      <th>kwh_per_sqft</th>\n",
       "      <th>code_release_act</th>\n",
       "      <th>code_release_pred</th>\n",
       "      <th>pred_resid</th>\n",
       "    </tr>\n",
       "  </thead>\n",
       "  <tbody>\n",
       "    <tr>\n",
       "      <th>0</th>\n",
       "      <td>1772</td>\n",
       "      <td>336.141414</td>\n",
       "      <td>29.655511</td>\n",
       "      <td>-82.303003</td>\n",
       "      <td>1032.0</td>\n",
       "      <td>0.325718</td>\n",
       "      <td>30</td>\n",
       "      <td>17.991768</td>\n",
       "      <td>12.008232</td>\n",
       "    </tr>\n",
       "    <tr>\n",
       "      <th>1</th>\n",
       "      <td>2664</td>\n",
       "      <td>781.207317</td>\n",
       "      <td>29.657335</td>\n",
       "      <td>-82.301698</td>\n",
       "      <td>1288.0</td>\n",
       "      <td>0.606527</td>\n",
       "      <td>29</td>\n",
       "      <td>17.866151</td>\n",
       "      <td>11.133849</td>\n",
       "    </tr>\n",
       "    <tr>\n",
       "      <th>2</th>\n",
       "      <td>7787</td>\n",
       "      <td>419.770000</td>\n",
       "      <td>29.654719</td>\n",
       "      <td>-82.303309</td>\n",
       "      <td>1647.0</td>\n",
       "      <td>0.254869</td>\n",
       "      <td>29</td>\n",
       "      <td>17.977489</td>\n",
       "      <td>11.022511</td>\n",
       "    </tr>\n",
       "    <tr>\n",
       "      <th>3</th>\n",
       "      <td>10658</td>\n",
       "      <td>726.708738</td>\n",
       "      <td>29.665694</td>\n",
       "      <td>-82.391749</td>\n",
       "      <td>2382.0</td>\n",
       "      <td>0.305083</td>\n",
       "      <td>29</td>\n",
       "      <td>18.101922</td>\n",
       "      <td>10.898078</td>\n",
       "    </tr>\n",
       "    <tr>\n",
       "      <th>4</th>\n",
       "      <td>9180</td>\n",
       "      <td>640.279070</td>\n",
       "      <td>29.636609</td>\n",
       "      <td>-82.335384</td>\n",
       "      <td>2064.0</td>\n",
       "      <td>0.310213</td>\n",
       "      <td>29</td>\n",
       "      <td>18.653999</td>\n",
       "      <td>10.346001</td>\n",
       "    </tr>\n",
       "  </tbody>\n",
       "</table>\n",
       "</div>"
      ],
      "text/plain": [
       "   Unnamed: 0     avg_kwh   Latitude  Longitude  Heated_SquareFeet  \\\n",
       "0        1772  336.141414  29.655511 -82.303003             1032.0   \n",
       "1        2664  781.207317  29.657335 -82.301698             1288.0   \n",
       "2        7787  419.770000  29.654719 -82.303309             1647.0   \n",
       "3       10658  726.708738  29.665694 -82.391749             2382.0   \n",
       "4        9180  640.279070  29.636609 -82.335384             2064.0   \n",
       "\n",
       "   kwh_per_sqft  code_release_act  code_release_pred  pred_resid  \n",
       "0      0.325718                30          17.991768   12.008232  \n",
       "1      0.606527                29          17.866151   11.133849  \n",
       "2      0.254869                29          17.977489   11.022511  \n",
       "3      0.305083                29          18.101922   10.898078  \n",
       "4      0.310213                29          18.653999   10.346001  "
      ]
     },
     "execution_count": 42,
     "metadata": {},
     "output_type": "execute_result"
    }
   ],
   "source": [
    "preds_min_df.head()"
   ]
  },
  {
   "cell_type": "code",
   "execution_count": 43,
   "metadata": {},
   "outputs": [
    {
     "data": {
      "text/html": [
       "<div>\n",
       "<style scoped>\n",
       "    .dataframe tbody tr th:only-of-type {\n",
       "        vertical-align: middle;\n",
       "    }\n",
       "\n",
       "    .dataframe tbody tr th {\n",
       "        vertical-align: top;\n",
       "    }\n",
       "\n",
       "    .dataframe thead th {\n",
       "        text-align: right;\n",
       "    }\n",
       "</style>\n",
       "<table border=\"1\" class=\"dataframe\">\n",
       "  <thead>\n",
       "    <tr style=\"text-align: right;\">\n",
       "      <th></th>\n",
       "      <th>Unnamed: 0</th>\n",
       "      <th>avg_kwh</th>\n",
       "      <th>Latitude</th>\n",
       "      <th>Longitude</th>\n",
       "      <th>Heated_SquareFeet</th>\n",
       "      <th>kwh_per_sqft</th>\n",
       "      <th>code_release_act</th>\n",
       "      <th>code_release_pred</th>\n",
       "      <th>pred_resid</th>\n",
       "      <th>phase</th>\n",
       "    </tr>\n",
       "  </thead>\n",
       "  <tbody>\n",
       "    <tr>\n",
       "      <th>0</th>\n",
       "      <td>1772</td>\n",
       "      <td>336.141414</td>\n",
       "      <td>29.655511</td>\n",
       "      <td>-82.303003</td>\n",
       "      <td>1032.0</td>\n",
       "      <td>0.325718</td>\n",
       "      <td>30</td>\n",
       "      <td>17.991768</td>\n",
       "      <td>12.008232</td>\n",
       "      <td>12.008232</td>\n",
       "    </tr>\n",
       "    <tr>\n",
       "      <th>1</th>\n",
       "      <td>2664</td>\n",
       "      <td>781.207317</td>\n",
       "      <td>29.657335</td>\n",
       "      <td>-82.301698</td>\n",
       "      <td>1288.0</td>\n",
       "      <td>0.606527</td>\n",
       "      <td>29</td>\n",
       "      <td>17.866151</td>\n",
       "      <td>11.133849</td>\n",
       "      <td>11.133849</td>\n",
       "    </tr>\n",
       "    <tr>\n",
       "      <th>2</th>\n",
       "      <td>7787</td>\n",
       "      <td>419.770000</td>\n",
       "      <td>29.654719</td>\n",
       "      <td>-82.303309</td>\n",
       "      <td>1647.0</td>\n",
       "      <td>0.254869</td>\n",
       "      <td>29</td>\n",
       "      <td>17.977489</td>\n",
       "      <td>11.022511</td>\n",
       "      <td>11.022511</td>\n",
       "    </tr>\n",
       "    <tr>\n",
       "      <th>3</th>\n",
       "      <td>10658</td>\n",
       "      <td>726.708738</td>\n",
       "      <td>29.665694</td>\n",
       "      <td>-82.391749</td>\n",
       "      <td>2382.0</td>\n",
       "      <td>0.305083</td>\n",
       "      <td>29</td>\n",
       "      <td>18.101922</td>\n",
       "      <td>10.898078</td>\n",
       "      <td>10.898078</td>\n",
       "    </tr>\n",
       "    <tr>\n",
       "      <th>4</th>\n",
       "      <td>9180</td>\n",
       "      <td>640.279070</td>\n",
       "      <td>29.636609</td>\n",
       "      <td>-82.335384</td>\n",
       "      <td>2064.0</td>\n",
       "      <td>0.310213</td>\n",
       "      <td>29</td>\n",
       "      <td>18.653999</td>\n",
       "      <td>10.346001</td>\n",
       "      <td>10.346001</td>\n",
       "    </tr>\n",
       "  </tbody>\n",
       "</table>\n",
       "</div>"
      ],
      "text/plain": [
       "   Unnamed: 0     avg_kwh   Latitude  Longitude  Heated_SquareFeet  \\\n",
       "0        1772  336.141414  29.655511 -82.303003             1032.0   \n",
       "1        2664  781.207317  29.657335 -82.301698             1288.0   \n",
       "2        7787  419.770000  29.654719 -82.303309             1647.0   \n",
       "3       10658  726.708738  29.665694 -82.391749             2382.0   \n",
       "4        9180  640.279070  29.636609 -82.335384             2064.0   \n",
       "\n",
       "   kwh_per_sqft  code_release_act  code_release_pred  pred_resid      phase  \n",
       "0      0.325718                30          17.991768   12.008232  12.008232  \n",
       "1      0.606527                29          17.866151   11.133849  11.133849  \n",
       "2      0.254869                29          17.977489   11.022511  11.022511  \n",
       "3      0.305083                29          18.101922   10.898078  10.898078  \n",
       "4      0.310213                29          18.653999   10.346001  10.346001  "
      ]
     },
     "execution_count": 43,
     "metadata": {},
     "output_type": "execute_result"
    }
   ],
   "source": [
    "preds_min_df['phase'] = preds_min_df['pred_resid']\n",
    "preds_min_df.head()"
   ]
  },
  {
   "cell_type": "code",
   "execution_count": 44,
   "metadata": {},
   "outputs": [],
   "source": [
    "phase_df = preds_min_df[['phase']]"
   ]
  },
  {
   "cell_type": "code",
   "execution_count": 45,
   "metadata": {},
   "outputs": [
    {
     "name": "stderr",
     "output_type": "stream",
     "text": [
      "\n",
      "A value is trying to be set on a copy of a slice from a DataFrame\n",
      "\n",
      "See the caveats in the documentation: https://pandas.pydata.org/pandas-docs/stable/user_guide/indexing.html#returning-a-view-versus-a-copy\n",
      "\n",
      "A value is trying to be set on a copy of a slice from a DataFrame\n",
      "\n",
      "See the caveats in the documentation: https://pandas.pydata.org/pandas-docs/stable/user_guide/indexing.html#returning-a-view-versus-a-copy\n",
      "\n",
      "A value is trying to be set on a copy of a slice from a DataFrame\n",
      "\n",
      "See the caveats in the documentation: https://pandas.pydata.org/pandas-docs/stable/user_guide/indexing.html#returning-a-view-versus-a-copy\n",
      "\n",
      "A value is trying to be set on a copy of a slice from a DataFrame\n",
      "\n",
      "See the caveats in the documentation: https://pandas.pydata.org/pandas-docs/stable/user_guide/indexing.html#returning-a-view-versus-a-copy\n",
      "\n",
      "A value is trying to be set on a copy of a slice from a DataFrame\n",
      "\n",
      "See the caveats in the documentation: https://pandas.pydata.org/pandas-docs/stable/user_guide/indexing.html#returning-a-view-versus-a-copy\n"
     ]
    }
   ],
   "source": [
    "#8615\n",
    "phase_num = len(preds_min_df)/4\n",
    "phase_1 = phase_num\n",
    "phase_2 = phase_num*2\n",
    "phase_3 = phase_num*3\n",
    "phase_4 = phase_num*4\n",
    "\n",
    "\n",
    "phase_df.loc[0:phase_1, 'phase'] = 1\n",
    "phase_df.loc[phase_1:phase_2, 'phase'] = 2\n",
    "phase_df.loc[phase_2:phase_3, 'phase'] = 3\n",
    "phase_df.loc[phase_3:phase_4, 'phase'] = 4"
   ]
  },
  {
   "cell_type": "code",
   "execution_count": 47,
   "metadata": {},
   "outputs": [
    {
     "name": "stdout",
     "output_type": "stream",
     "text": [
      "<class 'pandas.core.frame.DataFrame'>\n",
      "RangeIndex: 5384 entries, 0 to 5383\n",
      "Data columns (total 10 columns):\n",
      " #   Column             Non-Null Count  Dtype  \n",
      "---  ------             --------------  -----  \n",
      " 0   Unnamed: 0         5384 non-null   int64  \n",
      " 1   avg_kwh            5384 non-null   float64\n",
      " 2   Latitude           5384 non-null   float64\n",
      " 3   Longitude          5384 non-null   float64\n",
      " 4   Heated_SquareFeet  5384 non-null   float64\n",
      " 5   kwh_per_sqft       5384 non-null   float64\n",
      " 6   code_release_act   5384 non-null   int64  \n",
      " 7   code_release_pred  5384 non-null   float64\n",
      " 8   pred_resid         5384 non-null   float64\n",
      " 9   phase              5384 non-null   float64\n",
      "dtypes: float64(8), int64(2)\n",
      "memory usage: 420.8 KB\n"
     ]
    }
   ],
   "source": [
    "preds_min_df['phase'] = phase_df\n",
    "preds_min_df.info()"
   ]
  },
  {
   "cell_type": "code",
   "execution_count": 201,
   "metadata": {},
   "outputs": [
    {
     "name": "stdout",
     "output_type": "stream",
     "text": [
      "3212.1891155807666 3302.7971164640726 3182.907276495421 4011.506785622089\n"
     ]
    }
   ],
   "source": [
    "# calculate avg kwh for each phase \n",
    "phase_1_avg = preds_min_df[preds_min_df['phase'] == 1]['avg_kwh'].agg('mean')\n",
    "phase_2_avg = preds_min_df[preds_min_df['phase'] == 2]['avg_kwh'].agg('mean')\n",
    "phase_3_avg = preds_min_df[preds_min_df['phase'] == 3]['avg_kwh'].agg('mean')\n",
    "phase_4_avg = preds_min_df[preds_min_df['phase'] == 4]['avg_kwh'].agg('mean')\n",
    "print(phase_1_avg, phase_2_avg, phase_3_avg, phase_4_avg)"
   ]
  },
  {
   "cell_type": "markdown",
   "metadata": {},
   "source": [
    "#### Add dates for phases"
   ]
  },
  {
   "cell_type": "code",
   "execution_count": 290,
   "metadata": {},
   "outputs": [],
   "source": [
    "# # Create a dataframe with index length of my prediction \n",
    "# date_df.index = pd.to_datetime(date_df.index, infer_datetime_format=True)\n",
    "# index = pd.date_range(start='2020-01-31', end='2022-01-31', freq='M')\n",
    "# columns = ['phase']\n",
    "# future_kwh_full = pd.DataFrame(index=index, columns=columns)"
   ]
  },
  {
   "cell_type": "code",
   "execution_count": 272,
   "metadata": {},
   "outputs": [
    {
     "data": {
      "text/html": [
       "<div>\n",
       "<style scoped>\n",
       "    .dataframe tbody tr th:only-of-type {\n",
       "        vertical-align: middle;\n",
       "    }\n",
       "\n",
       "    .dataframe tbody tr th {\n",
       "        vertical-align: top;\n",
       "    }\n",
       "\n",
       "    .dataframe thead th {\n",
       "        text-align: right;\n",
       "    }\n",
       "</style>\n",
       "<table border=\"1\" class=\"dataframe\">\n",
       "  <thead>\n",
       "    <tr style=\"text-align: right;\">\n",
       "      <th></th>\n",
       "      <th>phase</th>\n",
       "    </tr>\n",
       "  </thead>\n",
       "  <tbody>\n",
       "    <tr>\n",
       "      <th>2020-01-31</th>\n",
       "      <td>NaN</td>\n",
       "    </tr>\n",
       "    <tr>\n",
       "      <th>2020-02-29</th>\n",
       "      <td>NaN</td>\n",
       "    </tr>\n",
       "    <tr>\n",
       "      <th>2020-03-31</th>\n",
       "      <td>NaN</td>\n",
       "    </tr>\n",
       "    <tr>\n",
       "      <th>2020-04-30</th>\n",
       "      <td>NaN</td>\n",
       "    </tr>\n",
       "    <tr>\n",
       "      <th>2020-05-31</th>\n",
       "      <td>NaN</td>\n",
       "    </tr>\n",
       "  </tbody>\n",
       "</table>\n",
       "</div>"
      ],
      "text/plain": [
       "           phase\n",
       "2020-01-31   NaN\n",
       "2020-02-29   NaN\n",
       "2020-03-31   NaN\n",
       "2020-04-30   NaN\n",
       "2020-05-31   NaN"
      ]
     },
     "execution_count": 272,
     "metadata": {},
     "output_type": "execute_result"
    }
   ],
   "source": [
    "future_kwh_full.head()"
   ]
  },
  {
   "cell_type": "markdown",
   "metadata": {},
   "source": [
    "#### Export for efficiency phase rollout simulation in Dash"
   ]
  },
  {
   "cell_type": "code",
   "execution_count": 266,
   "metadata": {},
   "outputs": [],
   "source": [
    "# export efficiency improvement rollout df for use in Carbon zero simulation\n",
    "preds_min_df.to_csv(r'stationary-data/preds_min_df.csv', header=True)"
   ]
  },
  {
   "cell_type": "code",
   "execution_count": 267,
   "metadata": {},
   "outputs": [
    {
     "data": {
      "text/html": [
       "<div>\n",
       "<style scoped>\n",
       "    .dataframe tbody tr th:only-of-type {\n",
       "        vertical-align: middle;\n",
       "    }\n",
       "\n",
       "    .dataframe tbody tr th {\n",
       "        vertical-align: top;\n",
       "    }\n",
       "\n",
       "    .dataframe thead th {\n",
       "        text-align: right;\n",
       "    }\n",
       "</style>\n",
       "<table border=\"1\" class=\"dataframe\">\n",
       "  <thead>\n",
       "    <tr style=\"text-align: right;\">\n",
       "      <th></th>\n",
       "      <th>Parcel Number</th>\n",
       "      <th>avg_kwh</th>\n",
       "      <th>Heated_SquareFeet</th>\n",
       "      <th>kwh_per_sqft</th>\n",
       "      <th>code_release_pred</th>\n",
       "      <th>code_release</th>\n",
       "      <th>pred_resid</th>\n",
       "      <th>phase</th>\n",
       "    </tr>\n",
       "  </thead>\n",
       "  <tbody>\n",
       "    <tr>\n",
       "      <th>0</th>\n",
       "      <td>9024003000</td>\n",
       "      <td>205.030303</td>\n",
       "      <td>2440.0</td>\n",
       "      <td>0.084029</td>\n",
       "      <td>16.387264</td>\n",
       "      <td>30</td>\n",
       "      <td>13.612736</td>\n",
       "      <td>1.0</td>\n",
       "    </tr>\n",
       "    <tr>\n",
       "      <th>1</th>\n",
       "      <td>9971001000</td>\n",
       "      <td>386.581395</td>\n",
       "      <td>8158.0</td>\n",
       "      <td>0.047387</td>\n",
       "      <td>15.940885</td>\n",
       "      <td>29</td>\n",
       "      <td>13.059115</td>\n",
       "      <td>1.0</td>\n",
       "    </tr>\n",
       "    <tr>\n",
       "      <th>2</th>\n",
       "      <td>10606014000</td>\n",
       "      <td>1032.479592</td>\n",
       "      <td>1260.0</td>\n",
       "      <td>0.819428</td>\n",
       "      <td>17.441719</td>\n",
       "      <td>30</td>\n",
       "      <td>12.558281</td>\n",
       "      <td>1.0</td>\n",
       "    </tr>\n",
       "    <tr>\n",
       "      <th>3</th>\n",
       "      <td>11105000000</td>\n",
       "      <td>336.141414</td>\n",
       "      <td>1032.0</td>\n",
       "      <td>0.325718</td>\n",
       "      <td>17.583820</td>\n",
       "      <td>30</td>\n",
       "      <td>12.416180</td>\n",
       "      <td>1.0</td>\n",
       "    </tr>\n",
       "    <tr>\n",
       "      <th>4</th>\n",
       "      <td>11686014000</td>\n",
       "      <td>579.281553</td>\n",
       "      <td>908.0</td>\n",
       "      <td>0.637975</td>\n",
       "      <td>16.778669</td>\n",
       "      <td>29</td>\n",
       "      <td>12.221331</td>\n",
       "      <td>1.0</td>\n",
       "    </tr>\n",
       "  </tbody>\n",
       "</table>\n",
       "</div>"
      ],
      "text/plain": [
       "   Parcel Number      avg_kwh  Heated_SquareFeet  kwh_per_sqft  \\\n",
       "0     9024003000   205.030303             2440.0      0.084029   \n",
       "1     9971001000   386.581395             8158.0      0.047387   \n",
       "2    10606014000  1032.479592             1260.0      0.819428   \n",
       "3    11105000000   336.141414             1032.0      0.325718   \n",
       "4    11686014000   579.281553              908.0      0.637975   \n",
       "\n",
       "   code_release_pred  code_release  pred_resid  phase  \n",
       "0          16.387264            30   13.612736    1.0  \n",
       "1          15.940885            29   13.059115    1.0  \n",
       "2          17.441719            30   12.558281    1.0  \n",
       "3          17.583820            30   12.416180    1.0  \n",
       "4          16.778669            29   12.221331    1.0  "
      ]
     },
     "execution_count": 267,
     "metadata": {},
     "output_type": "execute_result"
    }
   ],
   "source": [
    "preds_min_df.head()"
   ]
  },
  {
   "cell_type": "markdown",
   "metadata": {},
   "source": [
    "<h4>What is the distribution of efficiency values for an given address over time?</h4>"
   ]
  },
  {
   "cell_type": "code",
   "execution_count": 214,
   "metadata": {},
   "outputs": [],
   "source": [
    "#  electricity_df[200:400]"
   ]
  },
  {
   "cell_type": "code",
   "execution_count": 212,
   "metadata": {},
   "outputs": [],
   "source": [
    "# add_1 = electricity_df[electricity_df['Service Address'] == '8574 SW 26TH LN']\n",
    "# add_2 = electricity_df[electricity_df['Service Address'] == '8901 SW 67TH PL']\n",
    "# add_3 = electricity_df[electricity_df['Service Address'] == '916 NW 6TH AVE']"
   ]
  },
  {
   "cell_type": "code",
   "execution_count": 213,
   "metadata": {},
   "outputs": [],
   "source": [
    "# add_1 = add_1.sort_values(by=['Date'])\n",
    "# add_2 = add_2.sort_values(by=['Date'])\n",
    "# add_3 = add_3.sort_values(by=['Date'])"
   ]
  },
  {
   "cell_type": "code",
   "execution_count": 211,
   "metadata": {},
   "outputs": [],
   "source": [
    "# # plot efficiency values for 8574 SW 26TH LN\n",
    "\n",
    "# x = add_1['Date']\n",
    "# y = add_1['preds']*100\n",
    "\n",
    "# # plot energy consumption at same address \n",
    "# x2 = add_2['Date']\n",
    "# y2 = add_2['KWH Consumption']\n",
    "\n",
    "# # x3 = add_3['Date']\n",
    "# # y3 = add_3['preds']\n",
    "\n",
    "\n",
    "# fig, ax = plt.subplots(figsize=(20,5))\n",
    "# ax.plot(x3, y3)\n",
    "# ax.plot(x2, y2)\n",
    "# ax.plot(x, y)\n",
    "# ax.set_title('Efficiency Values for 8574 SW 26TH LN and 8901 SW 67TH PL')\n",
    "# ax.set_xlabel('Date (2012 - 2020)')\n",
    "# ax.set_ylabel('Efficiency Value')\n",
    "# plt.xticks()\n",
    "# plt.legend(loc=0)"
   ]
  },
  {
   "cell_type": "code",
   "execution_count": 210,
   "metadata": {},
   "outputs": [],
   "source": [
    "# add_3.describe()"
   ]
  },
  {
   "cell_type": "code",
   "execution_count": 209,
   "metadata": {},
   "outputs": [],
   "source": [
    "# add_2.describe()"
   ]
  },
  {
   "cell_type": "code",
   "execution_count": 208,
   "metadata": {},
   "outputs": [],
   "source": [
    "# add_1.describe()"
   ]
  },
  {
   "cell_type": "code",
   "execution_count": 21,
   "metadata": {},
   "outputs": [],
   "source": []
  },
  {
   "cell_type": "code",
   "execution_count": 206,
   "metadata": {},
   "outputs": [],
   "source": [
    "# add_2.head()"
   ]
  },
  {
   "cell_type": "code",
   "execution_count": 207,
   "metadata": {},
   "outputs": [],
   "source": [
    "# # plot efficiency values for a single address\n",
    "\n",
    "# x2 = add_2['Date']\n",
    "# y2 = add_2['preds']\n",
    "\n",
    "# fig, ax = plt.subplots(figsize=(20,10))\n",
    "\n",
    "# ax.plot(x2, y2)\n",
    "# ax.set_title('Efficiency Values for 8901 SW 67TH PL')\n",
    "# ax.set_xlabel('Date (2012 - 2020)')\n",
    "# ax.set_ylabel('Efficiency Value')"
   ]
  },
  {
   "cell_type": "code",
   "execution_count": null,
   "metadata": {},
   "outputs": [],
   "source": []
  }
 ],
 "metadata": {
  "kernelspec": {
   "display_name": "Python 3",
   "language": "python",
   "name": "python3"
  },
  "language_info": {
   "codemirror_mode": {
    "name": "ipython",
    "version": 3
   },
   "file_extension": ".py",
   "mimetype": "text/x-python",
   "name": "python",
   "nbconvert_exporter": "python",
   "pygments_lexer": "ipython3",
   "version": "3.7.9"
  }
 },
 "nbformat": 4,
 "nbformat_minor": 4
}
